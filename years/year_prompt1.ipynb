{
 "cells": [
  {
   "cell_type": "code",
   "execution_count": null,
   "id": "1b3280ed",
   "metadata": {},
   "outputs": [
    {
     "name": "stderr",
     "output_type": "stream",
     "text": []
    },
    {
     "name": "stdout",
     "output_type": "stream",
     "text": [
      "⚠️ GPT-4.1-mini failed on Armstrong_Flooring_Inc_SustainabilityReport-2020_kot54emv.pdf, fallback to Vision...\n"
     ]
    },
    {
     "name": "stderr",
     "output_type": "stream",
     "text": []
    },
    {
     "name": "stdout",
     "output_type": "stream",
     "text": [
      "⚠️ GPT-4.1-mini failed on Arvind_Ltd_Arvind_AR_2022-23_0_iwp4673c.pdf, fallback to Vision...\n"
     ]
    },
    {
     "name": "stderr",
     "output_type": "stream",
     "text": [
      "\n",
      "📄 Processing PDFs:   9%|▉         | 114/1278 [02:35<30:26,  1.57s/it]"
     ]
    },
    {
     "name": "stdout",
     "output_type": "stream",
     "text": [
      "⚠️ GPT-4.1-mini failed on BASF_SE_2012_BASF_Report_lmq79gwn.pdf, fallback to Vision...\n"
     ]
    },
    {
     "name": "stderr",
     "output_type": "stream",
     "text": [
      "\u001b[A"
     ]
    },
    {
     "name": "stdout",
     "output_type": "stream",
     "text": [
      "⚠️ GPT-4.1-mini failed on Boryung_Corporation_EBB3B4EBA0B920ECA780EC868DEAB080EB8AA5EAB2BDEC9881EBB3B4EAB3A0EC849CEC9881EBACB8_ebpit5lz.pdf, fallback to Vision...\n"
     ]
    },
    {
     "name": "stderr",
     "output_type": "stream",
     "text": []
    },
    {
     "name": "stdout",
     "output_type": "stream",
     "text": [
      "⚠️ GPT-4.1-mini failed on EKI_Energy_Services_Limited_69298543284_zj7y1tjh.pdf, fallback to Vision...\n"
     ]
    },
    {
     "name": "stderr",
     "output_type": "stream",
     "text": []
    },
    {
     "name": "stdout",
     "output_type": "stream",
     "text": [
      "⚠️ GPT-4.1-mini failed on Hansae_Yes24_Holdings_Co_Ltd_HANSAE20YES2420HOLDINGS20ESG20REPORT202022_th5kzsfk.pdf, fallback to Vision...\n"
     ]
    },
    {
     "name": "stderr",
     "output_type": "stream",
     "text": []
    },
    {
     "name": "stdout",
     "output_type": "stream",
     "text": [
      "⚠️ GPT-4.1-mini failed on Home_Inns__Hotels_Management_Inc_Barclays_Bank_PLC_Annual_Report_202014_5lj1epic.pdf, fallback to Vision...\n"
     ]
    },
    {
     "name": "stderr",
     "output_type": "stream",
     "text": []
    },
    {
     "name": "stdout",
     "output_type": "stream",
     "text": [
      "⚠️ GPT-4.1-mini failed on Hyosung_Corp_SR_2020_en_8g98j6gk.pdf, fallback to Vision...\n"
     ]
    },
    {
     "name": "stderr",
     "output_type": "stream",
     "text": []
    },
    {
     "name": "stdout",
     "output_type": "stream",
     "text": [
      "⚠️ GPT-4.1-mini failed on KNT-CT_Holdings_Co_Ltd_Kintetsu_Group_Integrated_Report_2022_english_single_1mc85xmw.pdf, fallback to Vision...\n"
     ]
    },
    {
     "name": "stderr",
     "output_type": "stream",
     "text": []
    },
    {
     "name": "stdout",
     "output_type": "stream",
     "text": [
      "⚠️ GPT-4.1-mini failed on MEG_Energy_Corp_MEG-Energy-ESG-Report-2021_mrqyijmb.pdf, fallback to Vision...\n",
      "⚠️ GPT-4.1-mini failed on Majesco_NYSE_MJCO_2019_nymj6mmx.pdf, fallback to Vision...\n"
     ]
    },
    {
     "name": "stderr",
     "output_type": "stream",
     "text": []
    },
    {
     "name": "stdout",
     "output_type": "stream",
     "text": [
      "⚠️ GPT-4.1-mini failed on Make_Corporation_SR16_E_All_nbedqzc7.pdf, fallback to Vision...\n"
     ]
    },
    {
     "name": "stderr",
     "output_type": "stream",
     "text": [
      "\n"
     ]
    },
    {
     "name": "stdout",
     "output_type": "stream",
     "text": [
      "⚠️ GPT-4.1-mini failed on Tam_Jai_International_Co_Ltd_2022083101184_go5rbp4a.pdf, fallback to Vision...\n"
     ]
    },
    {
     "name": "stderr",
     "output_type": "stream",
     "text": [
      "📄 Processing PDFs:  72%|███████▏  | 922/1278 [30:40<09:39,  1.63s/it]\u001b[A"
     ]
    },
    {
     "name": "stdout",
     "output_type": "stream",
     "text": [
      "⚠️ GPT-4.1-mini failed on Unknown_12179822783690541_bl1b3clg.pdf, fallback to Vision...\n"
     ]
    },
    {
     "name": "stderr",
     "output_type": "stream",
     "text": []
    },
    {
     "name": "stdout",
     "output_type": "stream",
     "text": [
      "⚠️ GPT-4.1-mini failed on Unknown_1380859_ejohf4m6.pdf, fallback to Vision...\n"
     ]
    },
    {
     "name": "stderr",
     "output_type": "stream",
     "text": []
    },
    {
     "name": "stdout",
     "output_type": "stream",
     "text": [
      "⚠️ GPT-4.1-mini failed on Unknown_160307_ica_gruppen_annual_report_2015_1twa6vev.pdf, fallback to Vision...\n",
      "⚠️ GPT-4.1-mini failed on Unknown_16193538730635fl8wi_wl8x0grs.pdf, fallback to Vision...\n"
     ]
    },
    {
     "name": "stderr",
     "output_type": "stream",
     "text": []
    },
    {
     "name": "stdout",
     "output_type": "stream",
     "text": [
      "⚠️ GPT-4.1-mini failed on Unknown_1632746560527_UK20Rai20RFA202020_2ve43jdy.pdf, fallback to Vision...\n",
      "⚠️ GPT-4.1-mini failed on Unknown_16843_7hq7wx9k.pdf, fallback to Vision...\n"
     ]
    },
    {
     "name": "stderr",
     "output_type": "stream",
     "text": []
    },
    {
     "name": "stdout",
     "output_type": "stream",
     "text": [
      "⚠️ GPT-4.1-mini failed on Unknown_17_Oracle_OpenWorld_Sustainability_Report_MeetGreen_6p5077lr.pdf, fallback to Vision...\n",
      "⚠️ GPT-4.1-mini failed on Unknown_18068976dae00000834d_rc1svlrs.pdf, fallback to Vision...\n"
     ]
    },
    {
     "name": "stderr",
     "output_type": "stream",
     "text": []
    },
    {
     "name": "stdout",
     "output_type": "stream",
     "text": [
      "⚠️ GPT-4.1-mini failed on Unknown_1901_4ch3st16.pdf, fallback to Vision...\n",
      "⚠️ GPT-4.1-mini failed on Unknown_1996-Annual-Report_smz0trf7.pdf, fallback to Vision...\n"
     ]
    },
    {
     "name": "stderr",
     "output_type": "stream",
     "text": []
    },
    {
     "name": "stdout",
     "output_type": "stream",
     "text": [
      "⚠️ GPT-4.1-mini failed on Unknown_200420Bunce20et20al_5slw68cl.pdf, fallback to Vision...\n"
     ]
    },
    {
     "name": "stderr",
     "output_type": "stream",
     "text": []
    },
    {
     "name": "stdout",
     "output_type": "stream",
     "text": [
      "⚠️ GPT-4.1-mini failed on Unknown_2004e_xtectedg.pdf, fallback to Vision...\n",
      "⚠️ GPT-4.1-mini failed on Unknown_2004report21_22_e_1ohsl6bx.pdf, fallback to Vision...\n",
      "⚠️ GPT-4.1-mini failed on Unknown_2005-6_Annual_Report_jbhlnigk.pdf, fallback to Vision...\n"
     ]
    },
    {
     "name": "stderr",
     "output_type": "stream",
     "text": []
    },
    {
     "name": "stdout",
     "output_type": "stream",
     "text": [
      "⚠️ GPT-4.1-mini failed on Unknown_2005_annual_report_-_full_version_e6bnee0f.pdf, fallback to Vision...\n",
      "⚠️ GPT-4.1-mini failed on Unknown_2007-annual-report_jv0d30ri.pdf, fallback to Vision...\n"
     ]
    },
    {
     "name": "stderr",
     "output_type": "stream",
     "text": []
    },
    {
     "name": "stdout",
     "output_type": "stream",
     "text": [
      "⚠️ GPT-4.1-mini failed on Unknown_2008-Annual-Report-English_robzpu59.pdf, fallback to Vision...\n",
      "⚠️ GPT-4.1-mini failed on Unknown_2010_annual_report_low_res_cumrzxaz.pdf, fallback to Vision...\n"
     ]
    },
    {
     "name": "stderr",
     "output_type": "stream",
     "text": []
    },
    {
     "name": "stdout",
     "output_type": "stream",
     "text": [
      "⚠️ GPT-4.1-mini failed on Unknown_2010_halysg5q.pdf, fallback to Vision...\n",
      "⚠️ GPT-4.1-mini failed on Unknown_2011-Annual-Report-and-Accounts-for-the-year-ended-31-December-20111_yea72djn.pdf, fallback to Vision...\n"
     ]
    },
    {
     "name": "stderr",
     "output_type": "stream",
     "text": []
    },
    {
     "name": "stdout",
     "output_type": "stream",
     "text": [
      "⚠️ GPT-4.1-mini failed on Unknown_201120Annual20Reportpdfdownloadasset_im1lupqn.pdf, fallback to Vision...\n",
      "⚠️ GPT-4.1-mini failed on Unknown_2011_2012_ps1c4ya4.pdf, fallback to Vision...\n"
     ]
    },
    {
     "name": "stderr",
     "output_type": "stream",
     "text": []
    },
    {
     "name": "stdout",
     "output_type": "stream",
     "text": [
      "⚠️ GPT-4.1-mini failed on Unknown_2012-annual-report-india_0x2x8vc3.pdf, fallback to Vision...\n",
      "⚠️ GPT-4.1-mini failed on Unknown_2012_27tj3yg2.pdf, fallback to Vision...\n"
     ]
    },
    {
     "name": "stderr",
     "output_type": "stream",
     "text": []
    },
    {
     "name": "stdout",
     "output_type": "stream",
     "text": [
      "⚠️ GPT-4.1-mini failed on Unknown_2012_MENA_CSOSI_b0lp84pr.pdf, fallback to Vision...\n",
      "⚠️ GPT-4.1-mini failed on Unknown_2012_annual_report_botce7d9.pdf, fallback to Vision...\n"
     ]
    },
    {
     "name": "stderr",
     "output_type": "stream",
     "text": []
    },
    {
     "name": "stdout",
     "output_type": "stream",
     "text": [
      "⚠️ GPT-4.1-mini failed on Unknown_2012_zl26z8vu.pdf, fallback to Vision...\n"
     ]
    },
    {
     "name": "stderr",
     "output_type": "stream",
     "text": [
      "\n"
     ]
    },
    {
     "name": "stdout",
     "output_type": "stream",
     "text": [
      "⚠️ GPT-4.1-mini failed on Unknown_2012csr_kj8xtv1x.pdf, fallback to Vision...\n"
     ]
    },
    {
     "name": "stderr",
     "output_type": "stream",
     "text": [
      "📄 Processing PDFs:  81%|████████  | 1034/1278 [36:22<28:45,  7.07s/it]\u001b[A"
     ]
    },
    {
     "name": "stdout",
     "output_type": "stream",
     "text": [
      "⚠️ GPT-4.1-mini failed on Unknown_2013-AF-Annual-report_6peeyrk4.pdf, fallback to Vision...\n",
      "⚠️ GPT-4.1-mini failed on Unknown_201320Annual20Reportpdfdownloadasset_60msopo9.pdf, fallback to Vision...\n"
     ]
    },
    {
     "name": "stderr",
     "output_type": "stream",
     "text": []
    },
    {
     "name": "stdout",
     "output_type": "stream",
     "text": [
      "⚠️ GPT-4.1-mini failed on Unknown_2013SustainabilityManagementPlan_od2vggbm.pdf, fallback to Vision...\n",
      "⚠️ GPT-4.1-mini failed on Unknown_2014-annual-en_n7v9rtj6.pdf, fallback to Vision...\n"
     ]
    },
    {
     "name": "stderr",
     "output_type": "stream",
     "text": []
    },
    {
     "name": "stdout",
     "output_type": "stream",
     "text": [
      "⚠️ GPT-4.1-mini failed on Unknown_2014-cap-annual-report_m52nvmyx.pdf, fallback to Vision...\n",
      "⚠️ GPT-4.1-mini failed on Unknown_2014-integrated-annual-report_fk4yhuq7.pdf, fallback to Vision...\n"
     ]
    },
    {
     "name": "stderr",
     "output_type": "stream",
     "text": []
    },
    {
     "name": "stdout",
     "output_type": "stream",
     "text": [
      "⚠️ GPT-4.1-mini failed on Unknown_2014SustainRpt_FNL_lr_7mrwsfm7.pdf, fallback to Vision...\n",
      "⚠️ GPT-4.1-mini failed on Unknown_2014_Annual_Review2_x8dqx8pb.pdf, fallback to Vision...\n"
     ]
    },
    {
     "name": "stderr",
     "output_type": "stream",
     "text": []
    },
    {
     "name": "stdout",
     "output_type": "stream",
     "text": [
      "⚠️ GPT-4.1-mini failed on Unknown_2014_all_en_3rmf01h9.pdf, fallback to Vision...\n",
      "⚠️ GPT-4.1-mini failed on Unknown_2015-201620Sustainability-Report20210825_171509627_x9kgqjf9.pdf, fallback to Vision...\n"
     ]
    },
    {
     "name": "stderr",
     "output_type": "stream",
     "text": []
    },
    {
     "name": "stdout",
     "output_type": "stream",
     "text": [
      "⚠️ GPT-4.1-mini failed on Unknown_2015-AGO-Annual-Report-Final_7506locq.pdf, fallback to Vision...\n",
      "⚠️ GPT-4.1-mini failed on Unknown_2015e_all_yoox8j0o.pdf, fallback to Vision...\n"
     ]
    },
    {
     "name": "stderr",
     "output_type": "stream",
     "text": []
    },
    {
     "name": "stdout",
     "output_type": "stream",
     "text": [
      "⚠️ GPT-4.1-mini failed on Unknown_2016-Registration-Document-and-Annual-Financial-Report-HD_j9qojjae.pdf, fallback to Vision...\n",
      "⚠️ GPT-4.1-mini failed on Unknown_2016-julius-baer-corporate-sustainability-report-en_gtuteyko.pdf, fallback to Vision...\n"
     ]
    },
    {
     "name": "stderr",
     "output_type": "stream",
     "text": []
    },
    {
     "name": "stdout",
     "output_type": "stream",
     "text": [
      "⚠️ GPT-4.1-mini failed on Unknown_201603155521-1_0fo3aveg.pdf, fallback to Vision...\n",
      "⚠️ GPT-4.1-mini failed on Unknown_2016_schaeffler_sustainability_report_en_hp60o4nl.pdf, fallback to Vision...\n"
     ]
    },
    {
     "name": "stderr",
     "output_type": "stream",
     "text": []
    },
    {
     "name": "stdout",
     "output_type": "stream",
     "text": [
      "⚠️ GPT-4.1-mini failed on Unknown_2017-1820Ranken20Annual20Report_9geovmr9.pdf, fallback to Vision...\n",
      "⚠️ GPT-4.1-mini failed on Unknown_2017-Environmental-Social-Responsibility-Update_Sep-2018_o582cs82.pdf, fallback to Vision...\n"
     ]
    },
    {
     "name": "stderr",
     "output_type": "stream",
     "text": []
    },
    {
     "name": "stdout",
     "output_type": "stream",
     "text": [
      "⚠️ GPT-4.1-mini failed on Unknown_2017_Corporate_Social_Responsibility_Report20_9xmw7z2l.pdf, fallback to Vision...\n",
      "⚠️ GPT-4.1-mini failed on Unknown_2017_State_of_the_Great_Lakes_Report_Michigan_OGL_609330_7_890ws3j4.pdf, fallback to Vision...\n"
     ]
    },
    {
     "name": "stderr",
     "output_type": "stream",
     "text": []
    },
    {
     "name": "stdout",
     "output_type": "stream",
     "text": [
      "⚠️ GPT-4.1-mini failed on Unknown_2017_ar_csr_e_nr9i80sd.pdf, fallback to Vision...\n",
      "⚠️ GPT-4.1-mini failed on Unknown_2017_eng_tdzuwgvs.pdf, fallback to Vision...\n"
     ]
    },
    {
     "name": "stderr",
     "output_type": "stream",
     "text": []
    },
    {
     "name": "stdout",
     "output_type": "stream",
     "text": [
      "⚠️ GPT-4.1-mini failed on Unknown_2017_ul51uqii.pdf, fallback to Vision...\n",
      "⚠️ GPT-4.1-mini failed on Unknown_2018-company-profile_cwz968nk.pdf, fallback to Vision...\n"
     ]
    },
    {
     "name": "stderr",
     "output_type": "stream",
     "text": []
    },
    {
     "name": "stdout",
     "output_type": "stream",
     "text": [
      "⚠️ GPT-4.1-mini failed on Unknown_20180308-annual-report-incl-sustainability-report-and-corporate-governance-report-2017_yl06bvg4.pdf, fallback to Vision...\n",
      "⚠️ GPT-4.1-mini failed on Unknown_20181206_RS_Aquafil_ENG_2017_def_qcghobt1.pdf, fallback to Vision...\n"
     ]
    },
    {
     "name": "stderr",
     "output_type": "stream",
     "text": []
    },
    {
     "name": "stdout",
     "output_type": "stream",
     "text": [
      "⚠️ GPT-4.1-mini failed on Unknown_2023042101335_kyzhtmjn.pdf, fallback to Vision...\n"
     ]
    },
    {
     "name": "stderr",
     "output_type": "stream",
     "text": []
    },
    {
     "name": "stdout",
     "output_type": "stream",
     "text": [
      "⚠️ GPT-4.1-mini failed on Unknown_23076_Whitbread_AR2020_web_0v2mxh4f.pdf, fallback to Vision...\n"
     ]
    },
    {
     "name": "stderr",
     "output_type": "stream",
     "text": []
    },
    {
     "name": "stdout",
     "output_type": "stream",
     "text": [
      "⚠️ GPT-4.1-mini failed on Unknown_adbi-managing-transition-low-carbon-economy_087is5zy.pdf, fallback to Vision...\n",
      "⚠️ GPT-4.1-mini failed on Unknown_adp07-sus-fr_95qx6prh.pdf, fallback to Vision...\n"
     ]
    },
    {
     "name": "stderr",
     "output_type": "stream",
     "text": [
      "📄 Processing PDFs: 100%|██████████| 1278/1278 [45:29<00:00,  2.14s/it]\n"
     ]
    },
    {
     "name": "stdout",
     "output_type": "stream",
     "text": [
      "\n",
      "✅ Extraction complete! Results saved to: results/report_years1.csv\n"
     ]
    }
   ],
   "source": [
    "import os\n",
    "import fitz  # PyMuPDF\n",
    "import openai\n",
    "import pytesseract\n",
    "import tempfile\n",
    "import base64\n",
    "import json\n",
    "import pandas as pd\n",
    "from pathlib import Path\n",
    "from dotenv import load_dotenv\n",
    "from tqdm import tqdm\n",
    "from pdf2image import convert_from_path\n",
    "from PIL import Image\n",
    "from openai import OpenAI\n",
    "\n",
    "# ========== 1. 初始化 OpenAI ==========\n",
    "load_dotenv()\n",
    "client = OpenAI(api_key=os.getenv(\"OPENAI_API_KEY\"))\n",
    "\n",
    "# ========== 2. 提取文本：前后20页 ==========\n",
    "def extract_front_back_text(pdf_path, front_n=10, back_n=10):\n",
    "    try:\n",
    "        doc = fitz.open(pdf_path)\n",
    "        texts = [doc[i].get_text() for i in range(min(front_n, len(doc)))]\n",
    "        texts += [doc[i].get_text() for i in range(max(0, len(doc) - back_n), len(doc))]\n",
    "        doc.close()\n",
    "        full_text = \"\\n\".join(texts)\n",
    "        if len(full_text.strip()) < 50:\n",
    "            raise ValueError(\"Too little text\")\n",
    "        return full_text\n",
    "    except Exception as e:\n",
    "        print(f\"⚠️ PyMuPDF failed on {pdf_path.name}, switching to OCR...\")\n",
    "        return extract_text_with_ocr(pdf_path)\n",
    "\n",
    "# ========== 3. OCR 补救 ==========\n",
    "def extract_text_with_ocr(pdf_path, dpi=300):\n",
    "    with tempfile.TemporaryDirectory() as path:\n",
    "        images = convert_from_path(pdf_path, dpi=dpi, output_folder=path)\n",
    "        text_parts = [pytesseract.image_to_string(img) for img in images[:3] + images[-3:]]\n",
    "        return \"\\n\".join(text_parts)\n",
    "\n",
    "# ========== 4. 构造 Prompt ==========\n",
    "def build_report_year_prompt(text):\n",
    "    return f\"\"\"\n",
    "You are an expert assistant helping to extract **reporting years** or **periods** from corporate reports.\n",
    "\n",
    "Please follow the instructions carefully and return only a **JSON object** as described below.\n",
    "\n",
    "---\n",
    "\n",
    "### 📘 Task 1: Identify valid expressions for **reporting period**, **fiscal year**, or **financial year** from the input **text**, including:\n",
    "\n",
    "- Main text body\n",
    "- Tables or figures\n",
    "- Footnotes\n",
    "\n",
    "You should consider **all parts of the document**, not just plain paragraphs.  \n",
    "If a table covers a specific date range (even if only with month/year or day/month/year), treat it as a valid reporting period.\n",
    "\n",
    "---\n",
    "\n",
    "### 📗 Task 2: Normalize each valid expression into a standard format:\n",
    "\n",
    "1. If it's a **single year**, like `\"2013\"` or `\"FY2020\"`, return just `\"2013\"` or `\"2020\"`.\n",
    "2. If it's a **range of years**, like `\"2014–15\"`, return `\"2014 to 2015\"`. Do **not** add months or days.\n",
    "3. If it includes **exact dates** like `\"1st April 2020 – 31st March 2021\"`:\n",
    "   - Remove ordinal suffixes (`1st` → `1`)\n",
    "   - Normalize as `\"1 April 2020 to 31 March 2021\"`\n",
    "4. If it uses **months only**, like `\"April 2020 – March 2021\"`, return `\"April 2020 to March 2021\"`.\n",
    "5. Convert dashes (– or -) or slashes (/) to `\"to\"`.\n",
    "\n",
    "🛑 Do **not** invent or guess missing information.  \n",
    "🛑 Do **not** add any commentary outside the JSON object.\n",
    "\n",
    "---\n",
    "\n",
    "### 📕 Task 3: Return your result in the following JSON format:\n",
    "\n",
    "If a valid reporting period is found:\n",
    "\n",
    "{{\n",
    "  \"normalized_report_year\": \"your final normalized version\",\n",
    "  \"original_expression\": \"the exact expression from the text\",\n",
    "  \"source\": \"e.g. Page 1, table; main text; footnote\"\n",
    "}}\n",
    "If no valid expression is found:\n",
    "\n",
    "{{\n",
    "  \"normalized_report_year\": null,\n",
    "  \"original_expression\": null,\n",
    "  \"source\": \"NOT FOUND\"\n",
    "}}\n",
    "\n",
    "examples of valid expressions:\n",
    "input text:This report contains an overview of OPC Energy’s sustainability projects and activities during FY 2020 and FY2021, whose period is from November 1, 2019 to October 31, 2021.\n",
    "output json: {{\n",
    "  \"normalized_report_year\": \"1 November 2019 to 31 October 2021\",\n",
    "  \"original_expression\": \"from November 1, 2019 to October 31, 2021\",\n",
    "  \"source\": \"main text\"\n",
    "}}  \n",
    "input text:Report Period\n",
    "This report covers the period from April 1, 2003 to March 31, 2004. Some activities occurring in FY 2004 are also described in the report.\n",
    "output json: {{\n",
    "  \"normalized_report_year\": \"1 April 2003 to 31 March 2004\",\n",
    "  \"original_expression\": \"from April 1, 2003 to March 31, 2004\",\n",
    "  \"source\": \"main text\"\n",
    "}}\n",
    "{text}\n",
    "\"\"\"\n",
    "\n",
    "# ========== 5. Vision 模型辅助 ==========\n",
    "def encode_image_to_base64(pil_image):\n",
    "    with tempfile.NamedTemporaryFile(suffix=\".png\") as f:\n",
    "        pil_image.save(f.name, format=\"PNG\")\n",
    "        with open(f.name, \"rb\") as image_file:\n",
    "            return base64.b64encode(image_file.read()).decode(\"utf-8\")\n",
    "\n",
    "def extract_year_from_vision(pdf_path, client, page_limit=3):\n",
    "    try:\n",
    "        images = convert_from_path(pdf_path, dpi=200)\n",
    "        for i, img in enumerate(images[:page_limit]):\n",
    "            b64 = encode_image_to_base64(img)\n",
    "            response = client.chat.completions.create(\n",
    "                model=\"gpt-4o\",\n",
    "                messages=[\n",
    "                    {\"role\": \"user\", \"content\": [\n",
    "                        {\"type\": \"text\", \"text\": f\"Please extract the fiscal year or reporting period from page {i+1}. Please return in this JSON format:\\n\"\n",
    "                                                 \"{\\n  \\\"normalized_report_year\\\": \\\"...\\\",\\n  \\\"original_expression\\\": \\\"...\\\",\\n  \\\"source\\\": \\\"Page {i+1}, image-based\\\"\\n}\"},\n",
    "                        {\"type\": \"image_url\", \"image_url\": {\"url\": f\"data:image/png;base64,{b64}\"}}\n",
    "                    ]}\n",
    "                ],\n",
    "                max_tokens=300\n",
    "            )\n",
    "            content = response.choices[0].message.content\n",
    "            parsed = json.loads(content.strip()) if content.strip().startswith(\"{\") else eval(content.strip())\n",
    "            if parsed.get(\"normalized_report_year\"):\n",
    "                return parsed\n",
    "    except Exception as e:\n",
    "        return {\n",
    "            \"normalized_report_year\": None,\n",
    "            \"original_expression\": None,\n",
    "            \"source\": f\"Vision ERROR: {e}\"\n",
    "        }\n",
    "    return {\n",
    "        \"normalized_report_year\": None,\n",
    "        \"original_expression\": None,\n",
    "        \"source\": \"Vision NOT FOUND\"\n",
    "    }\n",
    "\n",
    "# ========== 6. 主函数：先文本，再 Vision ==========\n",
    "def extract_report_year(pdf_path, client):\n",
    "    try:\n",
    "        text = extract_front_back_text(pdf_path)\n",
    "        prompt = build_report_year_prompt(text)\n",
    "        response = client.chat.completions.create(\n",
    "            model=\"gpt-4.1\",\n",
    "            messages=[{\"role\": \"user\", \"content\": prompt}],\n",
    "            temperature=0,\n",
    "            max_tokens=500\n",
    "        )\n",
    "        content = response.choices[0].message.content\n",
    "        parsed = json.loads(content.strip()) if content.strip().startswith(\"{\") else eval(content.strip())\n",
    "        if parsed.get(\"normalized_report_year\"):\n",
    "            return parsed\n",
    "    except Exception as e:\n",
    "        print(f\"⚠️ GPT-4.1-mini failed on {Path(pdf_path).name}, fallback to Vision...\")\n",
    "    return extract_year_from_vision(pdf_path, client)\n",
    "\n",
    "\n",
    "from joblib import Parallel, delayed\n",
    "\n",
    "# 多线程处理函数\n",
    "def process_pdf(pdf_path):\n",
    "    try:\n",
    "        out = extract_report_year(str(pdf_path), client)\n",
    "        out[\"filename\"] = pdf_path.name\n",
    "    except Exception as e:\n",
    "        out = {\n",
    "            \"filename\": pdf_path.name,\n",
    "            \"normalized_report_year\": None,\n",
    "            \"original_expression\": None,\n",
    "            \"source\": f\"ERROR: {e}\"\n",
    "        }\n",
    "    return out\n",
    "\n",
    "def batch_extract_years_multithread(pdf_dir, output_csv=\"results/report_years1.csv\", n_jobs=2):\n",
    "    pdf_dir = Path(pdf_dir)\n",
    "    pdf_files = sorted(pdf_dir.glob(\"*.pdf\"))\n",
    "    os.makedirs(Path(output_csv).parent, exist_ok=True)\n",
    "\n",
    "    # ✅ 并行处理\n",
    "    results = Parallel(n_jobs=n_jobs, prefer=\"threads\")(\n",
    "        delayed(process_pdf)(pdf) for pdf in tqdm(pdf_files, desc=\"📄 Processing PDFs\")\n",
    "    )\n",
    "\n",
    "    df = pd.DataFrame(results)\n",
    "    df.to_csv(output_csv, index=False)\n",
    "    print(f\"\\n✅ Extraction complete! Results saved to: {output_csv}\")\n",
    "\n",
    "# ========== 8. 运行 ==========\n",
    "if __name__ == \"__main__\":\n",
    "    batch_extract_years_multithread(\"pdf_folder\")  "
   ]
  },
  {
   "cell_type": "code",
   "execution_count": null,
   "id": "a793833c",
   "metadata": {},
   "outputs": [
    {
     "name": "stdout",
     "output_type": "stream",
     "text": [
      "✅ number of combine samples：224\n",
      "✅ correct matches：185\n",
      "✅ Fuzzy Accuracy：82.59%\n"
     ]
    }
   ],
   "source": [
    "import pandas as pd\n",
    "import re\n",
    "\n",
    "# === 1. 加载数据 ===\n",
    "gpt_df = pd.read_csv(\"results/report_years1.csv\")  # GPT提取结果\n",
    "label_df = pd.read_excel(\"check/rfyear_annotation2.xlsx\")            # 标注结果\n",
    "\n",
    "# === 2. 重命名列对齐、合并（按文件名）===\n",
    "gpt_df.rename(columns={\"filename\": \"pdf_name\", \"report_year\": \"normalized_report_year\"}, inplace=True)\n",
    "merged = pd.merge(label_df, gpt_df, on=\"pdf_name\", how=\"inner\")\n",
    "\n",
    "# === 3. 清洗文本：空值转空串，大小写、空格、换行处理 ===\n",
    "def clean_text(s):\n",
    "    if pd.isna(s): return \"\"\n",
    "    return str(s).strip().lower().replace(\"\\n\", \" \")\n",
    "\n",
    "merged[\"normalized_report_year\"] = merged[\"normalized_report_year\"].apply(clean_text)\n",
    "merged[\"chosen_rfyear\"] = merged[\"chosen_rfyear\"].apply(clean_text)\n",
    "\n",
    "# === 4. 定义辅助函数 ===\n",
    "import re\n",
    "\n",
    "def normalize_year_text(s):\n",
    "    if not s:\n",
    "        return \"\"\n",
    "    s = s.lower().strip()\n",
    "    \n",
    "    # 替换常见连字符为统一格式\n",
    "    s = s.replace(\"–\", \" to \").replace(\"-\", \" to \").replace(\"/\", \" to \")\n",
    "\n",
    "    # 清除无效字符\n",
    "    s = re.sub(r'[\\(\\)\\[\\],;:]', ' ', s)\n",
    "    s = re.sub(r'\\s+', ' ', s)\n",
    "\n",
    "    # fy 缩写处理：fy2020 或 fy 2020 → 2020\n",
    "    s = re.sub(r'\\bfy\\s*(\\d{4})\\b', r'\\1', s)                   # fy 2020 → 2020\n",
    "    s = re.sub(r'\\bfy\\s*(\\d{2})\\b', lambda m: f\"20{m.group(1)}\", s)  # fy 19 → 2019\n",
    "\n",
    "    # 区间格式处理：2020 to 21 → 2020 to 2021\n",
    "    s = re.sub(r'\\b(20\\d{2})\\s+to\\s+(\\d{2})\\b', lambda m: f\"{m.group(1)} to 20{m.group(2)}\", s)\n",
    "\n",
    "    # 区间格式处理：2020–2021、2020-2021、fy2020 to 2021 → 2020 to 2021\n",
    "    s = re.sub(r'\\b(20\\d{2})\\s*to\\s*(20\\d{2})\\b', r'\\1 to \\2', s)\n",
    "    s = re.sub(r'\\b(20\\d{2})\\s+to\\s+20\\d{2}', r'\\g<0>', s)\n",
    "\n",
    "    # 清理序数词\n",
    "    s = re.sub(r'\\b(\\d{1,2})(st|nd|rd|th)\\b', r'\\1', s)\n",
    "\n",
    "    return s.strip()\n",
    "\n",
    "def extract_years(s):\n",
    "    return sorted(set(re.findall(r'\\b(20\\d{2}|19\\d{2})\\b', s)))\n",
    "\n",
    "def is_fuzzy_match(a, b):\n",
    "    a_norm = normalize_year_text(a)\n",
    "    b_norm = normalize_year_text(b)\n",
    "    if a_norm == b_norm:\n",
    "        return True\n",
    "\n",
    "    # 提取年份集合\n",
    "    a_years = extract_years(a_norm)\n",
    "    b_years = extract_years(b_norm)\n",
    "\n",
    "    if not a_years or not b_years:\n",
    "        return False\n",
    "\n",
    "    # 排序后再比较\n",
    "    a_sorted = sorted(set(a_years))\n",
    "    b_sorted = sorted(set(b_years))\n",
    "\n",
    "    # 完全一致或包含\n",
    "    if a_sorted == b_sorted:\n",
    "        return True\n",
    "    if len(a_sorted) == 1 and a_sorted[0] in b_sorted:\n",
    "        return True\n",
    "    if len(b_sorted) == 1 and b_sorted[0] in a_sorted:\n",
    "        return True\n",
    "\n",
    "    # 仅一个年份时允许±1\n",
    "    if len(a_sorted) == 1 and len(b_sorted) == 1 and abs(int(a_sorted[0]) - int(b_sorted[0])) <= 1:\n",
    "        return True\n",
    "\n",
    "    return False\n",
    "\n",
    "# === 5. 应用模糊匹配函数 ===\n",
    "merged[\"fuzzy_match\"] = merged.apply(lambda row: is_fuzzy_match(row[\"normalized_report_year\"], row[\"chosen_rfyear\"]), axis=1)\n",
    "\n",
    "# === 6. 计算准确率 ===\n",
    "total = len(merged)\n",
    "correct = merged[\"fuzzy_match\"].sum()\n",
    "accuracy = correct / total\n",
    "\n",
    "print(f\"✅ number of combine samples：{total}\")\n",
    "print(f\"✅ correct matches：{correct}\")\n",
    "print(f\"✅ Fuzzy Accuracy：{accuracy:.2%}\")\n",
    "\n",
    "# === 7. 保存结果 ===\n",
    "merged[[\"pdf_name\", \"chosen_rfyear\", \"normalized_report_year\", \"fuzzy_match\"]].to_csv(\"eval/report_years_comparison1.csv\", index=False)"
   ]
  },
  {
   "cell_type": "code",
   "execution_count": 5,
   "id": "9231e7e9",
   "metadata": {},
   "outputs": [
    {
     "name": "stdout",
     "output_type": "stream",
     "text": [
      "✅ number of combine samples：221\n",
      "✅ correct matches：187\n",
      "✅ Fuzzy Accuracy：84.62%\n"
     ]
    }
   ],
   "source": [
    "import pandas as pd\n",
    "import re\n",
    "\n",
    "# === 1. 加载数据 ===\n",
    "gpt_df = pd.read_csv(\"results/report_years1.csv\")  # GPT提取结果\n",
    "label_df = pd.read_excel(\"check/rfyear_annotation2.xlsx\")            # 标注结果\n",
    "\n",
    "# === 2. 重命名列对齐、合并（按文件名）===\n",
    "gpt_df.rename(columns={\"filename\": \"pdf_name\", \"report_year\": \"normalized_report_year\"}, inplace=True)\n",
    "merged = pd.merge(label_df, gpt_df, on=\"pdf_name\", how=\"inner\")\n",
    "\n",
    "# === 3. 清洗文本：空值转空串，大小写、空格、换行处理 ===\n",
    "def clean_text(s):\n",
    "    if pd.isna(s): return \"\"\n",
    "    return str(s).strip().lower().replace(\"\\n\", \" \")\n",
    "\n",
    "merged[\"normalized_report_year\"] = merged[\"normalized_report_year\"].apply(clean_text)\n",
    "merged[\"chosen_rfyear\"] = merged[\"chosen_rfyear\"].apply(clean_text)\n",
    "\n",
    "# === 4. 定义辅助函数 ===\n",
    "import re\n",
    "\n",
    "def normalize_year_text(s):\n",
    "    if not s:\n",
    "        return \"\"\n",
    "    s = s.lower().strip()\n",
    "    \n",
    "    # 替换常见连字符为统一格式\n",
    "    s = s.replace(\"–\", \" to \").replace(\"-\", \" to \").replace(\"/\", \" to \")\n",
    "\n",
    "    # 清除无效字符\n",
    "    s = re.sub(r'[\\(\\)\\[\\],;:]', ' ', s)\n",
    "    s = re.sub(r'\\s+', ' ', s)\n",
    "\n",
    "    # fy 缩写处理：fy2020 或 fy 2020 → 2020\n",
    "    s = re.sub(r'\\bfy\\s*(\\d{4})\\b', r'\\1', s)                   # fy 2020 → 2020\n",
    "    s = re.sub(r'\\bfy\\s*(\\d{2})\\b', lambda m: f\"20{m.group(1)}\", s)  # fy 19 → 2019\n",
    "\n",
    "    # 区间格式处理：2020 to 21 → 2020 to 2021\n",
    "    s = re.sub(r'\\b(20\\d{2})\\s+to\\s+(\\d{2})\\b', lambda m: f\"{m.group(1)} to 20{m.group(2)}\", s)\n",
    "\n",
    "    # 区间格式处理：2020–2021、2020-2021、fy2020 to 2021 → 2020 to 2021\n",
    "    s = re.sub(r'\\b(20\\d{2})\\s*to\\s*(20\\d{2})\\b', r'\\1 to \\2', s)\n",
    "    s = re.sub(r'\\b(20\\d{2})\\s+to\\s+20\\d{2}', r'\\g<0>', s)\n",
    "\n",
    "    # 清理序数词\n",
    "    s = re.sub(r'\\b(\\d{1,2})(st|nd|rd|th)\\b', r'\\1', s)\n",
    "\n",
    "    return s.strip()\n",
    "\n",
    "def extract_years(s):\n",
    "    return sorted(set(re.findall(r'\\b(20\\d{2}|19\\d{2})\\b', s)))\n",
    "\n",
    "def is_fuzzy_match(a, b):\n",
    "    a_norm = normalize_year_text(a)\n",
    "    b_norm = normalize_year_text(b)\n",
    "    if a_norm == b_norm:\n",
    "        return True\n",
    "\n",
    "    # 提取年份集合\n",
    "    a_years = extract_years(a_norm)\n",
    "    b_years = extract_years(b_norm)\n",
    "\n",
    "    if not a_years or not b_years:\n",
    "        return False\n",
    "\n",
    "    # 排序后再比较\n",
    "    a_sorted = sorted(set(a_years))\n",
    "    b_sorted = sorted(set(b_years))\n",
    "\n",
    "    # 完全一致或包含\n",
    "    if a_sorted == b_sorted:\n",
    "        return True\n",
    "    if len(a_sorted) == 1 and a_sorted[0] in b_sorted:\n",
    "        return True\n",
    "    if len(b_sorted) == 1 and b_sorted[0] in a_sorted:\n",
    "        return True\n",
    "\n",
    "    # 仅一个年份时允许±1\n",
    "    if len(a_sorted) == 1 and len(b_sorted) == 1 and abs(int(a_sorted[0]) - int(b_sorted[0])) <= 1:\n",
    "        return True\n",
    "\n",
    "    return False\n",
    "\n",
    "# === 5. 应用模糊匹配函数 ===\n",
    "merged[\"fuzzy_match\"] = merged.apply(lambda row: is_fuzzy_match(row[\"normalized_report_year\"], row[\"chosen_rfyear\"]), axis=1)\n",
    "\n",
    "# === 6. 计算准确率 ===\n",
    "total = len(merged)\n",
    "correct = merged[\"fuzzy_match\"].sum()\n",
    "accuracy = correct / total\n",
    "\n",
    "print(f\"✅ number of combine samples：{total}\")\n",
    "print(f\"✅ correct matches：{correct}\")\n",
    "print(f\"✅ Fuzzy Accuracy：{accuracy:.2%}\")\n",
    "\n",
    "# === 7. 保存结果 ===\n",
    "merged[[\"pdf_name\", \"chosen_rfyear\", \"normalized_report_year\", \"fuzzy_match\"]].to_csv(\"eval/2report_years_comparison1.csv\", index=False)"
   ]
  },
  {
   "cell_type": "code",
   "execution_count": null,
   "id": "31e2ea82",
   "metadata": {},
   "outputs": [],
   "source": []
  }
 ],
 "metadata": {
  "kernelspec": {
   "display_name": "irp_pdf",
   "language": "python",
   "name": "python3"
  },
  "language_info": {
   "codemirror_mode": {
    "name": "ipython",
    "version": 3
   },
   "file_extension": ".py",
   "mimetype": "text/x-python",
   "name": "python",
   "nbconvert_exporter": "python",
   "pygments_lexer": "ipython3",
   "version": "3.12.9"
  }
 },
 "nbformat": 4,
 "nbformat_minor": 5
}
