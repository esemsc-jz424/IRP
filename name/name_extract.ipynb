{
 "cells": [
  {
   "cell_type": "code",
   "execution_count": null,
   "id": "65ef6099",
   "metadata": {},
   "outputs": [],
   "source": [
    "import fitz\n",
    "import pytesseract\n",
    "from pdf2image import convert_from_path\n",
    "import tempfile\n",
    "import os\n",
    "from pathlib import Path\n",
    "import pandas as pd\n",
    "from tqdm import tqdm\n",
    "from openai import OpenAI\n",
    "from dotenv import load_dotenv\n",
    "import json\n",
    "\n",
    "# Load OpenAI API key from .env file\n",
    "load_dotenv()\n",
    "client = OpenAI(api_key=os.getenv(\"OPENAI_API_KEY\"))\n",
    "\n",
    "\n",
    "# 提取 PDF 前后页文本\n",
    "def extract_front_back_text(pdf_path, front_n=5, back_n=5, dpi=400):\n",
    "    try:\n",
    "        doc = fitz.open(str(pdf_path))\n",
    "        texts = []\n",
    "        for i in range(min(front_n, len(doc))):\n",
    "            texts.append(doc[i].get_text())\n",
    "        for i in range(max(0, len(doc) - back_n), len(doc)):\n",
    "            texts.append(doc[i].get_text())\n",
    "        doc.close()\n",
    "        full_text = \"\\n\".join(texts)\n",
    "        if len(full_text.strip()) < 100:\n",
    "            raise ValueError(\"Too short, fallback to OCR.\")\n",
    "        return full_text\n",
    "    except Exception as e:\n",
    "        print(f\"⚠️ Fallback to OCR on: {pdf_path.name} due to {str(e)}\")\n",
    "        return extract_text_with_ocr(pdf_path, front_n, back_n, dpi)\n",
    "\n",
    "def extract_text_with_ocr(pdf_path, front_n=5, back_n=5, dpi=400):\n",
    "    import warnings\n",
    "    from pdf2image.exceptions import PDFPageCountError\n",
    "    try:\n",
    "        with tempfile.TemporaryDirectory() as path:\n",
    "            try:\n",
    "                images = convert_from_path(str(pdf_path), dpi=dpi, output_folder=path)\n",
    "            except PDFPageCountError as e:\n",
    "                return f\"OCR ERROR: PDF structure invalid – {str(e)}\"\n",
    "            except Exception as e:\n",
    "                return f\"OCR ERROR: {str(e)}\"\n",
    "\n",
    "            total_pages = len(images)\n",
    "            if total_pages == 0:\n",
    "                return \"OCR ERROR: No images extracted\"\n",
    "\n",
    "            selected = images[:front_n] + images[-back_n:]\n",
    "            texts = []\n",
    "            for img in selected:\n",
    "                img = img.convert(\"L\")  # 灰度增强\n",
    "                text = pytesseract.image_to_string(img, lang=\"eng\")\n",
    "                texts.append(text)\n",
    "            return \"\\n\".join(texts)\n",
    "\n",
    "    except Exception as e:\n",
    "        return f\"OCR ERROR (outer): {str(e)}\"\n",
    "\n",
    "# 用 GPT 提取公司名称\n",
    "\n",
    "def extract_company_or_publisher_with_gpt(text):\n",
    "    import json\n",
    "\n",
    "    # 第一阶段：尝试识别公司名称\n",
    "    primary_prompt = f\"\"\"\n",
    "You are a corporate reporting analyst.\n",
    "\n",
    "You are given the first and last pages of a report. Your task:\n",
    "1. Identify the official **company name** that issued the report.\n",
    "2. Briefly explain your reasoning (e.g., where you found the name, any indicative phrasing).\n",
    "\n",
    "Return your answer as a JSON object with the following format:\n",
    "{{\n",
    "  \"company_name\": \"...\",\n",
    "  \"reasoning\": \"...\"\n",
    "}}\n",
    "\n",
    "If no company name is clearly found, return:\n",
    "{{\n",
    "  \"company_name\": \"UNKNOWN\",\n",
    "  \"reasoning\": \"No clear indication of the issuing company in the provided text.\"\n",
    "}}\n",
    "\n",
    "Text:\n",
    "{text}\n",
    "\"\"\"\n",
    "\n",
    "    try:\n",
    "        response = client.chat.completions.create(\n",
    "            model=\"gpt-4.1-mini\",  # 更稳\n",
    "            messages=[\n",
    "                {\"role\": \"system\", \"content\": \"You are an expert in ESG and corporate reporting.\"},\n",
    "                {\"role\": \"user\", \"content\": primary_prompt}\n",
    "            ],\n",
    "            temperature=0\n",
    "        )\n",
    "        content = response.choices[0].message.content.strip()\n",
    "        result = json.loads(content)\n",
    "    except Exception as e:\n",
    "        return {\n",
    "            \"company_name\": \"GPT_ERROR\",\n",
    "            \"reasoning\": str(e),\n",
    "            \"publisher\": None\n",
    "        }\n",
    "    except json.JSONDecodeError:\n",
    "        return {\n",
    "            \"company_name\": \"PARSE_ERROR\",\n",
    "            \"reasoning\": f\"Raw response: {content}\",\n",
    "            \"publisher\": None\n",
    "        }\n",
    "\n",
    "    # 第二阶段：如果公司名未知，则继续识别 publisher\n",
    "    if result.get(\"company_name\", \"\").upper() == \"UNKNOWN\":\n",
    "        try:\n",
    "            secondary_prompt = f\"\"\"\n",
    "You are analyzing a report that is **not issued by a company**. Instead, it may be from a government agency, international organization, academic institution, or other publisher.\n",
    "\n",
    "From the following text, identify the **publisher** or issuing organization of this report.\n",
    "\n",
    "Return only the publisher name as a JSON object:\n",
    "{{ \"publisher\": \"...\" }}\n",
    "\n",
    "If no organization is found, return:\n",
    "{{ \"publisher\": \"UNKNOWN\" }}\n",
    "\n",
    "Text:\n",
    "{text}\n",
    "\"\"\"\n",
    "            response2 = client.chat.completions.create(\n",
    "                model=\"gpt-4.1-mini\",  # 或 gpt-4.1\n",
    "                messages=[\n",
    "                    {\"role\": \"system\", \"content\": \"You are an expert in academic and institutional publishing.\"},\n",
    "                    {\"role\": \"user\", \"content\": secondary_prompt}\n",
    "                ],\n",
    "                temperature=0\n",
    "            )\n",
    "            content2 = response2.choices[0].message.content.strip()\n",
    "            pub_result = json.loads(content2)\n",
    "            result[\"publisher\"] = pub_result.get(\"publisher\", \"UNKNOWN\")\n",
    "        except Exception as e:\n",
    "            result[\"publisher\"] = f\"GPT_ERROR: {str(e)}\"\n",
    "\n",
    "    else:\n",
    "        result[\"publisher\"] = None  # 如果识别出公司名，不需要 publisher\n",
    "\n",
    "    # ✅ 将 UNKNOWN 替换为空字符串\n",
    "    if result.get(\"company_name\", \"\").upper() == \"UNKNOWN\":\n",
    "        result[\"company_name\"] = \"\"\n",
    "\n",
    "        \n",
    "    return result\n",
    "# 单文件处理\n",
    "def extract_company_from_pdf(pdf_path):\n",
    "    text = extract_front_back_text(pdf_path)\n",
    "    company = extract_company_or_publisher_with_gpt(text)\n",
    "    return company\n",
    "\n",
    "def process_folder_with_gpt_and_type(pdf_folder,output_path):\n",
    "    results = []\n",
    "    pdf_folder = Path(pdf_folder)\n",
    "    pdf_files = list(pdf_folder.glob(\"*.pdf\"))\n",
    "\n",
    "    for pdf in tqdm(pdf_files, desc=\"Classifying reports\"):\n",
    "        text = extract_front_back_text(pdf)\n",
    "        result = extract_company_or_publisher_with_gpt(text)\n",
    "        results.append({\n",
    "            \"file_name\": pdf.name,\n",
    "            \"company_name\": result[\"company_name\"],\n",
    "            \"publisher\": result.get(\"publisher\", None),\n",
    "            \"reasoning\": result[\"reasoning\"]\n",
    "        })\n",
    "\n",
    "    df = pd.DataFrame(results)\n",
    "    df.to_csv(output_path, index=False)\n",
    "    print(f\"✅ Saved to {output_path}\")\n",
    "    return df"
   ]
  },
  {
   "cell_type": "code",
   "execution_count": 8,
   "id": "ead80167",
   "metadata": {},
   "outputs": [
    {
     "name": "stderr",
     "output_type": "stream",
     "text": [
      "Classifying reports:   0%|          | 0/1277 [00:00<?, ?it/s]"
     ]
    },
    {
     "name": "stderr",
     "output_type": "stream",
     "text": [
      "Classifying reports:  20%|█▉        | 251/1277 [10:07<50:16,  2.94s/it]  "
     ]
    },
    {
     "name": "stdout",
     "output_type": "stream",
     "text": [
      "⚠️ Fallback to OCR on: Unknown_adbi-managing-transition-low-carbon-economy_087is5zy.pdf due to Too short, fallback to OCR.\n"
     ]
    },
    {
     "name": "stderr",
     "output_type": "stream",
     "text": [
      "Classifying reports:  20%|██        | 256/1277 [10:17<36:37,  2.15s/it]"
     ]
    },
    {
     "name": "stdout",
     "output_type": "stream",
     "text": [
      "MuPDF error: format error: cmsOpenProfileFromMem failed\n",
      "\n",
      "MuPDF error: format error: cmsOpenProfileFromMem failed\n",
      "\n",
      "MuPDF error: format error: cmsOpenProfileFromMem failed\n",
      "\n",
      "MuPDF error: format error: cmsOpenProfileFromMem failed\n",
      "\n"
     ]
    },
    {
     "name": "stderr",
     "output_type": "stream",
     "text": [
      "Classifying reports:  20%|██        | 257/1277 [10:20<37:43,  2.22s/it]"
     ]
    },
    {
     "name": "stdout",
     "output_type": "stream",
     "text": [
      "⚠️ Fallback to OCR on: Unknown_2014SustainRpt_FNL_lr_7mrwsfm7.pdf due to Too short, fallback to OCR.\n"
     ]
    },
    {
     "name": "stderr",
     "output_type": "stream",
     "text": [
      "Classifying reports:  28%|██▊       | 360/1277 [14:21<37:07,  2.43s/it]"
     ]
    },
    {
     "name": "stdout",
     "output_type": "stream",
     "text": [
      "⚠️ Fallback to OCR on: Hansae_Yes24_Holdings_Co_Ltd_HANSAE20YES2420HOLDINGS20ESG20REPORT202022_th5kzsfk.pdf due to Too short, fallback to OCR.\n"
     ]
    },
    {
     "name": "stderr",
     "output_type": "stream",
     "text": [
      "Classifying reports:  34%|███▎      | 430/1277 [17:01<35:08,  2.49s/it]"
     ]
    },
    {
     "name": "stdout",
     "output_type": "stream",
     "text": [
      "⚠️ Fallback to OCR on: Home_Inns__Hotels_Management_Inc_Barclays_Bank_PLC_Annual_Report_202014_5lj1epic.pdf due to Too short, fallback to OCR.\n"
     ]
    },
    {
     "name": "stderr",
     "output_type": "stream",
     "text": [
      "Classifying reports:  39%|███▉      | 498/1277 [19:41<31:18,  2.41s/it]"
     ]
    },
    {
     "name": "stdout",
     "output_type": "stream",
     "text": [
      "⚠️ Fallback to OCR on: Unknown_adp07-sus-fr_95qx6prh.pdf due to Too short, fallback to OCR.\n"
     ]
    },
    {
     "name": "stderr",
     "output_type": "stream",
     "text": [
      "Classifying reports:  53%|█████▎    | 672/1277 [27:23<20:29,  2.03s/it]"
     ]
    },
    {
     "name": "stdout",
     "output_type": "stream",
     "text": [
      "⚠️ Fallback to OCR on: Armstrong_Flooring_Inc_SustainabilityReport-2020_kot54emv.pdf due to Too short, fallback to OCR.\n"
     ]
    },
    {
     "name": "stderr",
     "output_type": "stream",
     "text": [
      "Classifying reports:  57%|█████▋    | 724/1277 [29:24<19:06,  2.07s/it]"
     ]
    },
    {
     "name": "stdout",
     "output_type": "stream",
     "text": [
      "MuPDF error: format error: object is not a stream\n",
      "\n",
      "MuPDF error: format error: object is not a stream\n",
      "\n",
      "MuPDF error: format error: object is not a stream\n",
      "\n",
      "MuPDF error: format error: object is not a stream\n",
      "\n",
      "MuPDF error: format error: object is not a stream\n",
      "\n",
      "MuPDF error: format error: object is not a stream\n",
      "\n",
      "MuPDF error: format error: object is not a stream\n",
      "\n",
      "MuPDF error: format error: object is not a stream\n",
      "\n",
      "MuPDF error: format error: object is not a stream\n",
      "\n",
      "MuPDF error: format error: object is not a stream\n",
      "\n",
      "MuPDF error: format error: object is not a stream\n",
      "\n",
      "MuPDF error: format error: object is not a stream\n",
      "\n",
      "MuPDF error: format error: object is not a stream\n",
      "\n",
      "MuPDF error: format error: object is not a stream\n",
      "\n",
      "MuPDF error: format error: object is not a stream\n",
      "\n",
      "MuPDF error: format error: object is not a stream\n",
      "\n",
      "MuPDF error: format error: object is not a stream\n",
      "\n",
      "MuPDF error: format error: object is not a stream\n",
      "\n",
      "MuPDF error: format error: object is not a stream\n",
      "\n",
      "MuPDF error: format error: object is not a stream\n",
      "\n",
      "MuPDF error: format error: object is not a stream\n",
      "\n",
      "MuPDF error: format error: object is not a stream\n",
      "\n"
     ]
    },
    {
     "name": "stderr",
     "output_type": "stream",
     "text": [
      "Classifying reports:  60%|██████    | 771/1277 [31:06<18:42,  2.22s/it]"
     ]
    },
    {
     "name": "stdout",
     "output_type": "stream",
     "text": [
      "⚠️ Fallback to OCR on: Tam_Jai_International_Co_Ltd_2022083101184_go5rbp4a.pdf due to Too short, fallback to OCR.\n"
     ]
    },
    {
     "name": "stderr",
     "output_type": "stream",
     "text": [
      "Classifying reports:  70%|███████   | 896/1277 [36:19<13:57,  2.20s/it]"
     ]
    },
    {
     "name": "stdout",
     "output_type": "stream",
     "text": [
      "⚠️ Fallback to OCR on: Hyosung_Corp_SR_2020_en_8g98j6gk.pdf due to Too short, fallback to OCR.\n"
     ]
    },
    {
     "name": "stderr",
     "output_type": "stream",
     "text": [
      "Classifying reports:  76%|███████▋  | 974/1277 [39:32<13:05,  2.59s/it]"
     ]
    },
    {
     "name": "stdout",
     "output_type": "stream",
     "text": [
      "⚠️ Fallback to OCR on: Boryung_Corporation_EBB3B4EBA0B920ECA780EC868DEAB080EB8AA5EAB2BDEC9881EBB3B4EAB3A0EC849CEC9881EBACB8_ebpit5lz.pdf due to Too short, fallback to OCR.\n"
     ]
    },
    {
     "name": "stderr",
     "output_type": "stream",
     "text": [
      "Classifying reports:  77%|███████▋  | 987/1277 [40:03<11:26,  2.37s/it]"
     ]
    },
    {
     "name": "stdout",
     "output_type": "stream",
     "text": [
      "⚠️ Fallback to OCR on: Arvind_Ltd_Arvind_AR_2022-23_0_iwp4673c.pdf due to Too short, fallback to OCR.\n"
     ]
    },
    {
     "name": "stderr",
     "output_type": "stream",
     "text": [
      "Classifying reports:  87%|████████▋ | 1106/1277 [44:58<08:42,  3.06s/it]"
     ]
    },
    {
     "name": "stdout",
     "output_type": "stream",
     "text": [
      "⚠️ Fallback to OCR on: EKI_Energy_Services_Limited_69298543284_zj7y1tjh.pdf due to Too short, fallback to OCR.\n"
     ]
    },
    {
     "name": "stderr",
     "output_type": "stream",
     "text": [
      "Classifying reports:  88%|████████▊ | 1122/1277 [45:35<04:51,  1.88s/it]"
     ]
    },
    {
     "name": "stdout",
     "output_type": "stream",
     "text": [
      "⚠️ Fallback to OCR on: Unknown_23076_Whitbread_AR2020_web_0v2mxh4f.pdf due to Too short, fallback to OCR.\n"
     ]
    },
    {
     "name": "stderr",
     "output_type": "stream",
     "text": [
      "Classifying reports:  90%|████████▉ | 1149/1277 [46:32<04:41,  2.20s/it]"
     ]
    },
    {
     "name": "stdout",
     "output_type": "stream",
     "text": [
      "MuPDF error: format error: cmsOpenProfileFromMem failed\n",
      "\n",
      "MuPDF error: format error: cmsOpenProfileFromMem failed\n",
      "\n",
      "MuPDF error: format error: cmsOpenProfileFromMem failed\n",
      "\n"
     ]
    },
    {
     "name": "stderr",
     "output_type": "stream",
     "text": [
      "Classifying reports:  91%|█████████▏| 1168/1277 [47:29<04:18,  2.37s/it]"
     ]
    },
    {
     "name": "stdout",
     "output_type": "stream",
     "text": [
      "MuPDF error: format error: No default Layer config\n",
      "\n"
     ]
    },
    {
     "name": "stderr",
     "output_type": "stream",
     "text": [
      "Classifying reports:  95%|█████████▍| 1209/1277 [49:16<02:39,  2.35s/it]"
     ]
    },
    {
     "name": "stdout",
     "output_type": "stream",
     "text": [
      "⚠️ Fallback to OCR on: Unknown_2023042101335_kyzhtmjn.pdf due to Too short, fallback to OCR.\n"
     ]
    },
    {
     "name": "stderr",
     "output_type": "stream",
     "text": [
      "Classifying reports:  97%|█████████▋| 1239/1277 [50:28<01:38,  2.58s/it]"
     ]
    },
    {
     "name": "stdout",
     "output_type": "stream",
     "text": [
      "⚠️ Fallback to OCR on: Titan_Company_Ltd_Annual20Report202013_p4r8w07u.pdf due to Too short, fallback to OCR.\n"
     ]
    },
    {
     "name": "stderr",
     "output_type": "stream",
     "text": [
      "Classifying reports:  99%|█████████▉| 1269/1277 [52:06<00:20,  2.58s/it]"
     ]
    },
    {
     "name": "stdout",
     "output_type": "stream",
     "text": [
      "⚠️ Fallback to OCR on: BASF_SE_2012_BASF_Report_lmq79gwn.pdf due to Too short, fallback to OCR.\n"
     ]
    },
    {
     "name": "stderr",
     "output_type": "stream",
     "text": [
      "Classifying reports: 100%|██████████| 1277/1277 [52:21<00:00,  2.46s/it]"
     ]
    },
    {
     "name": "stdout",
     "output_type": "stream",
     "text": [
      "✅ Saved to output/company_name_gpt_results1.csv\n"
     ]
    },
    {
     "name": "stderr",
     "output_type": "stream",
     "text": [
      "\n"
     ]
    },
    {
     "data": {
      "text/html": [
       "<div>\n",
       "<style scoped>\n",
       "    .dataframe tbody tr th:only-of-type {\n",
       "        vertical-align: middle;\n",
       "    }\n",
       "\n",
       "    .dataframe tbody tr th {\n",
       "        vertical-align: top;\n",
       "    }\n",
       "\n",
       "    .dataframe thead th {\n",
       "        text-align: right;\n",
       "    }\n",
       "</style>\n",
       "<table border=\"1\" class=\"dataframe\">\n",
       "  <thead>\n",
       "    <tr style=\"text-align: right;\">\n",
       "      <th></th>\n",
       "      <th>file_name</th>\n",
       "      <th>company_name</th>\n",
       "      <th>publisher</th>\n",
       "      <th>reasoning</th>\n",
       "    </tr>\n",
       "  </thead>\n",
       "  <tbody>\n",
       "    <tr>\n",
       "      <th>0</th>\n",
       "      <td>Unknown_8f57f855-11bb-496d-9916-91ff88cb537b_s...</td>\n",
       "      <td>Paramount Global</td>\n",
       "      <td>None</td>\n",
       "      <td>The official company name 'Paramount Global' i...</td>\n",
       "    </tr>\n",
       "    <tr>\n",
       "      <th>1</th>\n",
       "      <td>Toyota_Industries_Corp_environment2004_40h96hj...</td>\n",
       "      <td>Toyota Industries Corporation</td>\n",
       "      <td>None</td>\n",
       "      <td>The company name 'Toyota Industries Corporatio...</td>\n",
       "    </tr>\n",
       "    <tr>\n",
       "      <th>2</th>\n",
       "      <td>Knoll_Inc_Knoll_Enviro_2008_gqetdkb7.pdf</td>\n",
       "      <td>Knoll, Inc.</td>\n",
       "      <td>None</td>\n",
       "      <td>The company name 'Knoll, Inc.' is explicitly m...</td>\n",
       "    </tr>\n",
       "    <tr>\n",
       "      <th>3</th>\n",
       "      <td>Intel_Corp__fwws0wtm.pdf</td>\n",
       "      <td>Intel Corporation</td>\n",
       "      <td>None</td>\n",
       "      <td>The report repeatedly references 'Intel' and '...</td>\n",
       "    </tr>\n",
       "    <tr>\n",
       "      <th>4</th>\n",
       "      <td>Unknown_2020_SEBANG20SUSTAINABILITY20REPORT_EN...</td>\n",
       "      <td>SEBANG Co., Ltd.</td>\n",
       "      <td>None</td>\n",
       "      <td>The company name 'SEBANG Co., Ltd.' is explici...</td>\n",
       "    </tr>\n",
       "    <tr>\n",
       "      <th>...</th>\n",
       "      <td>...</td>\n",
       "      <td>...</td>\n",
       "      <td>...</td>\n",
       "      <td>...</td>\n",
       "    </tr>\n",
       "    <tr>\n",
       "      <th>1272</th>\n",
       "      <td>Logwin_AG_CSR_Report_2021_en_rbp4aney.pdf</td>\n",
       "      <td>Logwin AG</td>\n",
       "      <td>None</td>\n",
       "      <td>The company name 'Logwin AG' is explicitly men...</td>\n",
       "    </tr>\n",
       "    <tr>\n",
       "      <th>1273</th>\n",
       "      <td>Shanghai_Electric_Group_Co_Ltd_95909_s0uqoqkj.pdf</td>\n",
       "      <td>Shanghai Electric Group Co., Ltd</td>\n",
       "      <td>None</td>\n",
       "      <td>The company name 'Shanghai Electric Group Co.,...</td>\n",
       "    </tr>\n",
       "    <tr>\n",
       "      <th>1274</th>\n",
       "      <td>PT_Soho_Global_Health_Tbk_Final_annual_report_...</td>\n",
       "      <td>PT Soho Global Health Tbk</td>\n",
       "      <td>None</td>\n",
       "      <td>The company name 'PT Soho Global Health Tbk' i...</td>\n",
       "    </tr>\n",
       "    <tr>\n",
       "      <th>1275</th>\n",
       "      <td>Banner_Corp_32banner-sustainability-report-202...</td>\n",
       "      <td>Banner Group Ltd</td>\n",
       "      <td>None</td>\n",
       "      <td>The company name 'Banner Group Ltd' is explici...</td>\n",
       "    </tr>\n",
       "    <tr>\n",
       "      <th>1276</th>\n",
       "      <td>Unknown_917947-2021-sustainability-report_ddoz...</td>\n",
       "      <td>CommScope, Inc.</td>\n",
       "      <td>None</td>\n",
       "      <td>The company name 'CommScope' is repeatedly men...</td>\n",
       "    </tr>\n",
       "  </tbody>\n",
       "</table>\n",
       "<p>1277 rows × 4 columns</p>\n",
       "</div>"
      ],
      "text/plain": [
       "                                              file_name  \\\n",
       "0     Unknown_8f57f855-11bb-496d-9916-91ff88cb537b_s...   \n",
       "1     Toyota_Industries_Corp_environment2004_40h96hj...   \n",
       "2              Knoll_Inc_Knoll_Enviro_2008_gqetdkb7.pdf   \n",
       "3                              Intel_Corp__fwws0wtm.pdf   \n",
       "4     Unknown_2020_SEBANG20SUSTAINABILITY20REPORT_EN...   \n",
       "...                                                 ...   \n",
       "1272          Logwin_AG_CSR_Report_2021_en_rbp4aney.pdf   \n",
       "1273  Shanghai_Electric_Group_Co_Ltd_95909_s0uqoqkj.pdf   \n",
       "1274  PT_Soho_Global_Health_Tbk_Final_annual_report_...   \n",
       "1275  Banner_Corp_32banner-sustainability-report-202...   \n",
       "1276  Unknown_917947-2021-sustainability-report_ddoz...   \n",
       "\n",
       "                          company_name publisher  \\\n",
       "0                     Paramount Global      None   \n",
       "1        Toyota Industries Corporation      None   \n",
       "2                          Knoll, Inc.      None   \n",
       "3                    Intel Corporation      None   \n",
       "4                     SEBANG Co., Ltd.      None   \n",
       "...                                ...       ...   \n",
       "1272                         Logwin AG      None   \n",
       "1273  Shanghai Electric Group Co., Ltd      None   \n",
       "1274         PT Soho Global Health Tbk      None   \n",
       "1275                  Banner Group Ltd      None   \n",
       "1276                   CommScope, Inc.      None   \n",
       "\n",
       "                                              reasoning  \n",
       "0     The official company name 'Paramount Global' i...  \n",
       "1     The company name 'Toyota Industries Corporatio...  \n",
       "2     The company name 'Knoll, Inc.' is explicitly m...  \n",
       "3     The report repeatedly references 'Intel' and '...  \n",
       "4     The company name 'SEBANG Co., Ltd.' is explici...  \n",
       "...                                                 ...  \n",
       "1272  The company name 'Logwin AG' is explicitly men...  \n",
       "1273  The company name 'Shanghai Electric Group Co.,...  \n",
       "1274  The company name 'PT Soho Global Health Tbk' i...  \n",
       "1275  The company name 'Banner Group Ltd' is explici...  \n",
       "1276  The company name 'CommScope' is repeatedly men...  \n",
       "\n",
       "[1277 rows x 4 columns]"
      ]
     },
     "execution_count": 8,
     "metadata": {},
     "output_type": "execute_result"
    }
   ],
   "source": [
    "# 路径替换成你的 PDF 文件夹\n",
    "# Paths\n",
    "PDF_DIR = Path(\"pdf_folder\")  # Ensure this path contains your PDFs\n",
    "OUTPUT_PATH = Path(\"output/company_name_gpt_results1.csv\")\n",
    "process_folder_with_gpt_and_type(PDF_DIR, OUTPUT_PATH)"
   ]
  },
  {
   "cell_type": "code",
   "execution_count": null,
   "id": "29712814",
   "metadata": {},
   "outputs": [],
   "source": []
  },
  {
   "cell_type": "code",
   "execution_count": null,
   "id": "b7c4c734",
   "metadata": {},
   "outputs": [],
   "source": []
  },
  {
   "cell_type": "code",
   "execution_count": null,
   "id": "95499ff2",
   "metadata": {},
   "outputs": [],
   "source": []
  },
  {
   "cell_type": "code",
   "execution_count": null,
   "id": "a3297d7a",
   "metadata": {},
   "outputs": [
    {
     "name": "stdout",
     "output_type": "stream",
     "text": [
      "✅ 公司名称提取准确率: 55.39%\n"
     ]
    }
   ],
   "source": [
    "import pandas as pd\n",
    "from difflib import SequenceMatcher\n",
    "import re\n",
    "\n",
    "# === 设置路径 ===\n",
    "pred_path = \"output/company_name_gpt_results1.csv\"\n",
    "true_path = \"check/matching_gabarito_with_pdfs.csv\"\n",
    "\n",
    "# === Step 1: 读取提取结果与标注结果 ===\n",
    "df_pred = pd.read_csv(pred_path)\n",
    "df_true = pd.read_csv(true_path)\n",
    "\n",
    "# === Step 2: 标准化文件名并对齐 ===\n",
    "df_pred[\"filename\"] = df_pred[\"file_name\"].str.strip()\n",
    "df_true[\"filename\"] = df_true[\"pdf_path\"].str.strip()\n",
    "\n",
    "# === Step 3: 合并两个表格 ===\n",
    "df_merged = pd.merge(df_pred, df_true, on=\"filename\", how=\"inner\")\n",
    "\n",
    "# === Step 4: 定义标准化与模糊匹配函数 ===\n",
    "\n",
    "def _clean_name(name: str) -> str:\n",
    "    name = name.lower()\n",
    "    name = name.replace(\".com\", \"\")\n",
    "    name = re.sub(r\"\\([^()]*\\)\", \"\", name)\n",
    "    name = re.sub(r\"[^\\w\\d\\s]\", \"\", name)\n",
    "    name = \"\".join(\n",
    "        name.replace(\" company\", \"\")\n",
    "        .replace(\" companies\", \"\")\n",
    "        .replace(\" corporation\", \"\")\n",
    "        .replace(\" incorporated\", \"\")\n",
    "        .replace(\"a shares\", \"\")\n",
    "        .replace(\" corp\", \"\")\n",
    "        .replace(\" llc\", \"\")\n",
    "        .replace(\" ltd\", \"\")\n",
    "        .replace(\" inc\", \"\")\n",
    "        .replace(\" oyj\", \"\")\n",
    "        .replace(\" intl\", \"\")\n",
    "        .replace(\" sa\", \"\")\n",
    "        .replace(\" lp\", \"\")\n",
    "        .replace(\" spa\", \"\")\n",
    "        .replace(\" sanv\", \"\")\n",
    "        .replace(\" nv\", \"\")\n",
    "        .replace(\" plc\", \"\")\n",
    "        .replace(\" nvsa\", \"\")\n",
    "        .replace(\" ptd\", \"\")\n",
    "        .replace(\" int\", \"\")\n",
    "        .replace(\" international\", \"\")\n",
    "        .replace(\"int l\", \"\")\n",
    "        .replace(\"limited\", \"\")\n",
    "        .replace(\"group\", \"\")\n",
    "        .replace(\" \", \"\")\n",
    "        .replace(\"  \", \"\")\n",
    "        .replace(\"the \", \"\")\n",
    "        .replace(\"é\", \"e\")\n",
    "        .replace(\" holdings\", \"\")\n",
    "        .removesuffix(\" co\")\n",
    "    )\n",
    "    name = re.sub(r\"[^a-zA-Z0-9]\", \"\", name)\n",
    "    return name\n",
    "\n",
    "def fuzzy_match(a, b):\n",
    "    return SequenceMatcher(None, _clean_name(a), _clean_name(b)).ratio()\n",
    "\n",
    "# === Step 5: 计算匹配得分和是否正确 ===\n",
    "df_merged[\"fuzzy_score\"] = df_merged.apply(lambda row: fuzzy_match(row[\"company_name\"], row[\"name_2\"]), axis=1)\n",
    "df_merged[\"is_correct\"] = df_merged[\"fuzzy_score\"] >= 0.85  # 匹配阈值可调\n",
    "\n",
    "# === Step 6: 仅输出有用列 ===\n",
    "df_eval = df_merged[[\"filename\", \"company_name\", \"name_2\", \"fuzzy_score\", \"is_correct\"]]\n",
    "\n",
    "# === Step 7: 计算总体准确率 ===\n",
    "accuracy = df_eval[\"is_correct\"].mean()\n",
    "print(f\"✅ 公司名称提取准确率: {accuracy:.2%}\")\n",
    "\n",
    "# 可选：保存输出\n",
    "df_eval.to_csv(\"output/company_name_eval_results.csv\", index=False)"
   ]
  },
  {
   "cell_type": "code",
   "execution_count": 8,
   "id": "d4576441",
   "metadata": {},
   "outputs": [
    {
     "name": "stdout",
     "output_type": "stream",
     "text": [
      "✅ 公司名称提取准确率: 55.39%\n"
     ]
    }
   ],
   "source": [
    "import pandas as pd\n",
    "from difflib import SequenceMatcher\n",
    "\n",
    "# === 设置路径 ===\n",
    "pred_path = \"output/full_pipeline_results.csv\"\n",
    "true_path = \"check/matching_gabarito_with_pdfs.csv\"\n",
    "\n",
    "# === Step 1: 读取提取结果与标注结果 ===\n",
    "df_pred = pd.read_csv(pred_path)\n",
    "df_true = pd.read_csv(true_path)\n",
    "\n",
    "# === Step 2: 标准化文件名并对齐 ===\n",
    "df_pred[\"filename\"] = df_pred[\"filename\"].str.strip()\n",
    "df_true[\"filename\"] = df_true[\"pdf_path\"].str.strip()\n",
    "\n",
    "# === Step 3: 合并两个表格 ===\n",
    "df_merged = pd.merge(df_pred, df_true, on=\"filename\", how=\"inner\")\n",
    "\n",
    "# === Step 4: 定义标准化与模糊匹配函数 ===\n",
    "def clean_name(name):\n",
    "    if pd.isna(name):\n",
    "        return \"\"\n",
    "    return str(name).lower().replace(\"ltd\", \"\").replace(\"inc\", \"\").replace(\".\", \"\").replace(\",\", \"\").strip()\n",
    "\n",
    "def fuzzy_match(a, b):\n",
    "    return SequenceMatcher(None, clean_name(a), clean_name(b)).ratio()\n",
    "\n",
    "# === Step 5: 计算匹配得分和是否正确 ===\n",
    "df_merged[\"fuzzy_score\"] = df_merged.apply(lambda row: fuzzy_match(row[\"company_name\"], row[\"name_2\"]), axis=1)\n",
    "df_merged[\"is_correct\"] = df_merged[\"fuzzy_score\"] >= 0.85  # 匹配阈值可调\n",
    "\n",
    "# === Step 6: 仅输出有用列 ===\n",
    "df_eval = df_merged[[\"filename\", \"company_name\", \"name_2\", \"fuzzy_score\", \"is_correct\"]]\n",
    "\n",
    "# === Step 7: 计算总体准确率 ===\n",
    "accuracy = df_eval[\"is_correct\"].mean()\n",
    "print(f\"✅ 公司名称提取准确率: {accuracy:.2%}\")\n",
    "\n",
    "# 可选：保存输出\n",
    "# df_eval.to_csv(\"output/company_name_eval_results.csv\", index=False)"
   ]
  },
  {
   "cell_type": "code",
   "execution_count": 3,
   "id": "852f8184",
   "metadata": {},
   "outputs": [
    {
     "name": "stdout",
     "output_type": "stream",
     "text": [
      "accuracy of name extraction: 72.06%\n"
     ]
    }
   ],
   "source": [
    "import pandas as pd\n",
    "from difflib import SequenceMatcher\n",
    "import re\n",
    "\n",
    "# === 设置路径 ===\n",
    "pred_path = \"output/company_name_gpt_results1.csv\"\n",
    "true_path = \"check/matching_gabarito_with_pdfs.csv\"\n",
    "\n",
    "# === Step 1: 读取提取结果与标注结果 ===\n",
    "df_pred = pd.read_csv(pred_path)\n",
    "df_true = pd.read_csv(true_path)\n",
    "\n",
    "# === Step 2: 标准化文件名并对齐 ===\n",
    "df_pred[\"filename\"] = df_pred[\"file_name\"].str.strip()\n",
    "df_true[\"filename\"] = df_true[\"pdf_path\"].str.strip()\n",
    "\n",
    "# === Step 3: 合并两个表格 ===\n",
    "df_merged = pd.merge(df_pred, df_true, on=\"filename\", how=\"inner\")\n",
    "\n",
    "# === Step 4: 定义标准化与模糊匹配函数 ===\n",
    "\n",
    "def _clean_name(name: str) -> str:\n",
    "    name = name.lower()\n",
    "    name = name.replace(\".com\", \"\")\n",
    "    name = re.sub(r\"\\([^()]*\\)\", \"\", name)\n",
    "    name = re.sub(r\"[^\\w\\d\\s]\", \"\", name)\n",
    "    name = \"\".join(\n",
    "        name.replace(\" company\", \"\")\n",
    "        .replace(\" companies\", \"\")\n",
    "        .replace(\" corporation\", \"\")\n",
    "        .replace(\" incorporated\", \"\")\n",
    "        .replace(\"a shares\", \"\")\n",
    "        .replace(\" corp\", \"\")\n",
    "        .replace(\" llc\", \"\")\n",
    "        .replace(\" ltd\", \"\")\n",
    "        .replace(\" inc\", \"\")\n",
    "        .replace(\" oyj\", \"\")\n",
    "        .replace(\" intl\", \"\")\n",
    "        .replace(\" sa\", \"\")\n",
    "        .replace(\" lp\", \"\")\n",
    "        .replace(\" spa\", \"\")\n",
    "        .replace(\" sanv\", \"\")\n",
    "        .replace(\" nv\", \"\")\n",
    "        .replace(\" plc\", \"\")\n",
    "        .replace(\" nvsa\", \"\")\n",
    "        .replace(\" ptd\", \"\")\n",
    "        .replace(\" int\", \"\")\n",
    "        .replace(\" international\", \"\")\n",
    "        .replace(\"int l\", \"\")\n",
    "        .replace(\"limited\", \"\")\n",
    "        .replace(\"group\", \"\")\n",
    "        .replace(\" \", \"\")\n",
    "        .replace(\"  \", \"\")\n",
    "        .replace(\"the \", \"\")\n",
    "        .replace(\"é\", \"e\")\n",
    "        .replace(\" holdings\", \"\")\n",
    "        .removesuffix(\" co\")\n",
    "    )\n",
    "    name = re.sub(r\"[^a-zA-Z0-9]\", \"\", name)\n",
    "\n",
    "    return name\n",
    "# def clean_name(name):\n",
    "#     if pd.isna(name):\n",
    "#         return \"\"\n",
    "#     return str(name).lower().replace(\"ltd\", \"\").replace(\"inc\", \"\").replace(\".\", \"\").replace(\",\", \"\").strip()\n",
    "\n",
    "def fuzzy_match(a, b):\n",
    "    return SequenceMatcher(None, _clean_name(a), _clean_name(b)).ratio()\n",
    "\n",
    "# === Step 5: 计算匹配得分和是否正确 ===\n",
    "df_merged[\"fuzzy_score\"] = df_merged.apply(lambda row: fuzzy_match(row[\"company_name\"], row[\"name_2\"]), axis=1)\n",
    "df_merged[\"is_correct\"] = df_merged[\"fuzzy_score\"] >= 0.85  # 匹配阈值可调\n",
    "\n",
    "# === Step 6: 仅输出有用列 ===\n",
    "df_eval = df_merged[[\"filename\", \"company_name\", \"name_2\", \"fuzzy_score\", \"is_correct\"]]\n",
    "\n",
    "# === Step 7: 计算总体准确率 ===\n",
    "accuracy = df_eval[\"is_correct\"].mean()\n",
    "print(f\"accuracy of name extraction: {accuracy:.2%}\")\n",
    "\n",
    "# 可选：保存输出\n",
    "df_eval.to_csv(\"output/company_name_eval_clean.csv\", index=False)\n"
   ]
  },
  {
   "cell_type": "code",
   "execution_count": null,
   "id": "5919aa57",
   "metadata": {},
   "outputs": [],
   "source": []
  }
 ],
 "metadata": {
  "kernelspec": {
   "display_name": "irp_pdf",
   "language": "python",
   "name": "python3"
  },
  "language_info": {
   "codemirror_mode": {
    "name": "ipython",
    "version": 3
   },
   "file_extension": ".py",
   "mimetype": "text/x-python",
   "name": "python",
   "nbconvert_exporter": "python",
   "pygments_lexer": "ipython3",
   "version": "3.12.9"
  }
 },
 "nbformat": 4,
 "nbformat_minor": 5
}
