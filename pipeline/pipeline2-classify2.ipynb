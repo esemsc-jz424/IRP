{
 "cells": [
  {
   "cell_type": "code",
   "execution_count": 1,
   "id": "50b7eeb4",
   "metadata": {},
   "outputs": [],
   "source": [
    "from openai import OpenAI\n",
    "from pathlib import Path\n",
    "import fitz  # PyMuPDF\n",
    "import pandas as pd\n",
    "from tqdm import tqdm\n",
    "import json\n",
    "from dotenv import load_dotenv\n",
    "\n",
    "from pdf2image import convert_from_path\n",
    "import pytesseract\n",
    "from PIL import Image\n",
    "import tempfile\n",
    "import os\n",
    "\n",
    "import base64\n",
    "import shutil\n",
    "\n",
    "from joblib import Parallel, delayed\n",
    "\n"
   ]
  },
  {
   "cell_type": "code",
   "execution_count": 2,
   "id": "230eb0cb",
   "metadata": {},
   "outputs": [],
   "source": [
    "# Load OpenAI API key from .env file\n",
    "load_dotenv()\n",
    "client = OpenAI(api_key=os.getenv(\"OPENAI_API_KEY\"))\n",
    "\n",
    "# Paths\n",
    "PDF_DIR = Path(\"pdf_folder\")  # Ensure this path contains your PDFs\n",
    "# OUTPUT_PATH = Path(\"results/classify_gpt_results1.csv\")"
   ]
  },
  {
   "cell_type": "code",
   "execution_count": 3,
   "id": "918a1cd3",
   "metadata": {},
   "outputs": [],
   "source": [
    "\n",
    "# OCR 补救函数：用于从首页和末页图像提取文本\n",
    "def extract_text_with_ocr(pdf_path, front_n=5, back_n=5, dpi=300):\n",
    "    import warnings\n",
    "    from pdf2image.exceptions import PDFPageCountError\n",
    "    try:\n",
    "        with tempfile.TemporaryDirectory() as path:\n",
    "            try:\n",
    "                images = convert_from_path(str(pdf_path), dpi=dpi, output_folder=path)\n",
    "            except PDFPageCountError as e:\n",
    "                return f\"OCR ERROR: PDF structure invalid – {str(e)}\"\n",
    "            except Exception as e:\n",
    "                return f\"OCR ERROR: {str(e)}\"\n",
    "\n",
    "            total_pages = len(images)\n",
    "            if total_pages == 0:\n",
    "                return \"OCR ERROR: No images extracted\"\n",
    "\n",
    "            selected = images[:front_n] + images[-back_n:]\n",
    "            texts = []\n",
    "            for img in selected:\n",
    "                img = img.convert(\"L\")  # 灰度增强\n",
    "                text = pytesseract.image_to_string(img, lang=\"eng\")\n",
    "                texts.append(text)\n",
    "            return \"\\n\".join(texts)\n",
    "\n",
    "    except Exception as e:\n",
    "        return f\"OCR ERROR (outer): {str(e)}\""
   ]
  },
  {
   "cell_type": "code",
   "execution_count": 4,
   "id": "3e100aa6",
   "metadata": {},
   "outputs": [],
   "source": [
    "# def extract_front_back_text(pdf_path, front_n=5, back_n=5):\n",
    "#     try:\n",
    "#         doc = fitz.open(pdf_path)\n",
    "#         texts = []\n",
    "#         for i in range(min(front_n, len(doc))):\n",
    "#             texts.append(doc[i].get_text())\n",
    "#         for i in range(max(0, len(doc) - back_n), len(doc)):\n",
    "#             texts.append(doc[i].get_text())\n",
    "#         doc.close()\n",
    "#         full_text = \"\\n\".join(texts)\n",
    "#         if len(full_text.strip()) < 50:\n",
    "#             raise ValueError(\"Empty or invalid text, fallback to OCR.\")\n",
    "#         return full_text\n",
    "#     except Exception as e:\n",
    "#         print(f\"⚠️ PyMuPDF failed on {pdf_path.name}, switching to OCR...\")\n",
    "#         return extract_text_with_ocr(pdf_path)\n",
    "    \n",
    "def extract_front_back_text(pdf_path, front_n=10, back_n=10, dpi=300):\n",
    "    try:\n",
    "        doc = fitz.open(str(pdf_path))\n",
    "        texts = []\n",
    "        for i in range(min(front_n, len(doc))):\n",
    "            texts.append(doc[i].get_text())\n",
    "        for i in range(max(0, len(doc) - back_n), len(doc)):\n",
    "            texts.append(doc[i].get_text())\n",
    "        doc.close()\n",
    "        full_text = \"\\n\".join(texts)\n",
    "        if len(full_text.strip()) < 100:\n",
    "            raise ValueError(\"Too short, fallback to OCR.\")\n",
    "        return full_text\n",
    "    except Exception as e:\n",
    "        print(f\"⚠️ Fallback to OCR on: {pdf_path.name} due to {str(e)}\")\n",
    "        return extract_text_with_ocr(pdf_path, front_n, back_n, dpi)\n",
    "    "
   ]
  },
  {
   "cell_type": "code",
   "execution_count": 10,
   "id": "21689bf6",
   "metadata": {},
   "outputs": [],
   "source": [
    "\n",
    "def classify_report_type(text):\n",
    "    system_prompt = \"You are an expert in classification.\"\n",
    "    user_prompt =f\"\"\"\n",
    "The following text is extracted from a corporate report (first and last few pages).\n",
    "\n",
    "Your tasks:\n",
    "\n",
    "1. Classify the report into one of the following types:\n",
    "- \"sustainability report\": The document primarily focuses on ESG, sustainability, CSR, or GRI/SDGs-related topics. It does NOT contain full audited financial statements.\n",
    "- \"annual report\": The document primarily contains audited financial disclosures, such as income statements, cash flow statements, balance sheets, and auditor's reports. ESG content, if any, is limited or supplementary.\n",
    "- \"integrated report\": The document includes BOTH complete financial disclosures and structured sustainability content within the same document.\n",
    "- \"other\": The document does not meet the criteria for any of the above (e.g., regulatory compliance reports, environmental approvals, investor brochures, etc.)\n",
    "\n",
    "2. Important judgment rules:\n",
    "- Do NOT classify a \"Corporate Social Responsibility Report\", \"Corporate Responsibility Report\", or \"CSR Report\" as \"integrated report\" unless it also includes full audited financials.\n",
    "- If the title contains \"Annual Report\" but the content lacks actual financial statements, do NOT classify it as \"annual\" or \"integrated\".\n",
    "- References or summaries of financials are NOT sufficient — only classify based on complete financial statement inclusion.\n",
    "\n",
    "3. If the document contains a distinct sustainability section (e.g. a chapter on ESG/CSR/GRI/SDGs content that constitutes more than 50% of a section), mark `has_sustainability_section = true`, and extract the section name if available.\n",
    "\n",
    "Return a JSON object with the following fields:\n",
    "{{\n",
    "  \"reasoning\": \"...\",\n",
    "  \"report_type\": \"...\",\n",
    "  \"has_sustainability_section\": true/false,\n",
    "  \"sustainability_section_name\": \"...\"\n",
    "}}\n",
    "\n",
    "Content:\n",
    "{text}\n",
    "\"\"\"\n",
    "    \n",
    " \n",
    "# \n",
    "\n",
    "\n",
    "    try:\n",
    "        response = client.chat.completions.create(\n",
    "            model=\"gpt-4.1-mini\",\n",
    "            messages=[\n",
    "                {\"role\": \"system\", \"content\": system_prompt},\n",
    "                {\"role\": \"user\", \"content\": user_prompt}\n",
    "            ],\n",
    "            temperature=0\n",
    "        )\n",
    "        reply = response.choices[0].message.content\n",
    "        parsed = json.loads(reply)\n",
    "        return parsed.get(\"report_type\", \"\"), parsed.get(\"has_sustainability_section\", \"\"), parsed.get(\"sustainability_section_name\", \"\"), parsed.get(\"reasoning\", \"\")\n",
    "    except Exception as e:\n",
    "        return \"ERROR\", False, \"\", f\"Exception: {e}\""
   ]
  },
  {
   "cell_type": "code",
   "execution_count": 11,
   "id": "69e0df8c",
   "metadata": {},
   "outputs": [],
   "source": [
    "\n",
    "def extract_company_or_publisher_with_gpt(text):\n",
    "    import json\n",
    "\n",
    "    # 第一阶段：提取公司名称、别名、国家\n",
    "    primary_prompt = f\"\"\"\n",
    "You are a corporate reporting analyst.\n",
    "\n",
    "From the first and last pages of a corporate report, extract the following:\n",
    "1. The **official company name** that issued the report.\n",
    "2. A list of **other names** referring to the company (abbreviations, group name, acronyms, etc.).\n",
    "3. The **country** where the company is headquartered.\n",
    "4. A brief **reasoning** explaining your extraction.\n",
    "\n",
    "Return a JSON object like this:\n",
    "{{\n",
    "  \"company_name\": \"...\",\n",
    "  \"other_names\": [\"...\", \"...\"],\n",
    "  \"country\": \"...\",\n",
    "  \"reasoning\": \"...\"\n",
    "}}\n",
    "\n",
    "If the company name is not found, return:\n",
    "{{\n",
    "  \"company_name\": \"UNKNOWN\",\n",
    "  \"other_names\": [],\n",
    "  \"country\": \"UNKNOWN\",\n",
    "  \"reasoning\": \"No indication of the company in the text.\"\n",
    "}}\n",
    "\n",
    "Text:\n",
    "{text}\n",
    "\"\"\"\n",
    "\n",
    "    try:\n",
    "        response = client.chat.completions.create(\n",
    "            model=\"gpt-4.1\",  # 更稳定\n",
    "            messages=[\n",
    "                {\"role\": \"system\", \"content\": \"You are an expert in ESG and corporate reporting.\"},\n",
    "                {\"role\": \"user\", \"content\": primary_prompt}\n",
    "            ],\n",
    "            temperature=0\n",
    "        )\n",
    "        content = response.choices[0].message.content.strip()\n",
    "        result = json.loads(content)\n",
    "    except Exception as e:\n",
    "        return {\n",
    "            \"company_name\": \"GPT_ERROR\",\n",
    "            \"other_names\": [],\n",
    "            \"country\": \"GPT_ERROR\",\n",
    "            \"reasoning\": str(e),\n",
    "            \"publisher\": None\n",
    "        }\n",
    "    except json.JSONDecodeError:\n",
    "        return {\n",
    "            \"company_name\": \"PARSE_ERROR\",\n",
    "            \"other_names\": [],\n",
    "            \"country\": \"PARSE_ERROR\",\n",
    "            \"reasoning\": f\"Raw response: {content}\",\n",
    "            \"publisher\": None\n",
    "        }\n",
    "\n",
    "    # 第二阶段：若无法识别公司名，尝试提取 publisher\n",
    "    if result.get(\"company_name\", \"\").upper() == \"UNKNOWN\":\n",
    "        try:\n",
    "            secondary_prompt = f\"\"\"\n",
    "This report was not issued by a company but possibly by a public institution or academic body.\n",
    "\n",
    "From the following text, extract the **publisher** and return:\n",
    "{{ \"publisher\": \"...\" }}\n",
    "\n",
    "If not found:\n",
    "{{ \"publisher\": \"UNKNOWN\" }}\n",
    "\n",
    "Text:\n",
    "{text}\n",
    "\"\"\"\n",
    "            response2 = client.chat.completions.create(\n",
    "                model=\"gpt-4.1\",\n",
    "                messages=[\n",
    "                    {\"role\": \"system\", \"content\": \"You are an expert in institutional publishing.\"},\n",
    "                    {\"role\": \"user\", \"content\": secondary_prompt}\n",
    "                ],\n",
    "                temperature=0\n",
    "            )\n",
    "            content2 = response2.choices[0].message.content.strip()\n",
    "            pub_result = json.loads(content2)\n",
    "            result[\"publisher\"] = pub_result.get(\"publisher\", \"UNKNOWN\")\n",
    "        except Exception as e:\n",
    "            result[\"publisher\"] = f\"GPT_ERROR: {str(e)}\"\n",
    "    else:\n",
    "        result[\"publisher\"] = None\n",
    "\n",
    "    # 清理字段\n",
    "    if result.get(\"company_name\", \"\").upper() == \"UNKNOWN\":\n",
    "        result[\"company_name\"] = \"\"\n",
    "    if not isinstance(result.get(\"other_names\"), list):\n",
    "        result[\"other_names\"] = []\n",
    "    if \"country\" not in result or not isinstance(result[\"country\"], str):\n",
    "        result[\"country\"] = \"UNKNOWN\"\n",
    "\n",
    "    return result\n",
    "\n",
    "# def process_folder_with_gpt_and_type(pdf_folder, output_path):\n",
    "#     results = []\n",
    "#     pdf_folder = Path(pdf_folder)\n",
    "#     pdf_files = list(pdf_folder.glob(\"*.pdf\"))\n",
    "\n",
    "#     for pdf in tqdm(pdf_files, desc=\"Classifying reports\"):\n",
    "#         text = extract_front_back_text(pdf)\n",
    "#         result = extract_company_or_publisher_with_gpt(text)\n",
    "#         results.append({\n",
    "#             \"file_name\": pdf.name,\n",
    "#             \"company_name\": result[\"company_name\"],\n",
    "#             \"other_names\": \"; \".join(result.get(\"other_names\", [])),  # 用分号拼接方便输出\n",
    "#             \"publisher\": result.get(\"publisher\", None),\n",
    "#             \"reasoning\": result[\"reasoning\"],\n",
    "#             \"country\": result[\"country\"],\n",
    "#         })\n",
    "\n",
    "#     df = pd.DataFrame(results)\n",
    "#     df.to_csv(output_path, index=False)\n",
    "#     print(f\"✅ Saved to {output_path}\")\n",
    "#     return df"
   ]
  },
  {
   "cell_type": "code",
   "execution_count": 12,
   "id": "b24c6277",
   "metadata": {},
   "outputs": [],
   "source": [
    "\n",
    "# ========== 4. 构造 Prompt ==========\n",
    "def build_report_year_prompt(text):\n",
    "    return f\"\"\"\n",
    "You are an expert assistant helping to extract reporting years from corporate reports.\n",
    "\n",
    "Please complete the following tasks after carefully reading the text below:\n",
    "\n",
    "---\n",
    "\n",
    "### Task 1: Identify any **fiscal year**, **reporting period**, or **financial year** expressions.\n",
    "\n",
    "Common examples include:\n",
    "- \"for the year ended 31 December 2021\"\n",
    "- \"reporting period: April 2021 – March 2022\"\n",
    "- \"2011–14\" or \"FY2017\"\n",
    "- \"2020 ESG highlights\"\n",
    "- \"2013 Corporate Report\"\n",
    "\n",
    "---\n",
    "\n",
    "### Task 2: Normalize each valid expression into a standardized format:\n",
    "\n",
    "1. If the expression is a **single year**, like `\"2013\"` or `\"FY2020\"`, output `\"2013\"` or `\"2020\"` as-is.\n",
    "2. If it is a **range of years only**, like `\"2014–15\"`, output `\"2014 to 2015\"`. Do **not** add months or days.\n",
    "3. If full dates are mentioned (e.g., `\"1st April 2020 – 31st March 2021\"`), remove ordinal suffixes (`1st`, `2nd`, etc.) and format as:\n",
    "   `\"1 April 2020 to 31 March 2021\"`\n",
    "4. Always convert dashes (\"–\" or \"-\") to \"to\".\n",
    "5. If month is provided but not day (e.g., `\"April 2020 – March 2021\"`), convert to `\"April 2020 to March 2021\"`.\n",
    "\n",
    "---\n",
    "\n",
    "### Task 3: Return a JSON in the following format:\n",
    "\n",
    "If a valid reporting year expression is found:\n",
    "\n",
    "{{\n",
    "  \"normalized_report_year\": \"your normalized result here\",\n",
    "  \"original_expression\": \"copy the original matched expression\",\n",
    "  \"source\": \"e.g. Page 1, main text\"\n",
    "}}\n",
    "\n",
    "If no valid expression is found:\n",
    "\n",
    "{{\n",
    "  \"normalized_report_year\": null,\n",
    "  \"original_expression\": null,\n",
    "  \"source\": \"NOT FOUND\"\n",
    "}}\n",
    "\n",
    "Only output the JSON object. Do not add explanations or commentary.\n",
    "\n",
    "---\n",
    "\n",
    "Text:\n",
    "{text}\n",
    "\"\"\"\n",
    "\n",
    "# ========== 5. Vision 模型辅助 ==========\n",
    "def encode_image_to_base64(pil_image):\n",
    "    with tempfile.NamedTemporaryFile(suffix=\".png\") as f:\n",
    "        pil_image.save(f.name, format=\"PNG\")\n",
    "        with open(f.name, \"rb\") as image_file:\n",
    "            return base64.b64encode(image_file.read()).decode(\"utf-8\")\n",
    "\n",
    "def extract_year_from_vision(pdf_path, page_limit=3):\n",
    "    try:\n",
    "        images = convert_from_path(pdf_path, dpi=200)\n",
    "        for i, img in enumerate(images[:page_limit]):\n",
    "            b64 = encode_image_to_base64(img)\n",
    "            response = client.chat.completions.create(\n",
    "                model=\"gpt-4o\",\n",
    "                messages=[\n",
    "                    {\"role\": \"user\", \"content\": [\n",
    "                        {\"type\": \"text\", \"text\": f\"Please extract the fiscal year or reporting period from page {i+1}. Please return in this JSON format:\\n\"\n",
    "                                                 \"{\\n  \\\"normalized_report_year\\\": \\\"...\\\",\\n  \\\"original_expression\\\": \\\"...\\\",\\n  \\\"source\\\": \\\"Page {i+1}, image-based\\\"\\n}\"},\n",
    "                        {\"type\": \"image_url\", \"image_url\": {\"url\": f\"data:image/png;base64,{b64}\"}}\n",
    "                    ]}\n",
    "                ],\n",
    "                max_tokens=300\n",
    "            )\n",
    "            content = response.choices[0].message.content\n",
    "            parsed = json.loads(content.strip()) if content.strip().startswith(\"{\") else eval(content.strip())\n",
    "            if parsed.get(\"normalized_report_year\"):\n",
    "                return parsed\n",
    "    except Exception as e:\n",
    "        return {\n",
    "            \"normalized_report_year\": None,\n",
    "            \"original_expression\": None,\n",
    "            \"source\": f\"Vision ERROR: {e}\"\n",
    "        }\n",
    "    return {\n",
    "        \"normalized_report_year\": None,\n",
    "        \"original_expression\": None,\n",
    "        \"source\": \"Vision NOT FOUND\"\n",
    "    }\n",
    "\n",
    "# ========== 6. 主函数：先文本，再 Vision ==========\n",
    "def extract_report_year(pdf_path):\n",
    "    try:\n",
    "        text = extract_front_back_text(pdf_path)\n",
    "        prompt = build_report_year_prompt(text)\n",
    "        response = client.chat.completions.create(\n",
    "            model=\"gpt-4.1-mini\",\n",
    "            messages=[{\"role\": \"user\", \"content\": prompt}],\n",
    "            temperature=0,\n",
    "            max_tokens=500\n",
    "        )\n",
    "        content = response.choices[0].message.content\n",
    "        parsed = json.loads(content.strip()) if content.strip().startswith(\"{\") else eval(content.strip())\n",
    "        if parsed.get(\"normalized_report_year\"):\n",
    "            return parsed\n",
    "    except Exception as e:\n",
    "        print(f\"⚠️ GPT-4.1-mini failed on {Path(pdf_path).name}, fallback to Vision...\")\n",
    "    return extract_year_from_vision(pdf_path)\n",
    "\n"
   ]
  },
  {
   "cell_type": "code",
   "execution_count": 13,
   "id": "a4d4a141",
   "metadata": {},
   "outputs": [],
   "source": [
    "def process_pdf(pdf_path):\n",
    "    text = extract_front_back_text(pdf_path)\n",
    "\n",
    "    report_type, sustainability,sustainability_name,classify_reasoning = classify_report_type(text)\n",
    "    year = extract_report_year(pdf_path)\n",
    "    company = extract_company_or_publisher_with_gpt(text)\n",
    "\n",
    "    return {\n",
    "        \"filename\": pdf_path.name,\n",
    "        # \"report_type\": rtype.get(\"report_type\"),\n",
    "        # \"has_sustainability_section\": rtype.get(\"has_sustainability_section\"),\n",
    "        # \"sustainability_section_name\": rtype.get(\"sustainability_section_name\"),\n",
    "        \"report_type\": report_type,\n",
    "        \"has_sustainability_section\": sustainability,\n",
    "        \"sustainability_section_name\": sustainability_name,\n",
    "        \"classify_reasoning\": classify_reasoning,\n",
    "        \"normalized_report_year\": year.get(\"normalized_report_year\"),\n",
    "        \"original_expression\": year.get(\"original_expression\"),\n",
    "        \"year_source\": year.get(\"source\"),\n",
    "        \"company_name\": company.get(\"company_name\"),\n",
    "        \"other_names\": \"; \".join(company.get(\"other_names\", [])),\n",
    "        \"publisher\": company.get(\"publisher\"),\n",
    "        \"country\": company.get(\"country\"),\n",
    "        \"reasoning\": company.get(\"reasoning\")\n",
    "    }"
   ]
  },
  {
   "cell_type": "code",
   "execution_count": null,
   "id": "0fd1594b",
   "metadata": {},
   "outputs": [
    {
     "name": "stderr",
     "output_type": "stream",
     "text": [
      "🚀 Processing PDFs:  19%|█▉        | 247/1277 [12:03<36:08,  2.11s/it]  "
     ]
    },
    {
     "name": "stdout",
     "output_type": "stream",
     "text": [
      "⚠️ Fallback to OCR on: Unknown_adbi-managing-transition-low-carbon-economy_087is5zy.pdf due to Too short, fallback to OCR.\n"
     ]
    },
    {
     "name": "stderr",
     "output_type": "stream",
     "text": [
      "🚀 Processing PDFs:  19%|█▉        | 248/1277 [12:04<35:03,  2.04s/it]"
     ]
    },
    {
     "name": "stdout",
     "output_type": "stream",
     "text": [
      "⚠️ Fallback to OCR on: Unknown_adbi-managing-transition-low-carbon-economy_087is5zy.pdf due to Too short, fallback to OCR.\n"
     ]
    },
    {
     "name": "stderr",
     "output_type": "stream",
     "text": [
      "🚀 Processing PDFs:  20%|█▉        | 253/1277 [12:13<29:07,  1.71s/it]"
     ]
    },
    {
     "name": "stdout",
     "output_type": "stream",
     "text": [
      "⚠️ Fallback to OCR on: Unknown_2014SustainRpt_FNL_lr_7mrwsfm7.pdf due to Too short, fallback to OCR.\n"
     ]
    },
    {
     "name": "stderr",
     "output_type": "stream",
     "text": [
      "🚀 Processing PDFs:  20%|█▉        | 254/1277 [12:14<26:19,  1.54s/it]"
     ]
    },
    {
     "name": "stdout",
     "output_type": "stream",
     "text": [
      "⚠️ Fallback to OCR on: Unknown_2014SustainRpt_FNL_lr_7mrwsfm7.pdf due to Too short, fallback to OCR.\n",
      "⚠️ GPT-4.1-mini failed on Unknown_2014SustainRpt_FNL_lr_7mrwsfm7.pdf, fallback to Vision...\n"
     ]
    },
    {
     "name": "stderr",
     "output_type": "stream",
     "text": [
      "🚀 Processing PDFs:  28%|██▊       | 354/1277 [17:05<48:29,  3.15s/it]  "
     ]
    },
    {
     "name": "stdout",
     "output_type": "stream",
     "text": [
      "⚠️ Fallback to OCR on: Hansae_Yes24_Holdings_Co_Ltd_HANSAE20YES2420HOLDINGS20ESG20REPORT202022_th5kzsfk.pdf due to Too short, fallback to OCR.\n"
     ]
    },
    {
     "name": "stderr",
     "output_type": "stream",
     "text": [
      "🚀 Processing PDFs:  28%|██▊       | 357/1277 [17:08<32:51,  2.14s/it]"
     ]
    },
    {
     "name": "stdout",
     "output_type": "stream",
     "text": [
      "⚠️ Fallback to OCR on: Hansae_Yes24_Holdings_Co_Ltd_HANSAE20YES2420HOLDINGS20ESG20REPORT202022_th5kzsfk.pdf due to Too short, fallback to OCR.\n"
     ]
    },
    {
     "name": "stderr",
     "output_type": "stream",
     "text": [
      "🚀 Processing PDFs:  33%|███▎      | 423/1277 [20:31<44:53,  3.15s/it]  "
     ]
    },
    {
     "name": "stdout",
     "output_type": "stream",
     "text": [
      "⚠️ Fallback to OCR on: Home_Inns__Hotels_Management_Inc_Barclays_Bank_PLC_Annual_Report_202014_5lj1epic.pdf due to Too short, fallback to OCR.\n",
      "⚠️ Fallback to OCR on: Home_Inns__Hotels_Management_Inc_Barclays_Bank_PLC_Annual_Report_202014_5lj1epic.pdf due to Too short, fallback to OCR.\n"
     ]
    },
    {
     "name": "stderr",
     "output_type": "stream",
     "text": [
      "🚀 Processing PDFs:  35%|███▌      | 453/1277 [21:38<28:53,  2.10s/it]  "
     ]
    },
    {
     "name": "stdout",
     "output_type": "stream",
     "text": [
      "⚠️ GPT-4.1-mini failed on Equiniti_Group_PLC_equiniti_annual_report_2013_sc3sfin8.pdf, fallback to Vision...\n",
      "⚠️ GPT-4.1-mini failed on Indraprastha_Medical_Corp_IMCL-Annual-Report-2021-22_wm0azpdc.pdf, fallback to Vision...\n",
      "⚠️ GPT-4.1-mini failed on Avon_Protection_plc_LSE_AVON_2018_vl18pd8d.pdf, fallback to Vision...\n",
      "⚠️ GPT-4.1-mini failed on Unknown_202020Ohio20Treasurer20Annual20Report201_y9weygfp.pdf, fallback to Vision...\n",
      "⚠️ GPT-4.1-mini failed on Dis-Chem_Pharmacies_Ltd__74gpygvx.pdf, fallback to Vision...\n"
     ]
    },
    {
     "name": "stderr",
     "output_type": "stream",
     "text": [
      "🚀 Processing PDFs:  36%|███▌      | 457/1277 [22:21<1:12:32,  5.31s/it]"
     ]
    },
    {
     "name": "stdout",
     "output_type": "stream",
     "text": [
      "⚠️ GPT-4.1-mini failed on Absolute_Software_Corp_abt-csr-report_chc5albm.pdf, fallback to Vision...\n"
     ]
    },
    {
     "name": "stderr",
     "output_type": "stream",
     "text": [
      "🚀 Processing PDFs:  38%|███▊      | 491/1277 [24:02<41:57,  3.20s/it]  "
     ]
    },
    {
     "name": "stdout",
     "output_type": "stream",
     "text": [
      "⚠️ Fallback to OCR on: Unknown_adp07-sus-fr_95qx6prh.pdf due to Too short, fallback to OCR.\n"
     ]
    },
    {
     "name": "stderr",
     "output_type": "stream",
     "text": [
      "🚀 Processing PDFs:  39%|███▊      | 494/1277 [24:11<38:47,  2.97s/it]"
     ]
    },
    {
     "name": "stdout",
     "output_type": "stream",
     "text": [
      "⚠️ Fallback to OCR on: Unknown_adp07-sus-fr_95qx6prh.pdf due to Too short, fallback to OCR.\n"
     ]
    },
    {
     "name": "stderr",
     "output_type": "stream",
     "text": [
      "🚀 Processing PDFs:  41%|████▏     | 528/1277 [25:26<22:27,  1.80s/it]"
     ]
    },
    {
     "name": "stdout",
     "output_type": "stream",
     "text": [
      "⚠️ GPT-4.1-mini failed on Essential_Utilities_Inc_34ecde9c-8434-4849-a903-48114b59c681_f5v52887.pdf, fallback to Vision...\n"
     ]
    },
    {
     "name": "stderr",
     "output_type": "stream",
     "text": [
      "🚀 Processing PDFs:  52%|█████▏    | 668/1277 [32:29<28:43,  2.83s/it]  "
     ]
    },
    {
     "name": "stdout",
     "output_type": "stream",
     "text": [
      "⚠️ Fallback to OCR on: Armstrong_Flooring_Inc_SustainabilityReport-2020_kot54emv.pdf due to Too short, fallback to OCR.\n"
     ]
    },
    {
     "name": "stderr",
     "output_type": "stream",
     "text": [
      "🚀 Processing PDFs:  52%|█████▏    | 669/1277 [32:29<21:01,  2.07s/it]"
     ]
    },
    {
     "name": "stdout",
     "output_type": "stream",
     "text": [
      "⚠️ Fallback to OCR on: Armstrong_Flooring_Inc_SustainabilityReport-2020_kot54emv.pdf due to Too short, fallback to OCR.\n"
     ]
    },
    {
     "name": "stderr",
     "output_type": "stream",
     "text": [
      "🚀 Processing PDFs:  53%|█████▎    | 674/1277 [32:42<27:23,  2.72s/it]"
     ]
    },
    {
     "name": "stdout",
     "output_type": "stream",
     "text": [
      "⚠️ GPT-4.1-mini failed on AWG_PLC_oal-accounts-31-3-2021_01mspido.pdf, fallback to Vision...\n"
     ]
    },
    {
     "name": "stderr",
     "output_type": "stream",
     "text": [
      "🚀 Processing PDFs:  55%|█████▍    | 701/1277 [33:54<16:27,  1.71s/it]  "
     ]
    },
    {
     "name": "stdout",
     "output_type": "stream",
     "text": [
      "⚠️ GPT-4.1-mini failed on Unknown_2022-esg-report-update_grll1p8t.pdf, fallback to Vision...\n"
     ]
    },
    {
     "name": "stderr",
     "output_type": "stream",
     "text": [
      "🚀 Processing PDFs:  55%|█████▍    | 702/1277 [34:34<1:36:07, 10.03s/it]"
     ]
    },
    {
     "name": "stdout",
     "output_type": "stream",
     "text": [
      "⚠️ GPT-4.1-mini failed on Somfy_SA_2019annual_financial_report_hhukjl3l.pdf, fallback to Vision...\n"
     ]
    },
    {
     "name": "stderr",
     "output_type": "stream",
     "text": [
      "🚀 Processing PDFs:  57%|█████▋    | 732/1277 [35:33<19:15,  2.12s/it]  "
     ]
    },
    {
     "name": "stdout",
     "output_type": "stream",
     "text": [
      "⚠️ GPT-4.1-mini failed on Unknown_51719-12Co-12412560A3121758840E-Gl_1j0j409z.pdf, fallback to Vision...\n"
     ]
    },
    {
     "name": "stderr",
     "output_type": "stream",
     "text": [
      "🚀 Processing PDFs:  60%|█████▉    | 766/1277 [37:20<17:42,  2.08s/it]  "
     ]
    },
    {
     "name": "stdout",
     "output_type": "stream",
     "text": [
      "⚠️ Fallback to OCR on: Tam_Jai_International_Co_Ltd_2022083101184_go5rbp4a.pdf due to Too short, fallback to OCR.\n"
     ]
    },
    {
     "name": "stderr",
     "output_type": "stream",
     "text": [
      "🚀 Processing PDFs:  60%|██████    | 768/1277 [37:28<21:28,  2.53s/it]"
     ]
    },
    {
     "name": "stdout",
     "output_type": "stream",
     "text": [
      "⚠️ Fallback to OCR on: Tam_Jai_International_Co_Ltd_2022083101184_go5rbp4a.pdf due to Too short, fallback to OCR.\n"
     ]
    },
    {
     "name": "stderr",
     "output_type": "stream",
     "text": [
      "🚀 Processing PDFs:  70%|██████▉   | 890/1277 [43:22<16:55,  2.62s/it]"
     ]
    },
    {
     "name": "stdout",
     "output_type": "stream",
     "text": [
      "⚠️ Fallback to OCR on: Hyosung_Corp_SR_2020_en_8g98j6gk.pdf due to Too short, fallback to OCR.\n"
     ]
    },
    {
     "name": "stderr",
     "output_type": "stream",
     "text": [
      "🚀 Processing PDFs:  70%|██████▉   | 892/1277 [43:31<19:33,  3.05s/it]"
     ]
    },
    {
     "name": "stdout",
     "output_type": "stream",
     "text": [
      "⚠️ Fallback to OCR on: Hyosung_Corp_SR_2020_en_8g98j6gk.pdf due to Too short, fallback to OCR.\n"
     ]
    },
    {
     "name": "stderr",
     "output_type": "stream",
     "text": [
      "🚀 Processing PDFs:  76%|███████▌  | 968/1277 [47:08<12:26,  2.42s/it]"
     ]
    },
    {
     "name": "stdout",
     "output_type": "stream",
     "text": [
      "⚠️ GPT-4.1-mini failed on Siltronic_AG_20220309_Siltronic_Non-financial_Report_2021_qxyku58i.pdf, fallback to Vision...\n",
      "⚠️ Fallback to OCR on: Boryung_Corporation_EBB3B4EBA0B920ECA780EC868DEAB080EB8AA5EAB2BDEC9881EBB3B4EAB3A0EC849CEC9881EBACB8_ebpit5lz.pdf due to Too short, fallback to OCR.\n"
     ]
    },
    {
     "name": "stderr",
     "output_type": "stream",
     "text": [
      "🚀 Processing PDFs:  76%|███████▌  | 969/1277 [47:20<24:34,  4.79s/it]"
     ]
    },
    {
     "name": "stdout",
     "output_type": "stream",
     "text": [
      "⚠️ Fallback to OCR on: Boryung_Corporation_EBB3B4EBA0B920ECA780EC868DEAB080EB8AA5EAB2BDEC9881EBB3B4EAB3A0EC849CEC9881EBACB8_ebpit5lz.pdf due to Too short, fallback to OCR.\n"
     ]
    },
    {
     "name": "stderr",
     "output_type": "stream",
     "text": [
      "🚀 Processing PDFs:  77%|███████▋  | 982/1277 [48:02<15:26,  3.14s/it]"
     ]
    },
    {
     "name": "stdout",
     "output_type": "stream",
     "text": [
      "⚠️ Fallback to OCR on: Arvind_Ltd_Arvind_AR_2022-23_0_iwp4673c.pdf due to Too short, fallback to OCR.\n",
      "⚠️ Fallback to OCR on: Arvind_Ltd_Arvind_AR_2022-23_0_iwp4673c.pdf due to Too short, fallback to OCR.\n"
     ]
    },
    {
     "name": "stderr",
     "output_type": "stream",
     "text": [
      "🚀 Processing PDFs:  86%|████████▌ | 1100/1277 [53:47<07:22,  2.50s/it]"
     ]
    },
    {
     "name": "stdout",
     "output_type": "stream",
     "text": [
      "⚠️ Fallback to OCR on: EKI_Energy_Services_Limited_69298543284_zj7y1tjh.pdf due to Too short, fallback to OCR.\n"
     ]
    },
    {
     "name": "stderr",
     "output_type": "stream",
     "text": [
      "🚀 Processing PDFs:  86%|████████▋ | 1103/1277 [53:59<08:26,  2.91s/it]"
     ]
    },
    {
     "name": "stdout",
     "output_type": "stream",
     "text": [
      "⚠️ Fallback to OCR on: EKI_Energy_Services_Limited_69298543284_zj7y1tjh.pdf due to Too short, fallback to OCR.\n"
     ]
    },
    {
     "name": "stderr",
     "output_type": "stream",
     "text": [
      "🚀 Processing PDFs:  88%|████████▊ | 1118/1277 [55:11<10:55,  4.12s/it]"
     ]
    },
    {
     "name": "stdout",
     "output_type": "stream",
     "text": [
      "⚠️ Fallback to OCR on: Unknown_23076_Whitbread_AR2020_web_0v2mxh4f.pdf due to Too short, fallback to OCR.\n"
     ]
    },
    {
     "name": "stderr",
     "output_type": "stream",
     "text": [
      "🚀 Processing PDFs:  88%|████████▊ | 1120/1277 [55:15<08:55,  3.41s/it]"
     ]
    },
    {
     "name": "stdout",
     "output_type": "stream",
     "text": [
      "⚠️ Fallback to OCR on: Unknown_23076_Whitbread_AR2020_web_0v2mxh4f.pdf due to Too short, fallback to OCR.\n"
     ]
    },
    {
     "name": "stderr",
     "output_type": "stream",
     "text": [
      "🚀 Processing PDFs:  89%|████████▉ | 1138/1277 [56:15<07:16,  3.14s/it]"
     ]
    },
    {
     "name": "stdout",
     "output_type": "stream",
     "text": [
      "⚠️ GPT-4.1-mini failed on Unknown_2022033100197_w4pq05yp.pdf, fallback to Vision...\n"
     ]
    },
    {
     "name": "stderr",
     "output_type": "stream",
     "text": [
      "🚀 Processing PDFs:  89%|████████▉ | 1141/1277 [56:21<05:58,  2.64s/it]"
     ]
    },
    {
     "name": "stdout",
     "output_type": "stream",
     "text": [
      "⚠️ GPT-4.1-mini failed on Bell_Food_Group_AG__ju45deo3.pdf, fallback to Vision...\n",
      "⚠️ GPT-4.1-mini failed on Unknown_2022-MSC-Industrial-Supply-Inc-ESG-Report_klcgaob8.pdf, fallback to Vision...\n",
      "⚠️ GPT-4.1-mini failed on Fujikura_Ltd_csr2020_all_ehx85wml.pdf, fallback to Vision...\n",
      "⚠️ GPT-4.1-mini failed on Miyoshi_Ltd_Sustainability20Report202021_gmwjwp9p.pdf, fallback to Vision...\n"
     ]
    },
    {
     "name": "stderr",
     "output_type": "stream",
     "text": [
      "🚀 Processing PDFs:  94%|█████████▍| 1205/1277 [1:00:19<04:52,  4.07s/it]"
     ]
    },
    {
     "name": "stdout",
     "output_type": "stream",
     "text": [
      "⚠️ Fallback to OCR on: Unknown_2023042101335_kyzhtmjn.pdf due to Too short, fallback to OCR.\n",
      "⚠️ Fallback to OCR on: Unknown_2023042101335_kyzhtmjn.pdf due to Too short, fallback to OCR.\n"
     ]
    },
    {
     "name": "stderr",
     "output_type": "stream",
     "text": [
      "🚀 Processing PDFs:  99%|█████████▉| 1264/1277 [1:03:06<00:34,  2.63s/it]"
     ]
    },
    {
     "name": "stdout",
     "output_type": "stream",
     "text": [
      "⚠️ Fallback to OCR on: BASF_SE_2012_BASF_Report_lmq79gwn.pdf due to Too short, fallback to OCR.\n"
     ]
    },
    {
     "name": "stderr",
     "output_type": "stream",
     "text": [
      "🚀 Processing PDFs:  99%|█████████▉| 1266/1277 [1:03:07<00:20,  1.82s/it]"
     ]
    },
    {
     "name": "stdout",
     "output_type": "stream",
     "text": [
      "⚠️ Fallback to OCR on: BASF_SE_2012_BASF_Report_lmq79gwn.pdf due to Too short, fallback to OCR.\n"
     ]
    },
    {
     "name": "stderr",
     "output_type": "stream",
     "text": [
      "🚀 Processing PDFs: 100%|██████████| 1277/1277 [1:03:41<00:00,  2.99s/it]"
     ]
    },
    {
     "name": "stdout",
     "output_type": "stream",
     "text": [
      "✅ Done! Results saved to: results/full_pipeline_output_parrel .csv\n"
     ]
    },
    {
     "name": "stderr",
     "output_type": "stream",
     "text": [
      "\n"
     ]
    }
   ],
   "source": [
    "# 设置路径\n",
    "from concurrent.futures import ThreadPoolExecutor\n",
    "pdf_dir = Path(\"pdf_folder\")\n",
    "output_path = Path(\"results/full_pipeline_output_classify2.csv\")\n",
    "os.makedirs(output_path.parent, exist_ok=True)\n",
    "\n",
    "# 收集所有 PDF 文件\n",
    "pdf_files = list(pdf_dir.glob(\"*.pdf\"))\n",
    "\n",
    "# 定义最大线程数（推荐 5–10）\n",
    "MAX_WORKERS = 5\n",
    "\n",
    "# 使用线程池并行执行\n",
    "with ThreadPoolExecutor(max_workers=MAX_WORKERS) as executor:\n",
    "    results = list(tqdm(executor.map(process_pdf, pdf_files), total=len(pdf_files), desc=\"🚀 Processing PDFs\"))\n",
    "\n",
    "# 保存结果\n",
    "df = pd.DataFrame(results)\n",
    "df.to_csv(output_path, index=False)\n",
    "print(f\"✅ Done! Results saved to: {output_path}\")"
   ]
  },
  {
   "cell_type": "markdown",
   "id": "f59fa4da",
   "metadata": {},
   "source": [
    "年份对比"
   ]
  },
  {
   "cell_type": "code",
   "execution_count": 18,
   "id": "952f6f2a",
   "metadata": {},
   "outputs": [
    {
     "name": "stdout",
     "output_type": "stream",
     "text": [
      "✅ number of combine samples：224\n",
      "✅ correct matches：189\n",
      "✅ Fuzzy Accuracy：84.38%\n"
     ]
    }
   ],
   "source": [
    "import pandas as pd\n",
    "import re\n",
    "\n",
    "# === 1. 加载数据 ===\n",
    "gpt_df = pd.read_csv(\"results/full_pipeline_output_parrel .csv\")  # GPT提取结果\n",
    "label_df = pd.read_excel(\"check/rfyear_annotation.xlsx\")            # 标注结果\n",
    "\n",
    "# === 2. 重命名列对齐、合并（按文件名）===\n",
    "gpt_df.rename(columns={\"filename\": \"pdf_name\", \"report_year\": \"normalized_report_year\"}, inplace=True)\n",
    "merged = pd.merge(label_df, gpt_df, on=\"pdf_name\", how=\"inner\")\n",
    "\n",
    "# === 3. 清洗文本：空值转空串，大小写、空格、换行处理 ===\n",
    "def clean_text(s):\n",
    "    if pd.isna(s): return \"\"\n",
    "    return str(s).strip().lower().replace(\"\\n\", \" \")\n",
    "\n",
    "merged[\"normalized_report_year\"] = merged[\"normalized_report_year\"].apply(clean_text)\n",
    "merged[\"chosen_rfyear\"] = merged[\"chosen_rfyear\"].apply(clean_text)\n",
    "\n",
    "# === 4. 定义辅助函数 ===\n",
    "import re\n",
    "\n",
    "def normalize_year_text(s):\n",
    "    if not s:\n",
    "        return \"\"\n",
    "    s = s.lower().strip()\n",
    "    \n",
    "    # 替换常见连字符为统一格式\n",
    "    s = s.replace(\"–\", \" to \").replace(\"-\", \" to \").replace(\"/\", \" to \")\n",
    "\n",
    "    # 清除无效字符\n",
    "    s = re.sub(r'[\\(\\)\\[\\],;:]', ' ', s)\n",
    "    s = re.sub(r'\\s+', ' ', s)\n",
    "\n",
    "    # fy 缩写处理：fy2020 或 fy 2020 → 2020\n",
    "    s = re.sub(r'\\bfy\\s*(\\d{4})\\b', r'\\1', s)                   # fy 2020 → 2020\n",
    "    s = re.sub(r'\\bfy\\s*(\\d{2})\\b', lambda m: f\"20{m.group(1)}\", s)  # fy 19 → 2019\n",
    "\n",
    "    # 区间格式处理：2020 to 21 → 2020 to 2021\n",
    "    s = re.sub(r'\\b(20\\d{2})\\s+to\\s+(\\d{2})\\b', lambda m: f\"{m.group(1)} to 20{m.group(2)}\", s)\n",
    "\n",
    "    # 区间格式处理：2020–2021、2020-2021、fy2020 to 2021 → 2020 to 2021\n",
    "    s = re.sub(r'\\b(20\\d{2})\\s*to\\s*(20\\d{2})\\b', r'\\1 to \\2', s)\n",
    "    s = re.sub(r'\\b(20\\d{2})\\s+to\\s+20\\d{2}', r'\\g<0>', s)\n",
    "\n",
    "    # 清理序数词\n",
    "    s = re.sub(r'\\b(\\d{1,2})(st|nd|rd|th)\\b', r'\\1', s)\n",
    "\n",
    "    return s.strip()\n",
    "\n",
    "def extract_years(s):\n",
    "    return sorted(set(re.findall(r'\\b(20\\d{2}|19\\d{2})\\b', s)))\n",
    "\n",
    "def is_fuzzy_match(a, b):\n",
    "    a_norm = normalize_year_text(a)\n",
    "    b_norm = normalize_year_text(b)\n",
    "    if a_norm == b_norm:\n",
    "        return True\n",
    "\n",
    "    # 提取年份集合\n",
    "    a_years = extract_years(a_norm)\n",
    "    b_years = extract_years(b_norm)\n",
    "\n",
    "    if not a_years or not b_years:\n",
    "        return False\n",
    "\n",
    "    # 排序后再比较\n",
    "    a_sorted = sorted(set(a_years))\n",
    "    b_sorted = sorted(set(b_years))\n",
    "\n",
    "    # 完全一致或包含\n",
    "    if a_sorted == b_sorted:\n",
    "        return True\n",
    "    if len(a_sorted) == 1 and a_sorted[0] in b_sorted:\n",
    "        return True\n",
    "    if len(b_sorted) == 1 and b_sorted[0] in a_sorted:\n",
    "        return True\n",
    "\n",
    "    # 仅一个年份时允许±1\n",
    "    if len(a_sorted) == 1 and len(b_sorted) == 1 and abs(int(a_sorted[0]) - int(b_sorted[0])) <= 1:\n",
    "        return True\n",
    "\n",
    "    return False\n",
    "\n",
    "# === 5. 应用模糊匹配函数 ===\n",
    "merged[\"fuzzy_match\"] = merged.apply(lambda row: is_fuzzy_match(row[\"normalized_report_year\"], row[\"chosen_rfyear\"]), axis=1)\n",
    "\n",
    "# === 6. 计算准确率 ===\n",
    "total = len(merged)\n",
    "correct = merged[\"fuzzy_match\"].sum()\n",
    "accuracy = correct / total\n",
    "\n",
    "print(f\"✅ number of combine samples：{total}\")\n",
    "print(f\"✅ correct matches：{correct}\")\n",
    "print(f\"✅ Fuzzy Accuracy：{accuracy:.2%}\")\n",
    "\n",
    "# === 7. 保存结果 ===\n",
    "merged[[\"pdf_name\", \"chosen_rfyear\", \"normalized_report_year\", \"fuzzy_match\"]].to_csv(\"pipeline_eval/year_comparison.csv\", index=False)"
   ]
  },
  {
   "cell_type": "markdown",
   "id": "b4fb4aaf",
   "metadata": {},
   "source": [
    "name对比"
   ]
  },
  {
   "cell_type": "code",
   "execution_count": 19,
   "id": "43f5be52",
   "metadata": {},
   "outputs": [
    {
     "name": "stdout",
     "output_type": "stream",
     "text": [
      "✅ Company name extraction accuracy (including loose country matching)：94.12%\n"
     ]
    }
   ],
   "source": [
    "import pandas as pd\n",
    "from difflib import SequenceMatcher\n",
    "import re\n",
    "import ast\n",
    "import pycountry\n",
    "\n",
    "# === Step 1: 加载文件 ===\n",
    "df_pred = pd.read_csv(\"results/full_pipeline_output_parrel .csv\")  # 包含 company_name、other_names\n",
    "df_true = pd.read_csv(\"check/matching_gabarito_with_pdfs2.csv\")  # 包含 name_2\n",
    "df_pred[\"filename\"] = df_pred[\"filename\"].str.strip()\n",
    "df_true[\"filename\"] = df_true[\"pdf_path\"].str.strip()\n",
    "\n",
    "df_merged = pd.merge(df_pred, df_true, on=\"filename\", how=\"inner\")\n",
    "\n",
    "# === Step 2: 清洗函数 ===\n",
    "def _clean_name(name: str) -> str:\n",
    "    if pd.isna(name):\n",
    "        return \"\"\n",
    "    name = name.lower()\n",
    "    name = re.sub(r\"\\([^()]*\\)\", \"\", name)\n",
    "    name = re.sub(r\"[^\\w\\d\\s]\", \"\", name)\n",
    "    suffixes = [\n",
    "        \" company\", \" companies\", \" corporation\", \" incorporated\", \" corp\", \" llc\", \" ltd\", \" inc\", \n",
    "        \" oyj\", \" intl\", \" sa\", \" lp\", \" spa\", \" sanv\", \" nv\", \" plc\", \" nvsa\", \" ptd\", \n",
    "        \" int\", \" international\", \"limited\", \"group\", \"the \", \" holdings\", \" co\"\n",
    "    ]\n",
    "    for suffix in suffixes:\n",
    "        name = name.replace(suffix, \"\")\n",
    "    return re.sub(r\"\\s+\", \" \", name).strip()\n",
    "\n",
    "def fuzzy_match(a, b):\n",
    "    return SequenceMatcher(None, a, b).ratio()\n",
    "\n",
    "def normalize_country_name(name):\n",
    "    if pd.isna(name) or not isinstance(name, str):\n",
    "        return \"\"\n",
    "    name = name.strip().lower()\n",
    "    try:\n",
    "        # 先尝试国家简称\n",
    "        country = pycountry.countries.get(alpha_2=name.upper())\n",
    "        if country:\n",
    "            return country.name.lower()\n",
    "        # 再尝试国家全称\n",
    "        country = pycountry.countries.search_fuzzy(name)[0]\n",
    "        return country.name.lower()\n",
    "    except:\n",
    "        return name.lower()\n",
    "\n",
    "def word_overlap_match(name1, name2):\n",
    "    \"\"\"返回两个名字中单词交集是否显著（≥1个有效关键词）\"\"\"\n",
    "    stopwords = {\"group\", \"holdings\", \"company\", \"limited\", \"corporation\", \"inc\", \"co\"}\n",
    "    words1 = set(re.findall(r\"\\b\\w+\\b\", name1.lower())) - stopwords\n",
    "    words2 = set(re.findall(r\"\\b\\w+\\b\", name2.lower())) - stopwords\n",
    "    return len(words1 & words2) > 0\n",
    "\n",
    "# === Step 3: 匹配函数 ===\n",
    "def get_best_match(row):\n",
    "    target = _clean_name(row[\"name_2\"])\n",
    "    main_name = _clean_name(row[\"company_name\"])\n",
    "    best_score = fuzzy_match(main_name, target)\n",
    "    best_source = \"company_name\"\n",
    "    is_match = best_score >= 0.85\n",
    "\n",
    "    # 尝试别名匹配\n",
    "    candidates = []\n",
    "    if \"other_names\" in row and pd.notna(row[\"other_names\"]):\n",
    "        raw = row[\"other_names\"]\n",
    "        try:\n",
    "            if isinstance(raw, str):\n",
    "                if raw.startswith(\"[\"):\n",
    "                    candidates = ast.literal_eval(raw)\n",
    "                else:\n",
    "                    candidates = re.split(r\"[;,\\n]\", raw)\n",
    "            elif isinstance(raw, list):\n",
    "                candidates = raw\n",
    "        except Exception:\n",
    "            candidates = []\n",
    "\n",
    "    for alt in candidates:\n",
    "        alt_clean = _clean_name(alt)\n",
    "        score = fuzzy_match(alt_clean, target)\n",
    "        if score > best_score:\n",
    "            best_score = score\n",
    "            is_match = score >= 0.85\n",
    "            best_source = f\"other_names ({alt.strip()})\"\n",
    "\n",
    "    # 第三阶段：若高分匹配失败，则使用国家宽松匹配 + 单词交集\n",
    "    country1 = normalize_country_name(row.get(\"country\", \"\"))\n",
    "    country2 = normalize_country_name(row.get(\"loc\", \"\"))\n",
    "    \n",
    "    relaxed_match_applied = False\n",
    "    if not is_match and country1 and country1 == country2:\n",
    "        if word_overlap_match(row[\"company_name\"], row[\"name_2\"]):\n",
    "            is_match = True\n",
    "            best_source = \"relaxed_by_country_word_overlap\"\n",
    "            relaxed_match_applied = True\n",
    "\n",
    "    return pd.Series([\n",
    "        best_score,\n",
    "        is_match,\n",
    "        best_source,\n",
    "        country1,\n",
    "        country2,\n",
    "        relaxed_match_applied\n",
    "    ], index=[\n",
    "        \"fuzzy_score\", \"is_correct\", \"matched_by\", \n",
    "        \"normalized_country_pred\", \"normalized_country_true\", \n",
    "        \"used_relaxed_match\"\n",
    "    ])\n",
    "\n",
    "# === Step 4: 应用匹配函数 ===\n",
    "df_merged[[\n",
    "    \"fuzzy_score\", \"is_correct\", \"matched_by\", \n",
    "    \"normalized_country_pred\", \"normalized_country_true\", \n",
    "    \"used_relaxed_match\"\n",
    "]] = df_merged.apply(get_best_match, axis=1)\n",
    "\n",
    "# === Step 5: 输出表格 ===\n",
    "df_eval = df_merged[[\n",
    "    \"filename\", \"company_name\", \"other_names\", \"country\", \n",
    "    \"name_2\", \"loc\", \"normalized_country_pred\", \n",
    "    \"normalized_country_true\", \"fuzzy_score\", \"is_correct\", \n",
    "    \"matched_by\", \"used_relaxed_match\"\n",
    "]]\n",
    "df_eval.to_csv(\"pipeline_eval/name_eval.csv\", index=False)\n",
    "\n",
    "# === Step 6: 显示准确率 ===\n",
    "accuracy = df_eval[\"is_correct\"].mean()\n",
    "print(f\"✅ Company name extraction accuracy (including loose country matching)：{accuracy:.2%}\")"
   ]
  },
  {
   "cell_type": "markdown",
   "id": "f2350f88",
   "metadata": {},
   "source": [
    "分类对比"
   ]
  },
  {
   "cell_type": "code",
   "execution_count": 1,
   "id": "aa966172",
   "metadata": {},
   "outputs": [
    {
     "name": "stdout",
     "output_type": "stream",
     "text": [
      "accuracy: 93.83%\n",
      "✅ Saved to classification_comparison.xlsx\n"
     ]
    },
    {
     "name": "stderr",
     "output_type": "stream",
     "text": [
      "/var/folders/9z/mm8bj8yn2yj6rk7vdlhpt07h0000gn/T/ipykernel_10403/1724669853.py:40: FutureWarning: DataFrame.applymap has been deprecated. Use DataFrame.map instead.\n",
      "  df_merged_cleaned = df_merged.applymap(clean_illegal_excel_chars)\n"
     ]
    },
    {
     "name": "stdout",
     "output_type": "stream",
     "text": [
      "📊 detailed \n",
      "\n",
      "                       precision    recall  f1-score   support\n",
      "\n",
      "        annual report      0.667     1.000     0.800         8\n",
      "    integrated report      1.000     0.810     0.895        21\n",
      "                other      1.000     0.500     0.667         2\n",
      "sustainability report      0.980     1.000     0.990        50\n",
      "\n",
      "             accuracy                          0.938        81\n",
      "            macro avg      0.912     0.827     0.838        81\n",
      "         weighted avg      0.955     0.938     0.939        81\n",
      "\n"
     ]
    },
    {
     "data": {
      "image/png": "[encoded data removed]",
      "text/plain": [
       "<Figure size 600x500 with 2 Axes>"
      ]
     },
     "metadata": {},
     "output_type": "display_data"
    }
   ],
   "source": [
    "import pandas as pd\n",
    "\n",
    "# ==== 1. 设置文件路径 ====\n",
    "# 修改为你本地的绝对路径或相对路径\n",
    "human_label_path = \"check/pdf_classification.xlsx\"\n",
    "gpt_result_path = \"results/full_pipeline_output_parrel .csv\"\n",
    "\n",
    "# ==== 2. 读取文件 ====\n",
    "df_human = pd.read_excel(human_label_path)\n",
    "df_gpt = pd.read_csv(gpt_result_path)\n",
    "\n",
    "# ==== 3. 标准化列名，确保 filename 和 report_type 存在 ====\n",
    "df_human.columns = [col.strip().lower() for col in df_human.columns]\n",
    "df_gpt.columns = [col.strip().lower() for col in df_gpt.columns]\n",
    "\n",
    "# ==== 4. 合并两个表 ====\n",
    "df_merged = pd.merge(df_human, df_gpt, left_on=\"file_name\",\n",
    "    right_on=\"filename\",\n",
    "    how=\"left\")\n",
    "df_merged = df_merged.drop_duplicates(subset=\"file_name\", keep=\"first\")\n",
    "\n",
    "# ==== 6. 比较两个分类结果 ====\n",
    "df_merged[\"report_type_human\"] = df_merged[\"report_type_human\"].str.strip().str.lower()\n",
    "df_merged[\"report_type_gpt\"] = df_merged[\"report_type\"].str.strip().str.lower()\n",
    "df_merged[\"is_correct\"] = df_merged[\"report_type_human\"] == df_merged[\"report_type_gpt\"]\n",
    "\n",
    "# ==== 7. 计算准确率 ====\n",
    "accuracy = df_merged[\"is_correct\"].mean()\n",
    "print(f\"accuracy: {accuracy:.2%}\")\n",
    "\n",
    "# ==== 8. 导出对比结果（可选）====\n",
    "import re\n",
    "\n",
    "def clean_illegal_excel_chars(text):\n",
    "    if isinstance(text, str):\n",
    "        return re.sub(r\"[\\x00-\\x1F\\x7F]\", \"\", text)\n",
    "    return text\n",
    "\n",
    "# 清理非法字符\n",
    "df_merged_cleaned = df_merged.applymap(clean_illegal_excel_chars)\n",
    "\n",
    "# 再导出\n",
    "df_merged_cleaned.to_excel(\"pipeline_eval/classification_comparison2.xlsx\", index=False)\n",
    "print(\"✅ Saved to classification_comparison.xlsx\")\n",
    "# df_merged.to_excel(\"pipeline_eval/classification_comparison.xlsx\", index=False)\n",
    "# print(\"saved to classification_comparison_result.xlsx\")\n",
    "\n",
    "import sklearn\n",
    "from sklearn.metrics import classification_report, confusion_matrix\n",
    "\n",
    "# === 仅保留非空对比项（防止空值影响）===\n",
    "valid = df_merged[~df_merged[\"report_type_human\"].isna() & ~df_merged[\"report_type_gpt\"].isna()]\n",
    "\n",
    "# === 打印 classification report ===\n",
    "report = classification_report(\n",
    "    valid[\"report_type_human\"], \n",
    "    valid[\"report_type_gpt\"], \n",
    "    digits=3, \n",
    "    output_dict=False  # 改为 True 可返回字典\n",
    ")\n",
    "print(\"📊 detailed \\n\")\n",
    "print(report)\n",
    "\n",
    "# === 可视化混淆矩阵（可选）===\n",
    "import seaborn as sns\n",
    "import matplotlib.pyplot as plt\n",
    "\n",
    "cm = confusion_matrix(valid[\"report_type_human\"], valid[\"report_type_gpt\"], labels=valid[\"report_type_human\"].unique())\n",
    "plt.figure(figsize=(6,5))\n",
    "sns.heatmap(cm, annot=True, fmt='d', cmap='Blues',\n",
    "            xticklabels=valid[\"report_type_human\"].unique(),\n",
    "            yticklabels=valid[\"report_type_human\"].unique())\n",
    "plt.xlabel(\"Predicted\")\n",
    "plt.ylabel(\"True\")\n",
    "plt.title(\"Confusion Matrix\")\n",
    "plt.tight_layout()\n",
    "plt.show()"
   ]
  },
  {
   "cell_type": "code",
   "execution_count": null,
   "id": "159cdb87",
   "metadata": {},
   "outputs": [],
   "source": []
  },
  {
   "cell_type": "code",
   "execution_count": null,
   "id": "fc4bfcfc",
   "metadata": {},
   "outputs": [],
   "source": []
  }
 ],
 "metadata": {
  "kernelspec": {
   "display_name": "irp_pdf",
   "language": "python",
   "name": "python3"
  },
  "language_info": {
   "codemirror_mode": {
    "name": "ipython",
    "version": 3
   },
   "file_extension": ".py",
   "mimetype": "text/x-python",
   "name": "python",
   "nbconvert_exporter": "python",
   "pygments_lexer": "ipython3",
   "version": "3.12.9"
  }
 },
 "nbformat": 4,
 "nbformat_minor": 5
}
