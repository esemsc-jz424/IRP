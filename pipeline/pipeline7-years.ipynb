{
 "cells": [
  {
   "cell_type": "code",
   "execution_count": 1,
   "id": "50b7eeb4",
   "metadata": {},
   "outputs": [],
   "source": [
    "from openai import OpenAI\n",
    "from pathlib import Path\n",
    "import fitz  # PyMuPDF\n",
    "import pandas as pd\n",
    "from tqdm import tqdm\n",
    "import json\n",
    "from dotenv import load_dotenv\n",
    "\n",
    "from pdf2image import convert_from_path\n",
    "import pytesseract\n",
    "from PIL import Image\n",
    "import tempfile\n",
    "import os\n",
    "\n",
    "import base64\n",
    "import shutil\n",
    "\n",
    "from joblib import Parallel, delayed\n",
    "from concurrent.futures import ThreadPoolExecutor\n",
    "\n"
   ]
  },
  {
   "cell_type": "code",
   "execution_count": 2,
   "id": "6d1257e9",
   "metadata": {},
   "outputs": [],
   "source": [
    "# =========================\n",
    "# Init\n",
    "# =========================\n",
    "load_dotenv()\n",
    "client = OpenAI(api_key=os.getenv(\"OPENAI_API_KEY\"))\n",
    "\n",
    "PDF_DIR = Path(\"pdf_folder\")  # Ensure this path contains your PDFs\n",
    "\n",
    "# ==== TOKENS: helper\n",
    "def _tokens_of(response):\n",
    "    \"\"\"Safely get tokens from OpenAI response. Returns (prompt, completion, total).\"\"\"\n",
    "    try:\n",
    "        u = response.usage\n",
    "        pt = getattr(u, \"prompt_tokens\", 0) or 0\n",
    "        ct = getattr(u, \"completion_tokens\", 0) or 0\n",
    "        return pt, ct, pt + ct\n",
    "    except Exception:\n",
    "        return 0, 0, 0\n",
    "    \n",
    "    "
   ]
  },
  {
   "cell_type": "code",
   "execution_count": 3,
   "id": "8680a839",
   "metadata": {},
   "outputs": [],
   "source": [
    "\n",
    "# OCR 补救函数：用于从首页和末页图像提取文本\n",
    "\n",
    "def extract_text_with_ocr(pdf_path, front_n=5, back_n=5, dpi=300):\n",
    "    from pdf2image.exceptions import PDFPageCountError\n",
    "    try:\n",
    "        with tempfile.TemporaryDirectory() as path:\n",
    "            try:\n",
    "                images = convert_from_path(str(pdf_path), dpi=dpi, output_folder=path)\n",
    "            except PDFPageCountError as e:\n",
    "                return f\"OCR ERROR: PDF structure invalid – {str(e)}\"\n",
    "            except Exception as e:\n",
    "                return f\"OCR ERROR: {str(e)}\"\n",
    "\n",
    "            total_pages = len(images)\n",
    "            if total_pages == 0:\n",
    "                return \"OCR ERROR: No images extracted\"\n",
    "\n",
    "            selected = images[:front_n] + images[-back_n:]\n",
    "            texts = []\n",
    "            for img in selected:\n",
    "                img = img.convert(\"L\")  # 灰度增强\n",
    "                text = pytesseract.image_to_string(img, lang=\"eng\")\n",
    "                texts.append(text)\n",
    "            return \"\\n\".join(texts)\n",
    "    except Exception as e:\n",
    "        return f\"OCR ERROR (outer): {str(e)}\"\n",
    "    \n"
   ]
  },
  {
   "cell_type": "code",
   "execution_count": 4,
   "id": "d4b45ce2",
   "metadata": {},
   "outputs": [],
   "source": [
    "\n",
    "def extract_front_back_text(pdf_path, front_n=10, back_n=10, dpi=300):\n",
    "    try:\n",
    "        doc = fitz.open(str(pdf_path))\n",
    "        texts = []\n",
    "        for i in range(min(front_n, len(doc))):\n",
    "            texts.append(doc[i].get_text())\n",
    "        for i in range(max(0, len(doc) - back_n), len(doc)):\n",
    "            texts.append(doc[i].get_text())\n",
    "        doc.close()\n",
    "        full_text = \"\\n\".join(texts)\n",
    "        if len(full_text.strip()) < 100:\n",
    "            raise ValueError(\"Too short, fallback to OCR.\")\n",
    "        return full_text\n",
    "    except Exception as e:\n",
    "        print(f\"⚠️ Fallback to OCR on: {pdf_path.name} due to {str(e)}\")\n",
    "        return extract_text_with_ocr(pdf_path, front_n, back_n, dpi)\n",
    "\n"
   ]
  },
  {
   "cell_type": "code",
   "execution_count": 5,
   "id": "f59b050f",
   "metadata": {},
   "outputs": [],
   "source": [
    "\n",
    "\n",
    "# =========================\n",
    "# Task 1: classify (gpt-4.1-mini)\n",
    "# =========================\n",
    "\n",
    "def classify_report_type(text):\n",
    "    system_prompt = \"You are an expert in classification.\"\n",
    "    user_prompt =f\"\"\"\n",
    "The following text is extracted from a corporate report (first and last few pages).\n",
    "\n",
    "Your tasks:\n",
    "\n",
    "1. Classify the report into one of the following types:\n",
    "- \"sustainability report\": The document primarily focuses on ESG, sustainability, CSR, or GRI/SDGs-related topics. It does NOT contain full audited financial statements.\n",
    "- \"annual report\": The document primarily contains audited financial disclosures, such as income statements, cash flow statements, balance sheets, and auditor's reports. ESG content, if any, is limited or supplementary.\n",
    "- \"integrated report\": The document includes BOTH complete financial disclosures and structured sustainability content within the same document.\n",
    "- \"other\": The document does not meet the criteria for any of the above (e.g., regulatory compliance reports, environmental approvals, investor brochures, etc.)\n",
    "\n",
    "2. Important judgment rules:\n",
    "- Do NOT classify a \"Corporate Social Responsibility Report\", \"Corporate Responsibility Report\", or \"CSR Report\" as \"integrated report\" unless it also includes full audited financials.\n",
    "- If the title contains \"Annual Report\" but the content lacks actual financial statements, do NOT classify it as \"annual\" or \"integrated\".\n",
    "- References or summaries of financials are NOT sufficient — only classify based on complete financial statement inclusion.\n",
    "\n",
    "3. If the document contains a distinct sustainability section (e.g. a chapter on ESG/CSR/GRI/SDGs content that constitutes more than 50% of a section), mark `has_sustainability_section = true`, and extract the section name if available.\n",
    "\n",
    "Return a JSON object with the following fields:\n",
    "{{\n",
    "  \"reasoning\": \"...\",\n",
    "  \"report_type\": \"...\",\n",
    "  \"has_sustainability_section\": true/false,\n",
    "  \"sustainability_section_name\": \"...\"\n",
    "}}\n",
    "\n",
    "Content:\n",
    "{text}\n",
    "\"\"\"\n",
    "    \n",
    "    try:\n",
    "        response = client.chat.completions.create(\n",
    "            model=\"gpt-4.1-mini\",\n",
    "            messages=[\n",
    "                {\"role\": \"system\", \"content\": system_prompt},\n",
    "                {\"role\": \"user\", \"content\": user_prompt}\n",
    "            ],\n",
    "            temperature=0\n",
    "        )\n",
    "        reply = response.choices[0].message.content\n",
    "        parsed = json.loads(reply)\n",
    "\n",
    "        # ==== TOKENS\n",
    "        _, _, total_tokens = _tokens_of(response)\n",
    "\n",
    "        return (\n",
    "            parsed.get(\"report_type\", \"\"),\n",
    "            parsed.get(\"has_sustainability_section\", \"\"),\n",
    "            parsed.get(\"sustainability_section_name\", \"\"),\n",
    "            parsed.get(\"reasoning\", \"\"),\n",
    "            {\"gpt-4.1-mini\": total_tokens}  # tokens per model for this task\n",
    "        )\n",
    "    except Exception as e:\n",
    "        return \"ERROR\", False, \"\", f\"Exception: {e}\", {\"gpt-4.1-mini\": 0}\n",
    "\n"
   ]
  },
  {
   "cell_type": "code",
   "execution_count": 6,
   "id": "76e581b1",
   "metadata": {},
   "outputs": [],
   "source": [
    "\n",
    "# =========================\n",
    "# Task 2: year (gpt-4.1-mini primary; fallback gpt-4o vision)\n",
    "# =========================\n",
    "def build_report_year_prompt(text):\n",
    "    return f\"\"\"\n",
    "You are an expert assistant helping to extract **the reporting period actually covered by the report** (the action period), not targets or future goals.\n",
    "\n",
    "Follow these rules strictly and return only a **JSON object** as described.\n",
    "\n",
    "---\n",
    "\n",
    "### What to EXTRACT (high priority cues)\n",
    "Pick the **most authoritative, explicit scope statement** such as lines containing:\n",
    "- \"covers ... from X to Y\"\n",
    "- \"reporting period:\" / \"report period:\"\n",
    "- \"for the year ended ...\" / \"for the period ended ...\"\n",
    "- \"fiscal year [range] from X to Y\" (when it states the scope of THIS report)\n",
    "- \"this report includes / contains data from X to Y\"\n",
    "\n",
    "### What to IGNORE (do NOT use as reporting period)\n",
    "- Long-term targets/roadmaps: e.g., \"by FY30\", \"by FY40\", \"from 2022 onward\", \"target reduction from FY2018 levels\"\n",
    "- Baseline/comparison references: \"compared to FY2018\", \"since 2019\", \"2019 highlights\"\n",
    "- Generic facts with years that do not declare the **covered period**\n",
    "- Multi-year strategies without explicit \"covers/reporting period\" verbs\n",
    "\n",
    "If multiple candidates exist, apply tie-breakers in this order:\n",
    "1) Prefer sentences that explicitly say \"covers/reporting period/for the year ended\".\n",
    "2) Prefer **the narrowest exact date/window** that clearly defines this report’s scope.\n",
    "3) Prefer statements that name **both start and end** (e.g., \"from Nov 1, 2019 to Oct 31, 2021\").\n",
    "4) If both a month/year range and a day/month/year range exist for the same scope, pick the **day-level** one.\n",
    "\n",
    "---\n",
    "\n",
    "### Normalization rules\n",
    "1) If it's a **single year**, like \"2013\" or \"FY2020\", return \"2013\" or \"2020\" (no months/days).\n",
    "2) If it's a **range of years only**, like \"2014–15\", return \"2014 to 2015\" (no months/days).\n",
    "3) If it includes **exact dates**, remove ordinals (1st→1) and format as:\n",
    "   \"1 April 2020 to 31 March 2021\"\n",
    "4) If it uses **months only**:\n",
    "   \"April 2020 – March 2021\" → \"April 2020 to March 2021\"\n",
    "5) Convert dashes (– or -) or slashes (/) to \"to\".\n",
    "6) Do **not** invent missing information.\n",
    "\n",
    "---\n",
    "\n",
    "### Output JSON\n",
    "\n",
    "If a valid reporting period is found:\n",
    "{{\n",
    "  \"normalized_report_year\": \"your final normalized version\",\n",
    "  \"original_expression\": \"verbatim span from the text that states the scope\",\n",
    "  \"source\": \"e.g. main text; table; footnote (if you can infer)\"\n",
    "}}\n",
    "\n",
    "If no valid reporting period is found:\n",
    "{{\n",
    "  \"normalized_report_year\": null,\n",
    "  \"original_expression\": null,\n",
    "  \"source\": \"NOT FOUND\"\n",
    "}}\n",
    "\n",
    "---\n",
    "\n",
    "\n",
    "### Mini example (the exact case you often miss)\n",
    "\n",
    "Input snippet:\n",
    "\"Here are a few facts... Pure is committing to a 3x reduction ... by FY30...  \n",
    "This inaugural report **covers ESG data, initiatives and activities from February 1, 2019 (FY20) to January 31, 2021 (FY21)**.\"\n",
    "\n",
    "Expected:\n",
    "{{\n",
    "  \"normalized_report_year\": \"1 February 2019 to 31 January 2021\",\n",
    "  \"original_expression\": \"covers ESG data, initiatives and activities from February 1, 2019 (FY20) to January 31, 2021 (FY21)\",\n",
    "  \"source\": \"main text\"\n",
    "}}\n",
    "\n",
    "---\n",
    "\n",
    "### Now analyze and extract:\n",
    "{text}\n",
    "\"\"\"\n",
    "\n",
    "\n",
    "def encode_image_to_base64(pil_image):\n",
    "    with tempfile.NamedTemporaryFile(suffix=\".png\") as f:\n",
    "        pil_image.save(f.name, format=\"PNG\")\n",
    "        with open(f.name, \"rb\") as image_file:\n",
    "            return base64.b64encode(image_file.read()).decode(\"utf-8\")\n",
    "\n",
    "def extract_year_from_vision(pdf_path, page_limit=5):\n",
    "    # ==== TOKENS\n",
    "    tokens_by_model = {\"gpt-4o\": 0}\n",
    "\n",
    "    try:\n",
    "        images = convert_from_path(pdf_path, dpi=200)\n",
    "        for i, img in enumerate(images[:page_limit]):\n",
    "            b64 = encode_image_to_base64(img)\n",
    "            response = client.chat.completions.create(\n",
    "                model=\"gpt-4o\",\n",
    "                messages=[\n",
    "                    {\"role\": \"user\", \"content\": [\n",
    "                        {\"type\": \"text\", \"text\": f\"Please extract the fiscal year or reporting period from page {i+1}. Please return in this JSON format:\\n\"\n",
    "                                                 \"{\\n  \\\"normalized_report_year\\\": \\\"...\\\",\\n  \\\"original_expression\\\": \\\"...\\\",\\n  \\\"source\\\": \\\"Page {i+1}, image-based\\\"\\n}\"},\n",
    "                        {\"type\": \"image_url\", \"image_url\": {\"url\": f\"data:image/png;base64,{b64}\"}}\n",
    "                    ]}\n",
    "                ],\n",
    "                max_tokens=300\n",
    "            )\n",
    "            # ==== TOKENS\n",
    "            _, _, tk = _tokens_of(response)\n",
    "            tokens_by_model[\"gpt-4o\"] += tk\n",
    "\n",
    "            content = response.choices[0].message.content\n",
    "            parsed = json.loads(content.strip()) if content.strip().startswith(\"{\") else eval(content.strip())\n",
    "            if parsed.get(\"normalized_report_year\"):\n",
    "                parsed[\"tokens_by_model\"] = tokens_by_model  # ==== TOKENS\n",
    "                return parsed\n",
    "    except Exception as e:\n",
    "        return {\n",
    "            \"normalized_report_year\": None,\n",
    "            \"original_expression\": None,\n",
    "            \"source\": f\"Vision ERROR: {e}\",\n",
    "            \"tokens_by_model\": tokens_by_model  # ==== TOKENS\n",
    "        }\n",
    "    return {\n",
    "        \"normalized_report_year\": None,\n",
    "        \"original_expression\": None,\n",
    "        \"source\": \"Vision NOT FOUND\",\n",
    "        \"tokens_by_model\": tokens_by_model  # ==== TOKENS\n",
    "    }\n",
    "\n",
    "def extract_report_year(pdf_path):\n",
    "    # ==== TOKENS\n",
    "    tokens_by_model = {\"gpt-4.1-mini\": 0, \"gpt-4o\": 0}\n",
    "\n",
    "    try:\n",
    "        text = extract_front_back_text(pdf_path)\n",
    "        prompt = build_report_year_prompt(text)\n",
    "        response = client.chat.completions.create(\n",
    "            model=\"gpt-4.1-mini\",\n",
    "            messages=[{\"role\": \"user\", \"content\": prompt}],\n",
    "            temperature=0\n",
    "            # max_tokens=500\n",
    "        )\n",
    "        # ==== TOKENS\n",
    "        _, _, tk = _tokens_of(response)\n",
    "        tokens_by_model[\"gpt-4.1-mini\"] += tk\n",
    "\n",
    "        content = response.choices[0].message.content\n",
    "        parsed = json.loads(content.strip()) if content.strip().startswith(\"{\") else eval(content.strip())\n",
    "        if parsed.get(\"normalized_report_year\"):\n",
    "            parsed[\"tokens_by_model\"] = tokens_by_model  # ==== TOKENS\n",
    "            return parsed\n",
    "    except Exception as e:\n",
    "        print(f\"⚠️ GPT-4.1-mini failed on {Path(pdf_path).name}, fallback to Vision...\")\n",
    "\n",
    "    parsed = extract_year_from_vision(pdf_path)\n",
    "    # 合并 vision 的 tokens\n",
    "    for k, v in parsed.get(\"tokens_by_model\", {}).items():\n",
    "        tokens_by_model[k] = tokens_by_model.get(k, 0) + v\n",
    "    parsed[\"tokens_by_model\"] = tokens_by_model  # ==== TOKENS\n",
    "    return parsed\n"
   ]
  },
  {
   "cell_type": "code",
   "execution_count": 7,
   "id": "bd9de654",
   "metadata": {},
   "outputs": [],
   "source": [
    "\n",
    "# =========================\n",
    "# Task 3: company/publisher (gpt-4.1 primary, optional 2nd call)\n",
    "# =========================\n",
    "def extract_company_or_publisher_with_gpt(text):\n",
    "    import json\n",
    "    total_by_model = {\"gpt-4.1-mini\": 0}  # ==== TOKENS\n",
    "    primary_prompt = f\"\"\"\n",
    "You are a corporate reporting analyst.\n",
    "\n",
    "From the first and last pages of a corporate report, extract the following:\n",
    "1. The **official company name** that issued the report.\n",
    "2. A list of **other names** referring to the company (abbreviations, group name, acronyms, etc.).\n",
    "3. The **country** where the company is headquartered.\n",
    "4. A brief **reasoning** explaining your extraction.\n",
    "\n",
    "Return a JSON object like this:\n",
    "{{\n",
    "  \"company_name\": \"...\",\n",
    "  \"other_names\": [\"...\", \"...\"],\n",
    "  \"country\": \"...\",\n",
    "  \"reasoning\": \"...\"\n",
    "}}\n",
    "\n",
    "If the company name is not found, return:\n",
    "{{\n",
    "  \"company_name\": \"UNKNOWN\",\n",
    "  \"other_names\": [],\n",
    "  \"country\": \"UNKNOWN\",\n",
    "  \"reasoning\": \"No indication of the company in the text.\"\n",
    "}}\n",
    "\n",
    "Text:\n",
    "{text}\n",
    "\"\"\"\n",
    "    try:\n",
    "        response = client.chat.completions.create(\n",
    "            model=\"gpt-4.1-mini\",\n",
    "            messages=[\n",
    "                {\"role\": \"system\", \"content\": \"You are an expert in ESG and corporate reporting.\"},\n",
    "                {\"role\": \"user\", \"content\": primary_prompt}\n",
    "            ],\n",
    "            temperature=0\n",
    "        )\n",
    "        # ==== TOKENS\n",
    "        _, _, tk = _tokens_of(response)\n",
    "        total_by_model[\"gpt-4.1-mini\"] += tk\n",
    "\n",
    "        content = response.choices[0].message.content.strip()\n",
    "        result = json.loads(content)\n",
    "    except Exception as e:\n",
    "        return {\n",
    "            \"company_name\": \"GPT_ERROR\",\n",
    "            \"other_names\": [],\n",
    "            \"country\": \"GPT_ERROR\",\n",
    "            \"reasoning\": str(e),\n",
    "            \"publisher\": None,\n",
    "            \"tokens_by_model\": total_by_model  # ==== TOKENS\n",
    "        }\n",
    "    except json.JSONDecodeError:\n",
    "        return {\n",
    "            \"company_name\": \"PARSE_ERROR\",\n",
    "            \"other_names\": [],\n",
    "            \"country\": \"PARSE_ERROR\",\n",
    "            \"reasoning\": f\"Raw response: {content}\",\n",
    "            \"publisher\": None,\n",
    "            \"tokens_by_model\": total_by_model  # ==== TOKENS\n",
    "        }\n",
    "\n",
    "    # 第二阶段：若无法识别公司名，尝试提取 publisher\n",
    "    if result.get(\"company_name\", \"\").upper() == \"UNKNOWN\":\n",
    "        try:\n",
    "            secondary_prompt = f\"\"\"\n",
    "This report was not issued by a company but possibly by a public institution or academic body.\n",
    "\n",
    "From the following text, extract the **publisher** and return:\n",
    "{{ \"publisher\": \"...\" }}\n",
    "\n",
    "If not found:\n",
    "{{ \"publisher\": \"UNKNOWN\" }}\n",
    "\n",
    "Text:\n",
    "{text}\n",
    "\"\"\"\n",
    "            response2 = client.chat.completions.create(\n",
    "                model=\"gpt-4.1-mini\",\n",
    "                messages=[\n",
    "                    {\"role\": \"system\", \"content\": \"You are an expert in institutional publishing.\"},\n",
    "                    {\"role\": \"user\", \"content\": secondary_prompt}\n",
    "                ],\n",
    "                temperature=0\n",
    "            )\n",
    "            # ==== TOKENS\n",
    "            _, _, tk2 = _tokens_of(response2)\n",
    "            total_by_model[\"gpt-4.1-mini\"] += tk2\n",
    "\n",
    "            content2 = response2.choices[0].message.content.strip()\n",
    "            pub_result = json.loads(content2)\n",
    "            result[\"publisher\"] = pub_result.get(\"publisher\", \"UNKNOWN\")\n",
    "        except Exception as e:\n",
    "            result[\"publisher\"] = f\"GPT_ERROR: {str(e)}\"\n",
    "    else:\n",
    "        result[\"publisher\"] = None\n",
    "\n",
    "    # 清理字段\n",
    "    if result.get(\"company_name\", \"\").upper() == \"UNKNOWN\":\n",
    "        result[\"company_name\"] = \"\"\n",
    "    if not isinstance(result.get(\"other_names\"), list):\n",
    "        result[\"other_names\"] = []\n",
    "    if \"country\" not in result or not isinstance(result[\"country\"], str):\n",
    "        result[\"country\"] = \"UNKNOWN\"\n",
    "\n",
    "    # ==== TOKENS\n",
    "    result[\"tokens_by_model\"] = total_by_model\n",
    "    return result\n"
   ]
  },
  {
   "cell_type": "code",
   "execution_count": 8,
   "id": "08d6b9d4",
   "metadata": {},
   "outputs": [],
   "source": [
    "\n",
    "# =========================\n",
    "# Pipeline per PDF\n",
    "# =========================\n",
    "def process_pdf(pdf_path):\n",
    "    text = extract_front_back_text(pdf_path)\n",
    "\n",
    "    # Task 1: classify\n",
    "    report_type, sustainability, sustainability_name, classify_reasoning, tk_classify_by_model = classify_report_type(text)\n",
    "\n",
    "    # Task 2: year\n",
    "    year = extract_report_year(pdf_path)\n",
    "    tk_year_by_model = year.get(\"tokens_by_model\", {})\n",
    "\n",
    "    # Task 3: company\n",
    "    company = extract_company_or_publisher_with_gpt(text)\n",
    "    tk_company_by_model = company.get(\"tokens_by_model\", {})\n",
    "\n",
    "    # ==== TOKENS: aggregate per model\n",
    "    tokens_by_model = {}\n",
    "    for d in (tk_classify_by_model, tk_year_by_model, tk_company_by_model):\n",
    "        for m, t in d.items():\n",
    "            tokens_by_model[m] = tokens_by_model.get(m, 0) + (t or 0)\n",
    "\n",
    "    # Subtask tokens (for readability per row)\n",
    "    tokens_classify = sum(tk_classify_by_model.values())\n",
    "    tokens_year = sum(tk_year_by_model.values())\n",
    "    tokens_company = sum(tk_company_by_model.values())\n",
    "    tokens_total = tokens_classify + tokens_year + tokens_company\n",
    "\n",
    "    return {\n",
    "        \"filename\": pdf_path.name,\n",
    "        \"report_type\": report_type,\n",
    "        \"has_sustainability_section\": sustainability,\n",
    "        \"sustainability_section_name\": sustainability_name,\n",
    "        \"classify_reasoning\": classify_reasoning,\n",
    "\n",
    "        \"normalized_report_year\": year.get(\"normalized_report_year\"),\n",
    "        \"original_expression\": year.get(\"original_expression\"),\n",
    "        \"year_source\": year.get(\"source\"),\n",
    "\n",
    "        \"company_name\": company.get(\"company_name\"),\n",
    "        \"other_names\": \"; \".join(company.get(\"other_names\", [])),\n",
    "        \"publisher\": company.get(\"publisher\"),\n",
    "        \"country\": company.get(\"country\"),\n",
    "        \"reasoning\": company.get(\"reasoning\"),\n",
    "\n",
    "        # ==== TOKENS: per subtask\n",
    "        \"tokens_classify\": tokens_classify,\n",
    "        \"tokens_year\": tokens_year,\n",
    "        \"tokens_company\": tokens_company,\n",
    "        \"tokens_total\": tokens_total,\n",
    "\n",
    "        # ==== TOKENS: per model (columns for convenience)\n",
    "        \"tokens_gpt4_1_mini\": tokens_by_model.get(\"gpt-4.1-mini\", 0),\n",
    "        \"tokens_gpt4_1\": tokens_by_model.get(\"gpt-4.1\", 0),\n",
    "        \"tokens_gpt4o\": tokens_by_model.get(\"gpt-4o\", 0),\n",
    "    }\n"
   ]
  },
  {
   "cell_type": "code",
   "execution_count": null,
   "id": "59071a4c",
   "metadata": {},
   "outputs": [
    {
     "name": "stderr",
     "output_type": "stream",
     "text": [
      "🚀 Processing PDFs:   3%|▎         | 44/1278 [02:33<34:08,  1.66s/it]  "
     ]
    },
    {
     "name": "stdout",
     "output_type": "stream",
     "text": [
      "⚠️ GPT-4.1-mini failed on Lincoln_Electric_Holdings_Inc_le-air-treatment-catalogue-eng_8cadb8rq.pdf, fallback to Vision...\n"
     ]
    },
    {
     "name": "stderr",
     "output_type": "stream",
     "text": [
      "🚀 Processing PDFs:  14%|█▍        | 179/1278 [12:49<2:25:57,  7.97s/it]"
     ]
    },
    {
     "name": "stdout",
     "output_type": "stream",
     "text": [
      "⚠️ GPT-4.1-mini failed on Unknown_2021_annual_report_agrll1p8.pdf, fallback to Vision...\n",
      "⚠️ GPT-4.1-mini failed on Duni_AB_duni-ab_2018_aosffly1.pdf, fallback to Vision...\n",
      "⚠️ GPT-4.1-mini failed on Majesco_NYSE_MJCO_2019_nymj6mmx.pdf, fallback to Vision...\n",
      "⚠️ GPT-4.1-mini failed on Suzlon_Energy_Ltd_12_13AnnualReport1011_4nllsl2q.pdf, fallback to Vision...\n",
      "⚠️ GPT-4.1-mini failed on Sky_PLC_annual-report-spreads-2015_52ipwujn.pdf, fallback to Vision...\n"
     ]
    },
    {
     "name": "stderr",
     "output_type": "stream",
     "text": [
      "🚀 Processing PDFs:  14%|█▍        | 185/1278 [13:53<2:31:21,  8.31s/it]"
     ]
    },
    {
     "name": "stdout",
     "output_type": "stream",
     "text": [
      "⚠️ GPT-4.1-mini failed on Suntory_Beverage_Service_Limited_suntory_EN_2022_axj6ubbn.pdf, fallback to Vision...\n",
      "⚠️ GPT-4.1-mini failed on Unknown_1210047282_qufbc03n.pdf, fallback to Vision...\n",
      "⚠️ GPT-4.1-mini failed on ICICI_Lombard_General_Insurance_Company_Limited_annualreportfy2020_967kmrrw.pdf, fallback to Vision...\n",
      "⚠️ GPT-4.1-mini failed on Societe_Generale_Group_Societe20Generale20Document20de20reference202009_Avec20Rectificatif_gb_1mjmv7vs.pdf, fallback to Vision...\n",
      "⚠️ GPT-4.1-mini failed on Ncc_AB_ncc-annual-and-sustainability-report-2022_345af9zq.pdf, fallback to Vision...\n",
      "⚠️ GPT-4.1-mini failed on Mainfreight_Ltd_2012_Annual_Report_i45v9nlv.pdf, fallback to Vision...\n",
      "⚠️ GPT-4.1-mini failed on Unknown_110101_2011CSR_E_ydr0dcxs.pdf, fallback to Vision...\n"
     ]
    },
    {
     "name": "stderr",
     "output_type": "stream",
     "text": [
      "🚀 Processing PDFs:  15%|█▍        | 187/1278 [15:30<7:16:17, 23.99s/it]"
     ]
    },
    {
     "name": "stdout",
     "output_type": "stream",
     "text": [
      "⚠️ GPT-4.1-mini failed on PT_Surya_Citra_Media_TBK_15_tdwkk4vc.pdf, fallback to Vision...\n",
      "⚠️ GPT-4.1-mini failed on Nissin_Food_Hldgs_Co_Ltd_anr_0903_01_r2swcp00.pdf, fallback to Vision...\n"
     ]
    },
    {
     "name": "stderr",
     "output_type": "stream",
     "text": [
      "🚀 Processing PDFs:  15%|█▌        | 192/1278 [15:49<3:42:24, 12.29s/it]"
     ]
    },
    {
     "name": "stdout",
     "output_type": "stream",
     "text": [
      "⚠️ GPT-4.1-mini failed on Unknown_23321_sw23cerx.pdf, fallback to Vision...\n",
      "⚠️ GPT-4.1-mini failed on Unknown_20181206_RS_Aquafil_ENG_2017_def_qcghobt1.pdf, fallback to Vision...\n"
     ]
    },
    {
     "name": "stderr",
     "output_type": "stream",
     "text": [
      "🚀 Processing PDFs:  15%|█▌        | 193/1278 [16:15<4:16:59, 14.21s/it]"
     ]
    },
    {
     "name": "stdout",
     "output_type": "stream",
     "text": [
      "⚠️ GPT-4.1-mini failed on Elecnor_SA_Madrid_elecnor-2020-cuentas-anuales-ingles_d715v82t.pdf, fallback to Vision...\n",
      "⚠️ GPT-4.1-mini failed on Schnitzer_Steel_Industries_Inc_Sustainability-Report-FY2017-2018_xes1zr7b.pdf, fallback to Vision...\n"
     ]
    },
    {
     "name": "stderr",
     "output_type": "stream",
     "text": [
      "🚀 Processing PDFs:  15%|█▌        | 195/1278 [16:43<4:13:56, 14.07s/it]"
     ]
    },
    {
     "name": "stdout",
     "output_type": "stream",
     "text": [
      "⚠️ GPT-4.1-mini failed on Dometic_Group_AB_2012_dometic_annual_report_en_rfwsq5n8.pdf, fallback to Vision...\n"
     ]
    },
    {
     "name": "stderr",
     "output_type": "stream",
     "text": [
      "🚀 Processing PDFs:  15%|█▌        | 197/1278 [16:55<3:31:22, 11.73s/it]"
     ]
    },
    {
     "name": "stdout",
     "output_type": "stream",
     "text": [
      "⚠️ GPT-4.1-mini failed on SATS_Ltd_sats-sustainability-report_88g98j6g.pdf, fallback to Vision...\n"
     ]
    },
    {
     "name": "stderr",
     "output_type": "stream",
     "text": [
      "🚀 Processing PDFs:  16%|█▌        | 199/1278 [17:08<2:54:58,  9.73s/it]"
     ]
    },
    {
     "name": "stdout",
     "output_type": "stream",
     "text": [
      "⚠️ GPT-4.1-mini failed on LIXIL_Corporation_LIXIL_csr_2013e_4kg372wg.pdf, fallback to Vision...\n"
     ]
    },
    {
     "name": "stderr",
     "output_type": "stream",
     "text": [
      "🚀 Processing PDFs:  16%|█▌        | 200/1278 [17:21<3:09:14, 10.53s/it]"
     ]
    },
    {
     "name": "stdout",
     "output_type": "stream",
     "text": [
      "⚠️ GPT-4.1-mini failed on Royal_Unibrew_royal-unibrew_2011_cb0lp84p.pdf, fallback to Vision...\n",
      "⚠️ GPT-4.1-mini failed on Porsche_Automobil_Holding_SE_Annual_Report_EN_2011_klmes33m.pdf, fallback to Vision...\n",
      "⚠️ GPT-4.1-mini failed on Hess_Midstream_LP_hess-2022-sustainability-report_s4s4wyrl.pdf, fallback to Vision...\n",
      "⚠️ GPT-4.1-mini failed on Shin-Etsu_Polymer_Co_Ltd_report_en_2021_xmcnh296.pdf, fallback to Vision...\n",
      "⚠️ GPT-4.1-mini failed on Haier_Smart_Home_Co_Ltd_2021061000804_5tvqb9kq.pdf, fallback to Vision...\n",
      "⚠️ GPT-4.1-mini failed on Unknown_2019-ESG-ENVMT-EN_mv35hv07.pdf, fallback to Vision...\n",
      "⚠️ GPT-4.1-mini failed on Ecopro_BM_Co_Ltd_2022_EcoPro_BM_Sustainability_ReportENG_58hxhmts.pdf, fallback to Vision...\n",
      "⚠️ GPT-4.1-mini failed on Bridgestone_Corp_BS_EnvReport2013_20q9kca2.pdf, fallback to Vision...\n",
      "⚠️ GPT-4.1-mini failed on Santander_Holdings_USA_Inc_ifa-2021-consolidated-annual-financial-report-en_6hvvmaxj.pdf, fallback to Vision...\n",
      "⚠️ GPT-4.1-mini failed on Rogers_Wireless_Communications_Inc_2014-rogers-csr-report_EN_wogyafgd.pdf, fallback to Vision...\n",
      "⚠️ GPT-4.1-mini failed on Astral_Foods_Ltd_Astral20AR20201620WEB_wlkkscwl.pdf, fallback to Vision...\n",
      "⚠️ GPT-4.1-mini failed on Indusind_BankIndia_Business-Responsibility-and-Sustainability-Report-BRSR-FY2021-22_xw1dg5fb.pdf, fallback to Vision...\n",
      "⚠️ GPT-4.1-mini failed on Hong_Kong_Exchanges_and_Clearing_Limited_e160321csr_yuridi6k.pdf, fallback to Vision...\n",
      "⚠️ GPT-4.1-mini failed on EnWave_Corp_enwave_esg_report_2019_v9q9c5ed.pdf, fallback to Vision...\n",
      "⚠️ GPT-4.1-mini failed on Unknown_77888-15Co-17992128H21456586240H-Gl_bfn6hiad.pdf, fallback to Vision...\n",
      "⚠️ GPT-4.1-mini failed on Unknown_2016-Registration-Document-and-Annual-Financial-Report-HD_j9qojjae.pdf, fallback to Vision...\n",
      "⚠️ GPT-4.1-mini failed on Siemens_Healthineers_AG_sustainability2021-en_xilv9oij.pdf, fallback to Vision...\n",
      "⚠️ GPT-4.1-mini failed on United_Breweries_Limited_CSR20Report202017_v3quqwha.pdf, fallback to Vision...\n",
      "⚠️ GPT-4.1-mini failed on Unknown_75068-financial-performance-report-2021-version-mise-en-ligne_xnm18izk.pdf, fallback to Vision...\n",
      "⚠️ GPT-4.1-mini failed on Unknown_78692-15Su-23135448Q8902111192J-Gl_4629sebp.pdf, fallback to Vision...\n",
      "⚠️ GPT-4.1-mini failed on Unknown_8177_Roxgold_2018_Sustainability_Summary_FNL-400_nirnol5g.pdf, fallback to Vision...\n",
      "⚠️ GPT-4.1-mini failed on Grupa_Azoty_SA_Directors20report20on20the20operations20of20Grupa20Azoty202018_l7f31qj8.pdf, fallback to Vision...\n",
      "⚠️ GPT-4.1-mini failed on Unknown_2012_27tj3yg2.pdf, fallback to Vision...\n",
      "⚠️ GPT-4.1-mini failed on Alten_Boulogne-Billancourt_registration-document-alten-2014_764u2ve4.pdf, fallback to Vision...\n",
      "⚠️ GPT-4.1-mini failed on Kotak_Mahindra_Bank_Ltd_Business-Responsibility-Report-BRR-FY-15-16_8dpqz9n0.pdf, fallback to Vision...\n",
      "⚠️ GPT-4.1-mini failed on Unknown_2017_ar_csr_e_nr9i80sd.pdf, fallback to Vision...\n",
      "⚠️ GPT-4.1-mini failed on St_James_Place_SJH20Annual20Report20199920-20English_v124agxh.pdf, fallback to Vision...\n",
      "⚠️ GPT-4.1-mini failed on Cochlear_Ltd_listen20learn20and20talk20cochlear_lsrvp33z.pdf, fallback to Vision...\n",
      "⚠️ GPT-4.1-mini failed on Unknown_2017-1820Ranken20Annual20Report_9geovmr9.pdf, fallback to Vision...\n",
      "⚠️ GPT-4.1-mini failed on Shangri-La_Asia_Ltd_LTN20150424664_phebvw27.pdf, fallback to Vision...\n",
      "⚠️ GPT-4.1-mini failed on PT_Astra_Agro_Lestari__TBK_Laporan-Keberlanjutan-Sustainability-Report-2016_smuwywrj.pdf, fallback to Vision...\n",
      "⚠️ GPT-4.1-mini failed on Addtech_AB_Addtech-Annual-Report-2021-2022_aupkwn25.pdf, fallback to Vision...\n"
     ]
    },
    {
     "name": "stderr",
     "output_type": "stream",
     "text": [
      "🚀 Processing PDFs:  16%|█▌        | 202/1278 [25:46<28:43:43, 96.12s/it] "
     ]
    },
    {
     "name": "stdout",
     "output_type": "stream",
     "text": [
      "⚠️ GPT-4.1-mini failed on Cargojet_Inc_CargoJet-ESG-Report-_-Updated-Deb-28-2022v2_tsg4rwam.pdf, fallback to Vision...\n"
     ]
    },
    {
     "name": "stderr",
     "output_type": "stream",
     "text": [
      "🚀 Processing PDFs:  18%|█▊        | 229/1278 [26:10<2:48:56,  9.66s/it] "
     ]
    },
    {
     "name": "stdout",
     "output_type": "stream",
     "text": [
      "⚠️ GPT-4.1-mini failed on Check_Point_Software_Technologies_Ltd_2014-CHKP-form-20F_def5ktu1.pdf, fallback to Vision...\n"
     ]
    },
    {
     "name": "stderr",
     "output_type": "stream",
     "text": [
      "🚀 Processing PDFs:  18%|█▊        | 233/1278 [26:34<2:35:38,  8.94s/it]"
     ]
    },
    {
     "name": "stdout",
     "output_type": "stream",
     "text": [
      "⚠️ GPT-4.1-mini failed on Canon_Inc_canon-sus-2020-e_5c96rsg3.pdf, fallback to Vision...\n"
     ]
    },
    {
     "name": "stderr",
     "output_type": "stream",
     "text": [
      "🚀 Processing PDFs:  18%|█▊        | 234/1278 [26:44<2:35:59,  8.96s/it]"
     ]
    },
    {
     "name": "stdout",
     "output_type": "stream",
     "text": [
      "⚠️ GPT-4.1-mini failed on JEP_Holdings_Ltd_710038_JEP20Holdings20Ltd20Annual20Report202021_3ik4myff.pdf, fallback to Vision...\n",
      "⚠️ GPT-4.1-mini failed on Unknown_2021-Sustainability-Report---EN_ltadvzz6.pdf, fallback to Vision...\n",
      "⚠️ GPT-4.1-mini failed on Unknown_15pdf_79mnhrdj.pdf, fallback to Vision...\n"
     ]
    },
    {
     "name": "stderr",
     "output_type": "stream",
     "text": [
      "🚀 Processing PDFs:  18%|█▊        | 236/1278 [27:16<2:57:49, 10.24s/it]"
     ]
    },
    {
     "name": "stdout",
     "output_type": "stream",
     "text": [
      "⚠️ GPT-4.1-mini failed on Unknown_2021-22-annual-report_mn9nc3bs.pdf, fallback to Vision...\n"
     ]
    },
    {
     "name": "stderr",
     "output_type": "stream",
     "text": [
      "🚀 Processing PDFs:  19%|█▉        | 240/1278 [27:44<2:25:00,  8.38s/it]"
     ]
    },
    {
     "name": "stdout",
     "output_type": "stream",
     "text": [
      "⚠️ GPT-4.1-mini failed on Sagami_Holdings_Corp_integrated-report-2022-e_97j9g65v.pdf, fallback to Vision...\n",
      "⚠️ GPT-4.1-mini failed on Codan_Ltd_Trygg-Hansa_ANNUAL_REPORT_2013_b6athdy4.pdf, fallback to Vision...\n",
      "⚠️ GPT-4.1-mini failed on Axfood_AB_R-Policies-to-PNC-waterland_sq5n8iz4.pdf, fallback to Vision...\n",
      "⚠️ GPT-4.1-mini failed on Alcoa_Inc_2017-Sustainability-Report_uu0ohm6g.pdf, fallback to Vision...\n"
     ]
    },
    {
     "name": "stderr",
     "output_type": "stream",
     "text": [
      "🚀 Processing PDFs:  19%|█▉        | 242/1278 [28:30<3:27:37, 12.02s/it]"
     ]
    },
    {
     "name": "stdout",
     "output_type": "stream",
     "text": [
      "⚠️ GPT-4.1-mini failed on Smartgroup_Corporation_Ltd_SG_Annual_Report_2018_wnrih4sp.pdf, fallback to Vision...\n"
     ]
    },
    {
     "name": "stderr",
     "output_type": "stream",
     "text": [
      "🚀 Processing PDFs:  19%|█▉        | 245/1278 [28:38<2:21:16,  8.21s/it]"
     ]
    },
    {
     "name": "stdout",
     "output_type": "stream",
     "text": [
      "⚠️ GPT-4.1-mini failed on METRO_BRANDS_LIMITED_2022-cr-report_3st16y0y.pdf, fallback to Vision...\n",
      "⚠️ GPT-4.1-mini failed on Scotts_Miracle-Gro_Co_The_CorpResp2014_sptwpx0s.pdf, fallback to Vision...\n",
      "⚠️ GPT-4.1-mini failed on Unknown_2012_MENA_CSOSI_b0lp84pr.pdf, fallback to Vision...\n",
      "⚠️ GPT-4.1-mini failed on Unknown_9029775_fytgoocx.pdf, fallback to Vision...\n"
     ]
    },
    {
     "name": "stderr",
     "output_type": "stream",
     "text": [
      "🚀 Processing PDFs:  19%|█▉        | 246/1278 [29:18<3:49:38, 13.35s/it]"
     ]
    },
    {
     "name": "stdout",
     "output_type": "stream",
     "text": [
      "⚠️ Fallback to OCR on: Unknown_adbi-managing-transition-low-carbon-economy_087is5zy.pdf due to Too short, fallback to OCR.\n"
     ]
    },
    {
     "name": "stderr",
     "output_type": "stream",
     "text": [
      "🚀 Processing PDFs:  19%|█▉        | 247/1278 [29:21<3:13:36, 11.27s/it]"
     ]
    },
    {
     "name": "stdout",
     "output_type": "stream",
     "text": [
      "⚠️ Fallback to OCR on: Unknown_adbi-managing-transition-low-carbon-economy_087is5zy.pdf due to Too short, fallback to OCR.\n",
      "⚠️ GPT-4.1-mini failed on TIM_AG_TIM-Sustainability-Report-NFS-2018_5469j4ov.pdf, fallback to Vision...\n",
      "⚠️ GPT-4.1-mini failed on Unknown_adbi-managing-transition-low-carbon-economy_087is5zy.pdf, fallback to Vision...\n",
      "⚠️ GPT-4.1-mini failed on Dufry_AG_AR_2010_CR_i5a1tlz9.pdf, fallback to Vision...\n"
     ]
    },
    {
     "name": "stderr",
     "output_type": "stream",
     "text": [
      "🚀 Processing PDFs:  19%|█▉        | 249/1278 [29:42<3:09:02, 11.02s/it]"
     ]
    },
    {
     "name": "stdout",
     "output_type": "stream",
     "text": [
      "⚠️ GPT-4.1-mini failed on Unknown_79c2f64b-b440-17e8-4be8-83a08989fceb_kg923l9h.pdf, fallback to Vision...\n",
      "⚠️ GPT-4.1-mini failed on Unknown_2023042001467_glmflqfk.pdf, fallback to Vision...\n",
      "⚠️ GPT-4.1-mini failed on COSCO_SHIPPING_Ports_Limited_quality2021en_j27jgmh6.pdf, fallback to Vision...\n"
     ]
    },
    {
     "name": "stderr",
     "output_type": "stream",
     "text": [
      "🚀 Processing PDFs:  20%|█▉        | 253/1278 [30:26<2:58:12, 10.43s/it]"
     ]
    },
    {
     "name": "stdout",
     "output_type": "stream",
     "text": [
      "⚠️ Fallback to OCR on: Unknown_2014SustainRpt_FNL_lr_7mrwsfm7.pdf due to Too short, fallback to OCR.\n",
      "⚠️ GPT-4.1-mini failed on Unknown_0720_FAO_Shifting_cultivation_livelihoodfood_security_j6g4r7xy.pdf, fallback to Vision...\n",
      "⚠️ Fallback to OCR on: Unknown_2014SustainRpt_FNL_lr_7mrwsfm7.pdf due to Too short, fallback to OCR.\n"
     ]
    },
    {
     "name": "stderr",
     "output_type": "stream",
     "text": [
      "🚀 Processing PDFs:  20%|█▉        | 254/1278 [30:46<3:30:42, 12.35s/it]"
     ]
    },
    {
     "name": "stdout",
     "output_type": "stream",
     "text": [
      "⚠️ GPT-4.1-mini failed on Unknown_2014SustainRpt_FNL_lr_7mrwsfm7.pdf, fallback to Vision...\n",
      "⚠️ GPT-4.1-mini failed on Fletcher_Building_Ltd_2009-FBL-Annual-Report_s6yf5vt0.pdf, fallback to Vision...\n"
     ]
    },
    {
     "name": "stderr",
     "output_type": "stream",
     "text": [
      "🚀 Processing PDFs:  20%|█▉        | 255/1278 [31:13<4:21:42, 15.35s/it]"
     ]
    },
    {
     "name": "stdout",
     "output_type": "stream",
     "text": [
      "⚠️ GPT-4.1-mini failed on Unknown_202146150335_p2ttj7np.pdf, fallback to Vision...\n",
      "⚠️ GPT-4.1-mini failed on Cairn_India_5327920315_kutyl2yz.pdf, fallback to Vision...\n"
     ]
    },
    {
     "name": "stderr",
     "output_type": "stream",
     "text": [
      "🚀 Processing PDFs:  20%|██        | 257/1278 [31:24<3:19:39, 11.73s/it]"
     ]
    },
    {
     "name": "stdout",
     "output_type": "stream",
     "text": [
      "⚠️ GPT-4.1-mini failed on Hang_Lung_Properties_Ltd_sr-2014_tnbslc7e.pdf, fallback to Vision...\n"
     ]
    },
    {
     "name": "stderr",
     "output_type": "stream",
     "text": [
      "🚀 Processing PDFs:  20%|██        | 259/1278 [31:39<2:51:54, 10.12s/it]"
     ]
    },
    {
     "name": "stdout",
     "output_type": "stream",
     "text": [
      "⚠️ GPT-4.1-mini failed on CR_Holdings_Co_Ltd_PVH-CR-Report-2022_5i9ni2v1.pdf, fallback to Vision...\n",
      "⚠️ GPT-4.1-mini failed on Cementir_Holding_Nv_CH_Sustainability20Report202020_final_gntwonez.pdf, fallback to Vision...\n"
     ]
    },
    {
     "name": "stderr",
     "output_type": "stream",
     "text": [
      "🚀 Processing PDFs:  20%|██        | 261/1278 [32:27<4:20:13, 15.35s/it]"
     ]
    },
    {
     "name": "stdout",
     "output_type": "stream",
     "text": [
      "⚠️ GPT-4.1-mini failed on Goodyear_Tire__Rubber_Co_202120Goodyear20Corporate20Responsibility20Reportpdfcoredownload_05nexes1.pdf, fallback to Vision...\n"
     ]
    },
    {
     "name": "stderr",
     "output_type": "stream",
     "text": [
      "🚀 Processing PDFs:  21%|██        | 262/1278 [32:30<3:31:08, 12.47s/it]"
     ]
    },
    {
     "name": "stdout",
     "output_type": "stream",
     "text": [
      "⚠️ GPT-4.1-mini failed on Unknown_2020-2021-Annual-Report-Rutgers-Global-Health-Institute_ap4hsdf7.pdf, fallback to Vision...\n"
     ]
    },
    {
     "name": "stderr",
     "output_type": "stream",
     "text": [
      "🚀 Processing PDFs:  21%|██        | 264/1278 [1:22:36<160:36:19, 570.20s/it]"
     ]
    },
    {
     "name": "stdout",
     "output_type": "stream",
     "text": [
      "⚠️ GPT-4.1-mini failed on Unknown_2021_katsudo_Eng_all_tectedgm.pdf, fallback to Vision...\n"
     ]
    },
    {
     "name": "stderr",
     "output_type": "stream",
     "text": [
      "🚀 Processing PDFs:  21%|██        | 265/1278 [1:47:38<232:58:22, 827.94s/it]"
     ]
    },
    {
     "name": "stdout",
     "output_type": "stream",
     "text": [
      "⚠️ GPT-4.1-mini failed on Comerica_Incorporated_comerica-corporateresponsibility-report_sf93z8w3.pdf, fallback to Vision...\n"
     ]
    },
    {
     "name": "stderr",
     "output_type": "stream",
     "text": [
      "🚀 Processing PDFs:  21%|██        | 266/1278 [2:27:40<358:06:11, 1273.88s/it]"
     ]
    },
    {
     "name": "stdout",
     "output_type": "stream",
     "text": [
      "⚠️ GPT-4.1-mini failed on Unknown_2021_3k1viz68.pdf, fallback to Vision...\n"
     ]
    },
    {
     "name": "stderr",
     "output_type": "stream",
     "text": [
      "🚀 Processing PDFs:  21%|██        | 267/1278 [2:37:39<303:09:56, 1079.52s/it]"
     ]
    },
    {
     "name": "stdout",
     "output_type": "stream",
     "text": [
      "⚠️ GPT-4.1-mini failed on The_Navigator_Company_SA_eba0068cc12ab76af09b5da0a403df27_gshzim52.pdf, fallback to Vision...\n"
     ]
    },
    {
     "name": "stderr",
     "output_type": "stream",
     "text": [
      "🚀 Processing PDFs:  21%|██        | 268/1278 [3:07:42<362:01:03, 1290.36s/it]"
     ]
    },
    {
     "name": "stdout",
     "output_type": "stream",
     "text": [
      "⚠️ GPT-4.1-mini failed on Federal_Bank_Ltd_f072c0b9-1ce1-40f7-8987-1ef1b9d35268_ucjymr1c.pdf, fallback to Vision...\n",
      "⚠️ GPT-4.1-mini failed on Lumax_Industries_Ltd_Annual-Report-2022-23_15yszhjo.pdf, fallback to Vision...\n"
     ]
    },
    {
     "name": "stderr",
     "output_type": "stream",
     "text": [
      "🚀 Processing PDFs:  21%|██        | 270/1278 [3:48:08<335:09:53, 1197.02s/it]"
     ]
    },
    {
     "name": "stdout",
     "output_type": "stream",
     "text": [
      "⚠️ GPT-4.1-mini failed on Kotak_Mahindra_Bank_Ltd_Business-Responsibility-Report-BRR-FY-16-17_n7y5sr5j.pdf, fallback to Vision...\n"
     ]
    },
    {
     "name": "stderr",
     "output_type": "stream",
     "text": [
      "🚀 Processing PDFs:  21%|██        | 271/1278 [4:27:47<433:05:19, 1548.28s/it]"
     ]
    },
    {
     "name": "stdout",
     "output_type": "stream",
     "text": [
      "⚠️ GPT-4.1-mini failed on Unknown_2022-annual-report_19geovmr.pdf, fallback to Vision...\n"
     ]
    },
    {
     "name": "stderr",
     "output_type": "stream",
     "text": [
      "🚀 Processing PDFs:  21%|██▏       | 272/1278 [4:38:13<355:53:05, 1273.54s/it]"
     ]
    },
    {
     "name": "stdout",
     "output_type": "stream",
     "text": [
      "⚠️ GPT-4.1-mini failed on Unknown_2021_ManagementReportEng_q8v96gxz.pdf, fallback to Vision...\n"
     ]
    },
    {
     "name": "stderr",
     "output_type": "stream",
     "text": [
      "🚀 Processing PDFs:  21%|██▏       | 273/1278 [5:07:48<397:20:30, 1423.31s/it]"
     ]
    },
    {
     "name": "stdout",
     "output_type": "stream",
     "text": [
      "⚠️ GPT-4.1-mini failed on Dustin_Group_AB_publ_202311081055-1_pb0p0snl.pdf, fallback to Vision...\n",
      "⚠️ GPT-4.1-mini failed on AYM_Syntex_Ltd_annual-report-1057972342-ar-report-aym-final-21-22_jwmhiojn.pdf, fallback to Vision...\n"
     ]
    },
    {
     "name": "stderr",
     "output_type": "stream",
     "text": [
      "🚀 Processing PDFs:  22%|██▏       | 275/1278 [5:48:26<352:18:24, 1264.51s/it]"
     ]
    }
   ],
   "source": [
    "\n",
    "# =========================\n",
    "# Run\n",
    "# =========================\n",
    "pdf_dir = Path(\"pdf_folder\")\n",
    "output_path = Path(\"results/pipeline7-years.csv\")\n",
    "os.makedirs(output_path.parent, exist_ok=True)\n",
    "\n",
    "pdf_files = list(pdf_dir.glob(\"*.pdf\"))\n",
    "MAX_WORKERS = 5\n",
    "\n",
    "with ThreadPoolExecutor(max_workers=MAX_WORKERS) as executor:\n",
    "    results = list(tqdm(executor.map(process_pdf, pdf_files), total=len(pdf_files), desc=\"🚀 Processing PDFs\"))\n",
    "\n",
    "df = pd.DataFrame(results)\n",
    "df.to_csv(output_path, index=False)\n",
    "print(f\"✅ Done! Results saved to: {output_path}\")"
   ]
  },
  {
   "cell_type": "code",
   "execution_count": null,
   "id": "a538292e",
   "metadata": {},
   "outputs": [],
   "source": []
  },
  {
   "cell_type": "code",
   "execution_count": null,
   "id": "82fbd200",
   "metadata": {},
   "outputs": [],
   "source": []
  },
  {
   "cell_type": "markdown",
   "id": "f59fa4da",
   "metadata": {},
   "source": [
    "年份对比"
   ]
  },
  {
   "cell_type": "code",
   "execution_count": null,
   "id": "952f6f2a",
   "metadata": {},
   "outputs": [
    {
     "name": "stdout",
     "output_type": "stream",
     "text": [
      "✅ number of combine samples：221\n",
      "✅ correct matches：198\n",
      "✅ Fuzzy Accuracy：89.59%\n"
     ]
    }
   ],
   "source": [
    "import pandas as pd\n",
    "import re\n",
    "\n",
    "# === 1. 加载数据 ===\n",
    "gpt_df = pd.read_csv(\"results/pipeline7-years.csv\")  # GPT提取结果\n",
    "label_df = pd.read_excel(\"check/rfyear_annotation2.xlsx\")            # 标注结果\n",
    "\n",
    "# === 2. 重命名列对齐、合并（按文件名）===\n",
    "gpt_df.rename(columns={\"filename\": \"pdf_name\", \"report_year\": \"normalized_report_year\"}, inplace=True)\n",
    "merged = pd.merge(label_df, gpt_df, on=\"pdf_name\", how=\"inner\")\n",
    "\n",
    "# === 3. 清洗文本：空值转空串，大小写、空格、换行处理 ===\n",
    "def clean_text(s):\n",
    "    if pd.isna(s): return \"\"\n",
    "    return str(s).strip().lower().replace(\"\\n\", \" \")\n",
    "\n",
    "merged[\"normalized_report_year\"] = merged[\"normalized_report_year\"].apply(clean_text)\n",
    "merged[\"chosen_rfyear\"] = merged[\"chosen_rfyear\"].apply(clean_text)\n",
    "\n",
    "# === 4. 定义辅助函数 ===\n",
    "import re\n",
    "\n",
    "def normalize_year_text(s):\n",
    "    if not s:\n",
    "        return \"\"\n",
    "    s = s.lower().strip()\n",
    "    \n",
    "    # 替换常见连字符为统一格式\n",
    "    s = s.replace(\"–\", \" to \").replace(\"-\", \" to \").replace(\"/\", \" to \")\n",
    "\n",
    "    # 清除无效字符\n",
    "    s = re.sub(r'[\\(\\)\\[\\],;:]', ' ', s)\n",
    "    s = re.sub(r'\\s+', ' ', s)\n",
    "\n",
    "    # fy 缩写处理：fy2020 或 fy 2020 → 2020\n",
    "    s = re.sub(r'\\bfy\\s*(\\d{4})\\b', r'\\1', s)                   # fy 2020 → 2020\n",
    "    s = re.sub(r'\\bfy\\s*(\\d{2})\\b', lambda m: f\"20{m.group(1)}\", s)  # fy 19 → 2019\n",
    "\n",
    "    # 区间格式处理：2020 to 21 → 2020 to 2021\n",
    "    s = re.sub(r'\\b(20\\d{2})\\s+to\\s+(\\d{2})\\b', lambda m: f\"{m.group(1)} to 20{m.group(2)}\", s)\n",
    "\n",
    "    # 区间格式处理：2020–2021、2020-2021、fy2020 to 2021 → 2020 to 2021\n",
    "    s = re.sub(r'\\b(20\\d{2})\\s*to\\s*(20\\d{2})\\b', r'\\1 to \\2', s)\n",
    "    s = re.sub(r'\\b(20\\d{2})\\s+to\\s+20\\d{2}', r'\\g<0>', s)\n",
    "\n",
    "    # 清理序数词\n",
    "    s = re.sub(r'\\b(\\d{1,2})(st|nd|rd|th)\\b', r'\\1', s)\n",
    "\n",
    "    return s.strip()\n",
    "\n",
    "def extract_years(s):\n",
    "    return sorted(set(re.findall(r'\\b(20\\d{2}|19\\d{2})\\b', s)))\n",
    "\n",
    "def is_fuzzy_match(a, b):\n",
    "    a_norm = normalize_year_text(a)\n",
    "    b_norm = normalize_year_text(b)\n",
    "    if a_norm == b_norm:\n",
    "        return True\n",
    "\n",
    "    # 提取年份集合\n",
    "    a_years = extract_years(a_norm)\n",
    "    b_years = extract_years(b_norm)\n",
    "\n",
    "    if not a_years or not b_years:\n",
    "        return False\n",
    "\n",
    "    # 排序后再比较\n",
    "    a_sorted = sorted(set(a_years))\n",
    "    b_sorted = sorted(set(b_years))\n",
    "\n",
    "    # 完全一致或包含\n",
    "    if a_sorted == b_sorted:\n",
    "        return True\n",
    "    if len(a_sorted) == 1 and a_sorted[0] in b_sorted:\n",
    "        return True\n",
    "    if len(b_sorted) == 1 and b_sorted[0] in a_sorted:\n",
    "        return True\n",
    "\n",
    "    # 仅一个年份时允许±1\n",
    "    if len(a_sorted) == 1 and len(b_sorted) == 1 and abs(int(a_sorted[0]) - int(b_sorted[0])) <= 1:\n",
    "        return True\n",
    "\n",
    "    return False\n",
    "\n",
    "# === 5. 应用模糊匹配函数 ===\n",
    "merged[\"fuzzy_match\"] = merged.apply(lambda row: is_fuzzy_match(row[\"normalized_report_year\"], row[\"chosen_rfyear\"]), axis=1)\n",
    "\n",
    "# === 6. 计算准确率 ===\n",
    "total = len(merged)\n",
    "correct = merged[\"fuzzy_match\"].sum()\n",
    "accuracy = correct / total\n",
    "\n",
    "print(f\"✅ number of combine samples：{total}\")\n",
    "print(f\"✅ correct matches：{correct}\")\n",
    "print(f\"✅ Fuzzy Accuracy：{accuracy:.2%}\")\n",
    "\n",
    "# === 7. 保存结果 ===\n",
    "# merged[[\"pdf_name\", \"chosen_rfyear\", \"normalized_report_year\", \"fuzzy_match\"]].to_csv(\"pipeline_eval/7/year_comparison.csv\", index=False)"
   ]
  },
  {
   "cell_type": "markdown",
   "id": "b4fb4aaf",
   "metadata": {},
   "source": [
    "name对比"
   ]
  },
  {
   "cell_type": "code",
   "execution_count": null,
   "id": "fe8c00e9",
   "metadata": {},
   "outputs": [
    {
     "name": "stdout",
     "output_type": "stream",
     "text": [
      "✅ Company name extraction accuracy (including alias matching):95.59%\n"
     ]
    }
   ],
   "source": [
    "import pandas as pd\n",
    "from difflib import SequenceMatcher\n",
    "import re\n",
    "import ast\n",
    "\n",
    "# === Step 1: 加载文件 ===\n",
    "df_pred = pd.read_csv(\"results/pipeline7-years.csv\")  # 包含 company_name、other_names\n",
    "df_true = pd.read_csv(\"check/matching_gabarito_with_pdfs2.csv\")  # 包含 name_2\n",
    "df_pred[\"filename\"] = df_pred[\"filename\"].str.strip()\n",
    "df_true[\"filename\"] = df_true[\"pdf_path\"].str.strip()\n",
    "\n",
    "df_merged = pd.merge(df_pred, df_true, on=\"filename\", how=\"inner\")\n",
    "\n",
    "# === Step 2: 清洗函数 ===\n",
    "def _clean_name(name: str) -> str:\n",
    "    if pd.isna(name):\n",
    "        return \"\"\n",
    "    name = name.lower()\n",
    "    name = re.sub(r\"\\([^()]*\\)\", \"\", name)\n",
    "    name = re.sub(r\"[^\\w\\d\\s]\", \"\", name)\n",
    "    suffixes = [\n",
    "        \" company\", \" companies\", \" corporation\", \" incorporated\", \" corp\", \" llc\", \" ltd\", \" inc\", \n",
    "        \" oyj\", \" intl\", \" sa\", \" lp\", \" spa\", \" sanv\", \" nv\", \" plc\", \" nvsa\", \" ptd\", \n",
    "        \" int\", \" international\", \"limited\", \"group\", \"the \", \" holdings\", \" co\"\n",
    "    ]\n",
    "    for suffix in suffixes:\n",
    "        name = name.replace(suffix, \"\")\n",
    "    name = name.replace(\"é\", \"e\").replace(\"  \", \"\").replace(\" \", \"\")\n",
    "    return re.sub(r\"[^a-zA-Z0-9]\", \"\", name)\n",
    "\n",
    "# === Step 3: 匹配函数 ===\n",
    "def fuzzy_match(clean_a, clean_b):\n",
    "    return SequenceMatcher(None, clean_a, clean_b).ratio()\n",
    "def get_best_match1(row):\n",
    "    target = _clean_name(row[\"name_2\"])\n",
    "    main_name = _clean_name(row[\"company_name\"])\n",
    "    best_score = fuzzy_match(main_name, target)\n",
    "    best_source = \"company_name\"\n",
    "\n",
    "    # 解析 other_names：支持列表或字符串（自动切分）\n",
    "    candidates = []\n",
    "    if \"other_names\" in row and pd.notna(row[\"other_names\"]):\n",
    "        raw = row[\"other_names\"]\n",
    "        try:\n",
    "            if isinstance(raw, str):\n",
    "                if raw.startswith(\"[\"):  # 是列表字符串\n",
    "                    candidates = ast.literal_eval(raw)\n",
    "                else:  # 否则按常见分隔符切分\n",
    "                    candidates = re.split(r\"[;,\\n]\", raw)\n",
    "            elif isinstance(raw, list):\n",
    "                candidates = raw\n",
    "        except Exception:\n",
    "            candidates = []\n",
    "\n",
    "    for alt in candidates:\n",
    "        alt_clean = _clean_name(alt)\n",
    "        score = fuzzy_match(alt_clean, target)\n",
    "        if score > best_score:\n",
    "            best_score = score\n",
    "            best_source = f\"other_names ({alt.strip()})\"\n",
    "\n",
    "    return pd.Series([best_score, best_score >= 0.85, best_source], index=[\"fuzzy_score\", \"is_correct\", \"matched_by\"])\n",
    "# === Step 4: 应用匹配函数 ===\n",
    "df_merged[[\"fuzzy_score\", \"is_correct\", \"matched_by\"]] = df_merged.apply(get_best_match1, axis=1)\n",
    "\n",
    "# === Step 5: 输出评估表 ===\n",
    "df_eval = df_merged[[\"filename\", \"company_name\", \"other_names\", \"name_2\", \"fuzzy_score\", \"is_correct\", \"matched_by\"]]\n",
    "# df_eval.to_csv(\"pipeline_eval/7/company_name_eval.csv\", index=False)\n",
    "\n",
    "# === Step 6: 显示准确率 ===\n",
    "accuracy = df_eval[\"is_correct\"].mean()\n",
    "print(f\"✅ Company name extraction accuracy (including alias matching):{accuracy:.2%}\")"
   ]
  },
  {
   "cell_type": "markdown",
   "id": "f2350f88",
   "metadata": {},
   "source": [
    "分类对比"
   ]
  },
  {
   "cell_type": "code",
   "execution_count": null,
   "id": "aa966172",
   "metadata": {},
   "outputs": [
    {
     "name": "stdout",
     "output_type": "stream",
     "text": [
      "accuracy: 91.36%\n",
      "✅ Saved to classification_comparison.xlsx\n",
      "📊 detailed \n",
      "\n",
      "                       precision    recall  f1-score   support\n",
      "\n",
      "        annual report      0.545     0.750     0.632         8\n",
      "    integrated report      0.889     0.762     0.821        21\n",
      "                other      1.000     1.000     1.000         2\n",
      "sustainability report      1.000     1.000     1.000        50\n",
      "\n",
      "             accuracy                          0.914        81\n",
      "            macro avg      0.859     0.878     0.863        81\n",
      "         weighted avg      0.926     0.914     0.917        81\n",
      "\n"
     ]
    },
    {
     "name": "stderr",
     "output_type": "stream",
     "text": [
      "/var/folders/9z/mm8bj8yn2yj6rk7vdlhpt07h0000gn/T/ipykernel_33095/1755026858.py:40: FutureWarning: DataFrame.applymap has been deprecated. Use DataFrame.map instead.\n",
      "  df_merged_cleaned = df_merged.applymap(clean_illegal_excel_chars)\n"
     ]
    },
    {
     "data": {
      "image/png": "[encoded data removed]",
      "text/plain": [
       "<Figure size 600x500 with 2 Axes>"
      ]
     },
     "metadata": {},
     "output_type": "display_data"
    }
   ],
   "source": [
    "import pandas as pd\n",
    "\n",
    "# ==== 1. 设置文件路径 ====\n",
    "# 修改为你本地的绝对路径或相对路径\n",
    "human_label_path = \"check/pdf_classification.xlsx\"\n",
    "gpt_result_path = \"results/pipeline7-years.csv\"\n",
    "\n",
    "# ==== 2. 读取文件 ====\n",
    "df_human = pd.read_excel(human_label_path)\n",
    "df_gpt = pd.read_csv(gpt_result_path)\n",
    "\n",
    "# ==== 3. 标准化列名，确保 filename 和 report_type 存在 ====\n",
    "df_human.columns = [col.strip().lower() for col in df_human.columns]\n",
    "df_gpt.columns = [col.strip().lower() for col in df_gpt.columns]\n",
    "\n",
    "# ==== 4. 合并两个表 ====\n",
    "df_merged = pd.merge(df_human, df_gpt, left_on=\"file_name\",\n",
    "    right_on=\"filename\",\n",
    "    how=\"left\")\n",
    "df_merged = df_merged.drop_duplicates(subset=\"file_name\", keep=\"first\")\n",
    "\n",
    "# ==== 6. 比较两个分类结果 ====\n",
    "df_merged[\"report_type_human\"] = df_merged[\"report_type_human\"].str.strip().str.lower()\n",
    "df_merged[\"report_type_gpt\"] = df_merged[\"report_type\"].str.strip().str.lower()\n",
    "df_merged[\"is_correct\"] = df_merged[\"report_type_human\"] == df_merged[\"report_type_gpt\"]\n",
    "\n",
    "# ==== 7. 计算准确率 ====\n",
    "accuracy = df_merged[\"is_correct\"].mean()\n",
    "print(f\"accuracy: {accuracy:.2%}\")\n",
    "\n",
    "# ==== 8. 导出对比结果（可选）====\n",
    "import re\n",
    "\n",
    "def clean_illegal_excel_chars(text):\n",
    "    if isinstance(text, str):\n",
    "        return re.sub(r\"[\\x00-\\x1F\\x7F]\", \"\", text)\n",
    "    return text\n",
    "\n",
    "# 清理非法字符\n",
    "df_merged_cleaned = df_merged.applymap(clean_illegal_excel_chars)\n",
    "\n",
    "# 再导出\n",
    "# df_merged_cleaned.to_excel(\"pipeline_eval/7/classification_comparison.xlsx\", index=False)\n",
    "print(\"✅ Saved to classification_comparison.xlsx\")\n",
    "# df_merged.to_excel(\"pipeline_eval/7/classification_comparison.xlsx\", index=False)\n",
    "# print(\"saved to classification_comparison_result.xlsx\")\n",
    "\n",
    "import sklearn\n",
    "from sklearn.metrics import classification_report, confusion_matrix\n",
    "\n",
    "# === 仅保留非空对比项（防止空值影响）===\n",
    "valid = df_merged[~df_merged[\"report_type_human\"].isna() & ~df_merged[\"report_type_gpt\"].isna()]\n",
    "\n",
    "# === 打印 classification report ===\n",
    "report = classification_report(\n",
    "    valid[\"report_type_human\"], \n",
    "    valid[\"report_type_gpt\"], \n",
    "    digits=3, \n",
    "    output_dict=False  # 改为 True 可返回字典\n",
    ")\n",
    "print(\"📊 detailed \\n\")\n",
    "print(report)\n",
    "\n",
    "# === 可视化混淆矩阵（可选）===\n",
    "import seaborn as sns\n",
    "import matplotlib.pyplot as plt\n",
    "\n",
    "cm = confusion_matrix(valid[\"report_type_human\"], valid[\"report_type_gpt\"], labels=valid[\"report_type_human\"].unique())\n",
    "plt.figure(figsize=(6,5))\n",
    "sns.heatmap(cm, annot=True, fmt='d', cmap='Blues',\n",
    "            xticklabels=valid[\"report_type_human\"].unique(),\n",
    "            yticklabels=valid[\"report_type_human\"].unique())\n",
    "plt.xlabel(\"Predicted\")\n",
    "plt.ylabel(\"True\")\n",
    "plt.title(\"Confusion Matrix\")\n",
    "plt.tight_layout()\n",
    "plt.show()"
   ]
  },
  {
   "cell_type": "code",
   "execution_count": null,
   "id": "159cdb87",
   "metadata": {},
   "outputs": [],
   "source": []
  },
  {
   "cell_type": "code",
   "execution_count": null,
   "id": "fc4bfcfc",
   "metadata": {},
   "outputs": [],
   "source": []
  },
  {
   "cell_type": "code",
   "execution_count": null,
   "id": "262b293c",
   "metadata": {},
   "outputs": [],
   "source": []
  },
  {
   "cell_type": "code",
   "execution_count": 21,
   "id": "ad5fe5cb",
   "metadata": {},
   "outputs": [
    {
     "name": "stdout",
     "output_type": "stream",
     "text": [
      "✅ Company name extraction accuracy (alias + fallbacks): 98.04%\n",
      "📄 Saved: eval/company_name_eval_with_alias_and_fallback.csv\n"
     ]
    }
   ],
   "source": [
    "import pandas as pd\n",
    "from difflib import SequenceMatcher\n",
    "import re\n",
    "import ast\n",
    "\n",
    "# === Step 1: 加载文件 ===\n",
    "df_pred = pd.read_csv(\"results/pipeline7.csv\")              # 需包含: filename, company_name, other_names\n",
    "df_true = pd.read_csv(\"check/matching_gabarito_with_pdfs2.csv\")  # 需包含: pdf_path, name_2\n",
    "\n",
    "# 统一/去空\n",
    "df_pred[\"filename\"] = df_pred[\"filename\"].astype(str).str.strip()\n",
    "df_true[\"filename\"] = df_true[\"pdf_path\"].astype(str).str.strip()\n",
    "df_pred[\"company_name\"] = df_pred[\"company_name\"].astype(str)  # 防止 NaN -> float\n",
    "df_pred[\"other_names\"] = df_pred.get(\"other_names\", \"\").fillna(\"\").astype(str)\n",
    "df_true[\"name_2\"] = df_true[\"name_2\"].astype(str)\n",
    "\n",
    "df_merged = pd.merge(df_pred, df_true, on=\"filename\", how=\"inner\")\n",
    "\n",
    "# === Step 2: 工具函数 ===\n",
    "SUFFIXES = [\n",
    "    \" company\",\" companies\",\" corporation\",\" incorporated\",\" corp\",\" llc\",\" ltd\",\" inc\",\n",
    "    \" oyj\",\" intl\",\" sa\",\" lp\",\" spa\",\" sanv\",\" nv\",\" plc\",\" nvsa\",\" ptd\",\n",
    "    \" int\",\" international\",\"limited\",\"group\",\" holdings\",\" co\"\n",
    "]\n",
    "STOPWORDS = {\"group\",\"holdings\",\"company\",\"limited\",\"corporation\",\"inc\",\"co\",\"plc\",\"corp\",\"ltd\",\"llc\",\"sa\",\"nv\",\"oyj\",\"spa\",\"intl\",\"int\"}\n",
    "\n",
    "def safe_str(x):\n",
    "    return \"\" if x is None or (isinstance(x, float) and pd.isna(x)) else str(x)\n",
    "\n",
    "def _clean_name(name: str) -> str:\n",
    "    s = safe_str(name).lower()\n",
    "    s = re.sub(r\"\\([^()]*\\)\", \"\", s)           # 去括号内容\n",
    "    s = re.sub(r\"[^\\w\\d\\s]\", \"\", s)            # 去标点\n",
    "    for suf in SUFFIXES:\n",
    "        s = s.replace(suf, \"\")\n",
    "    s = re.sub(r\"\\s+\", \" \", s).strip()\n",
    "    return s\n",
    "\n",
    "def fuzzy_ratio(a, b):\n",
    "    return SequenceMatcher(None, _clean_name(a), _clean_name(b)).ratio()\n",
    "\n",
    "def split_other_names(raw):\n",
    "    text = safe_str(raw).strip()\n",
    "    if not text:\n",
    "        return []\n",
    "    # JSON 列表字符串\n",
    "    if text.startswith(\"[\"):\n",
    "        try:\n",
    "            lst = ast.literal_eval(text)\n",
    "            return [safe_str(x).strip() for x in lst if safe_str(x).strip()]\n",
    "        except Exception:\n",
    "            pass\n",
    "    # 常见分隔符\n",
    "    parts = re.split(r\"[;,\\n|/]+\", text)\n",
    "    return [p.strip() for p in parts if p.strip()]\n",
    "\n",
    "def word_overlap(a, b):\n",
    "    wa = {w for w in re.findall(r\"\\b\\w+\\b\", safe_str(a).lower()) if w not in STOPWORDS and len(w) > 2}\n",
    "    wb = {w for w in re.findall(r\"\\b\\w+\\b\", safe_str(b).lower()) if w not in STOPWORDS and len(w) > 2}\n",
    "    return len(wa & wb) > 0\n",
    "\n",
    "def substr_match(a, b):\n",
    "    aa = _clean_name(a).replace(\" \", \"\")\n",
    "    bb = _clean_name(b).replace(\" \", \"\")\n",
    "    return (aa and bb) and (aa in bb or bb in aa)\n",
    "\n",
    "def acronym(name):\n",
    "    words = [w for w in re.findall(r\"\\b\\w+\\b\", safe_str(name).upper()) if w.lower() not in STOPWORDS and len(w) > 2]\n",
    "    return \"\".join(w[0] for w in words)\n",
    "\n",
    "def acronym_match(a, b):\n",
    "    ac = acronym(a)\n",
    "    bc = acronym(b)\n",
    "    return bool(ac) and ac == bc\n",
    "\n",
    "# === Step 3: 主匹配逻辑（主名/别名 + 多重兜底）===\n",
    "STRICT = 0.85  # 严格阈值：fuzzy >= 0.85\n",
    "\n",
    "def get_best_match(row):\n",
    "    name_true = safe_str(row[\"name_2\"])\n",
    "    name_main = safe_str(row[\"company_name\"])\n",
    "    best_score = fuzzy_ratio(name_main, name_true)\n",
    "    matched_by = \"company_name\" if best_score >= STRICT else \"no_match\"\n",
    "\n",
    "    # 先试别名（取最高分）\n",
    "    cand_alias = split_other_names(row.get(\"other_names\", \"\"))\n",
    "    for alias in cand_alias:\n",
    "        score = fuzzy_ratio(alias, name_true)\n",
    "        if score > best_score:\n",
    "            best_score = score\n",
    "            matched_by = f\"other_names({alias})\" if score >= STRICT else \"no_match\"\n",
    "\n",
    "    is_correct = best_score >= STRICT\n",
    "\n",
    "    # === 兜底：若严格没过阈值，尝试 词交集 / 子串 / 缩写 ===\n",
    "    if not is_correct:\n",
    "        if word_overlap(name_main, name_true):\n",
    "            is_correct = True\n",
    "            matched_by = \"fallback_word_overlap\"\n",
    "        elif any(word_overlap(a, name_true) for a in cand_alias):\n",
    "            is_correct = True\n",
    "            matched_by = \"fallback_word_overlap_from_alias\"\n",
    "        elif substr_match(name_main, name_true) or any(substr_match(a, name_true) for a in cand_alias):\n",
    "            is_correct = True\n",
    "            matched_by = \"fallback_substring\"\n",
    "        elif acronym_match(name_main, name_true) or any(acronym_match(a, name_true) for a in cand_alias):\n",
    "            is_correct = True\n",
    "            matched_by = \"fallback_acronym\"\n",
    "\n",
    "    return pd.Series({\n",
    "        \"fuzzy_score\": best_score,\n",
    "        \"is_correct\": bool(is_correct),\n",
    "        \"matched_by\": matched_by\n",
    "    })\n",
    "\n",
    "# === Step 4: 应用匹配函数 ===\n",
    "df_merged[[\"fuzzy_score\", \"is_correct\", \"matched_by\"]] = df_merged.apply(get_best_match, axis=1)\n",
    "\n",
    "# === Step 5: 输出评估表 & 准确率 ===\n",
    "df_eval = df_merged[[\"filename\", \"company_name\", \"other_names\", \"name_2\", \"fuzzy_score\", \"is_correct\", \"matched_by\"]]\n",
    "df_eval.to_csv(\"pipeline_eval/7/company_name2.csv\", index=False)\n",
    "\n",
    "accuracy = df_eval[\"is_correct\"].mean()\n",
    "print(f\"✅ Company name extraction accuracy (alias + fallbacks): {accuracy:.2%}\")\n",
    "print(\"📄 Saved:\", \"eval/company_name_eval_with_alias_and_fallback.csv\")"
   ]
  },
  {
   "cell_type": "code",
   "execution_count": 15,
   "id": "be02a440",
   "metadata": {},
   "outputs": [
    {
     "name": "stdout",
     "output_type": "stream",
     "text": [
      "✅ Accuracy (name_matching only, threshold=85): 95.10%\n",
      "📄 Saved: eval/company_name_eval_name_matching_only.csv\n"
     ]
    }
   ],
   "source": [
    "import pandas as pd\n",
    "import re, ast\n",
    "from name_matching.name_matcher import NameMatcher\n",
    "\n",
    "# ===== 1) 读取与对齐 =====\n",
    "pred = pd.read_csv(\"results/pipeline_with_tokens-mini.csv\")                # 需包含: filename, company_name, other_names(可无/可为空)\n",
    "true = pd.read_csv(\"check/matching_gabarito_with_pdfs2.csv\")  # 需包含: pdf_path, name_2\n",
    "\n",
    "pred[\"filename\"] = pred[\"filename\"].astype(str).str.strip()\n",
    "true[\"filename\"] = true[\"pdf_path\"].astype(str).str.strip()\n",
    "\n",
    "df = pred.merge(true, on=\"filename\", how=\"inner\")\n",
    "\n",
    "# ===== 2) 构造主库（老师给的标准名） =====\n",
    "master = (\n",
    "    df[[\"name_2\"]]\n",
    "    .dropna()\n",
    "    .drop_duplicates()\n",
    "    .rename(columns={\"name_2\": \"Company name\"})\n",
    "    .reset_index(drop=True)\n",
    ")\n",
    "\n",
    "# ===== 3) 展开候选（company_name + other_names）=====\n",
    "def split_other_names(raw):\n",
    "    \"\"\"支持 JSON 列表字符串 或 分号/逗号/换行/竖线/斜杠 分隔\"\"\"\n",
    "    if pd.isna(raw): \n",
    "        return []\n",
    "    s = str(raw).strip()\n",
    "    if not s:\n",
    "        return []\n",
    "    if s.startswith(\"[\"):\n",
    "        try:\n",
    "            lst = ast.literal_eval(s)\n",
    "            return [x.strip() for x in lst if isinstance(x, str) and x.strip()]\n",
    "        except Exception:\n",
    "            pass\n",
    "    parts = re.split(r\"[;,\\n|/]+\", s)\n",
    "    return [p.strip() for p in parts if p.strip()]\n",
    "\n",
    "rows = []\n",
    "for _, r in df.iterrows():\n",
    "    cands = [str(r.get(\"company_name\", \"\")).strip()]\n",
    "    cands += split_other_names(r.get(\"other_names\", \"\"))\n",
    "    for c in cands:\n",
    "        if c:\n",
    "            rows.append({\"filename\": r[\"filename\"], \"candidate\": c})\n",
    "cand_df = pd.DataFrame(rows).drop_duplicates()\n",
    "\n",
    "# 如果某些文件没有任何候选，补个空占位（避免后面 join 丢失）\n",
    "if cand_df.empty:\n",
    "    raise ValueError(\"No candidates found. Check columns: company_name / other_names.\")\n",
    "\n",
    "# ===== 4) 初始化 name_matching 并加载主库 =====\n",
    "matcher = NameMatcher(\n",
    "    number_of_matches=1,   # 每个候选只取一个最优命中\n",
    "    legal_suffixes=True,   # 自动处理 Inc/LLC/Group 等后缀\n",
    "    common_words=False,    # 常见词不过滤（你也可以改 True 试试）\n",
    "    top_n=50,              # 候选池大小\n",
    "    verbose=False\n",
    ")\n",
    "\n",
    "# 可以组合多种距离度量；推荐先试下面这组（来自官方示例）\n",
    "matcher.set_distance_metrics(['bag', 'typo', 'refined_soundex'])\n",
    "\n",
    "matcher.load_and_process_master_data(\n",
    "    column='Company name',\n",
    "    df_matching_data=master,\n",
    "    transform=True\n",
    ")\n",
    "\n",
    "# ===== 5) 执行匹配 =====\n",
    "matches = matcher.match_names(\n",
    "    to_be_matched=cand_df,\n",
    "    column_matching='candidate'\n",
    ")\n",
    "# matches 包含：match_name（命中的 name_2）、match_index、score(0-100)\n",
    "\n",
    "cand_scored = cand_df.join(matches)\n",
    "\n",
    "# ===== 6) 选“每个文件”的最好命中（分数最高）=====\n",
    "best_per_file = (\n",
    "    cand_scored\n",
    "    .sort_values([\"filename\", \"score\"], ascending=[True, False])\n",
    "    .drop_duplicates(\"filename\")\n",
    "    .rename(columns={\"match_name\": \"matched_name_2\", \"score\": \"nm_score\"})\n",
    ")\n",
    "\n",
    "# ===== 7) 合并回原始 df，评估 =====\n",
    "eval_df = df.merge(best_per_file[[\"filename\", \"candidate\", \"matched_name_2\", \"nm_score\"]],\n",
    "                   on=\"filename\", how=\"left\")\n",
    "\n",
    "# 判定是否匹配：严格阈值（可调）\n",
    "STRICT = 85\n",
    "eval_df[\"is_correct\"] = (eval_df[\"nm_score\"].fillna(0) >= STRICT)\n",
    "\n",
    "# 标注匹配来源：主名 or 别名\n",
    "def matched_by(row):\n",
    "    cname = str(row.get(\"company_name\", \"\")).strip()\n",
    "    cand  = str(row.get(\"candidate\", \"\")).strip()\n",
    "    if not cand:\n",
    "        return \"no_match\"\n",
    "    return \"company_name\" if cand == cname else \"other_names\"\n",
    "\n",
    "eval_df[\"matched_by\"] = eval_df.apply(matched_by, axis=1)\n",
    "\n",
    "# ===== 8) 输出结果 =====\n",
    "out_cols = [\n",
    "    \"filename\", \"company_name\", \"other_names\", \"name_2\",\n",
    "    \"candidate\", \"matched_name_2\", \"nm_score\", \"is_correct\", \"matched_by\"\n",
    "]\n",
    "# eval_df[out_cols].to_csv(\"eval/company_name_eval_name_matching_only.csv\", index=False)\n",
    "\n",
    "acc = eval_df[\"is_correct\"].mean()\n",
    "print(f\"✅ Accuracy (name_matching only, threshold={STRICT}): {acc:.2%}\")\n",
    "print(\"📄 Saved: eval/company_name_eval_name_matching_only.csv\")"
   ]
  },
  {
   "cell_type": "code",
   "execution_count": null,
   "id": "c059e558",
   "metadata": {},
   "outputs": [],
   "source": []
  },
  {
   "cell_type": "code",
   "execution_count": null,
   "id": "4fc975c7",
   "metadata": {},
   "outputs": [],
   "source": []
  },
  {
   "cell_type": "code",
   "execution_count": null,
   "id": "16eaf9a8",
   "metadata": {},
   "outputs": [],
   "source": []
  }
 ],
 "metadata": {
  "kernelspec": {
   "display_name": "irp_pdf",
   "language": "python",
   "name": "python3"
  },
  "language_info": {
   "codemirror_mode": {
    "name": "ipython",
    "version": 3
   },
   "file_extension": ".py",
   "mimetype": "text/x-python",
   "name": "python",
   "nbconvert_exporter": "python",
   "pygments_lexer": "ipython3",
   "version": "3.12.9"
  }
 },
 "nbformat": 4,
 "nbformat_minor": 5
}
