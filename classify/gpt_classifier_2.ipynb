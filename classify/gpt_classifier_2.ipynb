{
 "cells": [
  {
   "cell_type": "markdown",
   "metadata": {},
   "source": [
    "# 📊 GPT-assisted Report Type Classification\n",
    "This notebook reads PDF reports, extracts front/back pages, and uses OpenAI GPT API to classify the report type and sustainability section presence."
   ]
  },
  {
   "cell_type": "markdown",
   "id": "531683ad",
   "metadata": {},
   "source": [
    "单纯的gpt分类。"
   ]
  },
  {
   "cell_type": "code",
   "execution_count": 10,
   "metadata": {},
   "outputs": [],
   "source": [
    "from openai import OpenAI\n",
    "from pathlib import Path\n",
    "import fitz  # PyMuPDF\n",
    "import pandas as pd\n",
    "from tqdm import tqdm\n",
    "import json\n",
    "import os\n",
    "from dotenv import load_dotenv\n",
    "\n",
    "# Load OpenAI API key from .env file\n",
    "load_dotenv()\n",
    "client = OpenAI(api_key=os.getenv(\"OPENAI_API_KEY\"))\n",
    "\n",
    "# Paths\n",
    "PDF_DIR = Path(\"pdf_folder\")  # Ensure this path contains your PDFs\n",
    "OUTPUT_PATH = Path(\"results/classify_gpt_results1.csv\")"
   ]
  },
  {
   "cell_type": "code",
   "execution_count": 11,
   "id": "587e7079",
   "metadata": {},
   "outputs": [],
   "source": [
    "# 重新加载必要模块和OCR补救函数（环境已重置）\n",
    "from pdf2image import convert_from_path\n",
    "import pytesseract\n",
    "from PIL import Image\n",
    "import tempfile\n",
    "import os\n",
    "\n",
    "# OCR 补救函数：用于从首页和末页图像提取文本\n",
    "def extract_text_with_ocr(pdf_path, front_n=5, back_n=5, dpi=300):\n",
    "    try:\n",
    "        with tempfile.TemporaryDirectory() as path:\n",
    "            # 将 PDF 页转换为图像\n",
    "            images = convert_from_path(pdf_path, dpi=dpi, output_folder=path)\n",
    "            total_pages = len(images)\n",
    "            selected_pages = []\n",
    "\n",
    "            for i in range(min(front_n, total_pages)):\n",
    "                selected_pages.append(images[i])\n",
    "\n",
    "            for i in range(max(0, total_pages - back_n), total_pages):\n",
    "                selected_pages.append(images[i])\n",
    "\n",
    "            # 用 OCR 提取文本\n",
    "            text_parts = [pytesseract.image_to_string(img) for img in selected_pages]\n",
    "            return \"\\n\".join(text_parts)\n",
    "    except Exception as e:\n",
    "        return f\"OCR ERROR: {e}\"\n"
   ]
  },
  {
   "cell_type": "code",
   "execution_count": null,
   "id": "cc360788",
   "metadata": {},
   "outputs": [],
   "source": []
  },
  {
   "cell_type": "code",
   "execution_count": 12,
   "metadata": {},
   "outputs": [],
   "source": [
    "# Extract front/back page text from a PDF\n",
    "# def extract_front_back_text(pdf_path, front_n=5, back_n=5):\n",
    "#     try:\n",
    "#         doc = fitz.open(pdf_path)\n",
    "#         texts = []\n",
    "#         for i in range(min(front_n, len(doc))):\n",
    "#             texts.append(doc[i].get_text())\n",
    "#         for i in range(max(0, len(doc) - back_n), len(doc)):\n",
    "#             texts.append(doc[i].get_text())\n",
    "#         doc.close()\n",
    "#         return \"\\n\".join(texts)\n",
    "#     except Exception as e:\n",
    "#         return f\"ERROR: {e}\"\n",
    "def extract_front_back_text(pdf_path, front_n=5, back_n=5):\n",
    "    try:\n",
    "        doc = fitz.open(pdf_path)\n",
    "        texts = []\n",
    "        for i in range(min(front_n, len(doc))):\n",
    "            texts.append(doc[i].get_text())\n",
    "        for i in range(max(0, len(doc) - back_n), len(doc)):\n",
    "            texts.append(doc[i].get_text())\n",
    "        doc.close()\n",
    "        full_text = \"\\n\".join(texts)\n",
    "        if len(full_text.strip()) < 50:\n",
    "            raise ValueError(\"Empty or invalid text, fallback to OCR.\")\n",
    "        return full_text\n",
    "    except Exception as e:\n",
    "        print(f\"⚠️ PyMuPDF failed on {pdf_path.name}, switching to OCR...\")\n",
    "        return extract_text_with_ocr(pdf_path)"
   ]
  },
  {
   "cell_type": "code",
   "execution_count": 13,
   "metadata": {},
   "outputs": [],
   "source": [
    "# Use GPT to classify report type and sustainability section\n",
    "def classify_report_type(text):\n",
    "    system_prompt = \"You are an expert in classification.\"\n",
    "    \n",
    "    user_prompt = f\"\"\"\n",
    "The following text is extracted from a corporate report (typically the first and last few pages, or a table of contents).\n",
    "\n",
    "Your tasks:\n",
    "\n",
    "1. Classify the report into one of the following types:\n",
    "- \"sustainability report\": The document primarily focuses on ESG, sustainability, CSR, or GRI/SDGs-related topics. It does NOT contain full audited financial statements.\n",
    "- \"annual report\": The document primarily contains audited financial disclosures (e.g., income statement, cash flow statement, balance sheet, auditor’s report). Any ESG content is minimal, scattered, or clearly secondary.\n",
    "- \"integrated report\": The document contains BOTH full audited financial disclosures AND a dedicated or structured sustainability section (e.g. a chapter explicitly named “Sustainability”, “ESG”, or “CSR” in the table of contents or headings). ESG content must be substantial and integrated into the structure, not just mentioned briefly.\n",
    "- \"other\": The document does not match any of the above categories (e.g., promotional brochures, regulatory filings, environmental statements, etc.)\n",
    "\n",
    "2. Important judgment rules:\n",
    "- If the document contains a clear section titled “Sustainability”, “ESG”, “CSR”, “GRI” etc., and this content is more than a few paragraphs, treat it as substantial.\n",
    "- If BOTH financials and structured sustainability content are found, classify as \"integrated report\", regardless of the title.\n",
    "- Do NOT rely solely on the report title (“Annual Report” / “Sustainability Report”) to decide. Always cross-check contents.\n",
    "\n",
    "3. Also indicate whether a clear sustainability section is present, and extract the section name if available.\n",
    "\n",
    "Return a JSON object with the following structure:\n",
    "{{\n",
    "  \"reasoning\": \"...\",\n",
    "  \"report_type\": \"...\",\n",
    "  \"has_sustainability_section\": true/false,\n",
    "  \"sustainability_section_name\": \"...\"\n",
    "}}\n",
    "\n",
    "Content:\n",
    "{text}\n",
    "\"\"\"\n",
    "    \n",
    " \n",
    "# \n",
    "\n",
    "\n",
    "    try:\n",
    "        response = client.chat.completions.create(\n",
    "            model=\"gpt-4.1-mini\",\n",
    "            messages=[\n",
    "                {\"role\": \"system\", \"content\": system_prompt},\n",
    "                {\"role\": \"user\", \"content\": user_prompt}\n",
    "            ],\n",
    "            temperature=0\n",
    "        )\n",
    "        reply = response.choices[0].message.content\n",
    "        parsed = json.loads(reply)\n",
    "        return parsed.get(\"report_type\", \"\"), parsed.get(\"has_sustainability_section\", \"\"), parsed.get(\"sustainability_section_name\", \"\"), parsed.get(\"reasoning\", \"\")\n",
    "    except Exception as e:\n",
    "        return \"ERROR\", \"\", \"\", f\"Exception: {e}\""
   ]
  },
  {
   "cell_type": "code",
   "execution_count": 14,
   "metadata": {},
   "outputs": [
    {
     "name": "stderr",
     "output_type": "stream",
     "text": [
      "  0%|          | 0/1279 [00:00<?, ?it/s]"
     ]
    },
    {
     "name": "stderr",
     "output_type": "stream",
     "text": [
      " 20%|█▉        | 252/1279 [27:21<1:08:03,  3.98s/it]"
     ]
    },
    {
     "name": "stdout",
     "output_type": "stream",
     "text": [
      "⚠️ PyMuPDF failed on Unknown_adbi-managing-transition-low-carbon-economy_087is5zy.pdf, switching to OCR...\n"
     ]
    },
    {
     "name": "stderr",
     "output_type": "stream",
     "text": [
      " 20%|██        | 257/1279 [27:41<1:17:52,  4.57s/it]"
     ]
    },
    {
     "name": "stdout",
     "output_type": "stream",
     "text": [
      "MuPDF error: format error: cmsOpenProfileFromMem failed\n",
      "\n",
      "MuPDF error: format error: cmsOpenProfileFromMem failed\n",
      "\n",
      "MuPDF error: format error: cmsOpenProfileFromMem failed\n",
      "\n",
      "MuPDF error: format error: cmsOpenProfileFromMem failed\n",
      "\n"
     ]
    },
    {
     "name": "stderr",
     "output_type": "stream",
     "text": [
      " 20%|██        | 258/1279 [27:46<1:17:52,  4.58s/it]"
     ]
    },
    {
     "name": "stdout",
     "output_type": "stream",
     "text": [
      "⚠️ PyMuPDF failed on Unknown_2014SustainRpt_FNL_lr_7mrwsfm7.pdf, switching to OCR...\n"
     ]
    },
    {
     "name": "stderr",
     "output_type": "stream",
     "text": [
      " 28%|██▊       | 361/1279 [1:57:43<1:02:34,  4.09s/it]   "
     ]
    },
    {
     "name": "stdout",
     "output_type": "stream",
     "text": [
      "⚠️ PyMuPDF failed on Hansae_Yes24_Holdings_Co_Ltd_HANSAE20YES2420HOLDINGS20ESG20REPORT202022_th5kzsfk.pdf, switching to OCR...\n"
     ]
    },
    {
     "name": "stderr",
     "output_type": "stream",
     "text": [
      " 34%|███▎      | 431/1279 [2:02:34<50:56,  3.60s/it]  "
     ]
    },
    {
     "name": "stdout",
     "output_type": "stream",
     "text": [
      "⚠️ PyMuPDF failed on Home_Inns__Hotels_Management_Inc_Barclays_Bank_PLC_Annual_Report_202014_5lj1epic.pdf, switching to OCR...\n"
     ]
    },
    {
     "name": "stderr",
     "output_type": "stream",
     "text": [
      " 39%|███▉      | 500/1279 [2:07:38<58:08,  4.48s/it]  "
     ]
    },
    {
     "name": "stdout",
     "output_type": "stream",
     "text": [
      "⚠️ PyMuPDF failed on Unknown_adp07-sus-fr_95qx6prh.pdf, switching to OCR...\n"
     ]
    },
    {
     "name": "stderr",
     "output_type": "stream",
     "text": [
      " 53%|█████▎    | 674/1279 [2:21:42<41:58,  4.16s/it]  "
     ]
    },
    {
     "name": "stdout",
     "output_type": "stream",
     "text": [
      "⚠️ PyMuPDF failed on Armstrong_Flooring_Inc_SustainabilityReport-2020_kot54emv.pdf, switching to OCR...\n"
     ]
    },
    {
     "name": "stderr",
     "output_type": "stream",
     "text": [
      " 57%|█████▋    | 726/1279 [2:25:45<40:56,  4.44s/it]  "
     ]
    },
    {
     "name": "stdout",
     "output_type": "stream",
     "text": [
      "MuPDF error: format error: object is not a stream\n",
      "\n",
      "MuPDF error: format error: object is not a stream\n",
      "\n",
      "MuPDF error: format error: object is not a stream\n",
      "\n",
      "MuPDF error: format error: object is not a stream\n",
      "\n",
      "MuPDF error: format error: object is not a stream\n",
      "\n",
      "MuPDF error: format error: object is not a stream\n",
      "\n",
      "MuPDF error: format error: object is not a stream\n",
      "\n",
      "MuPDF error: format error: object is not a stream\n",
      "\n",
      "MuPDF error: format error: object is not a stream\n",
      "\n",
      "MuPDF error: format error: object is not a stream\n",
      "\n",
      "MuPDF error: format error: object is not a stream\n",
      "\n",
      "MuPDF error: format error: object is not a stream\n",
      "\n",
      "MuPDF error: format error: object is not a stream\n",
      "\n",
      "MuPDF error: format error: object is not a stream\n",
      "\n",
      "MuPDF error: format error: object is not a stream\n",
      "\n",
      "MuPDF error: format error: object is not a stream\n",
      "\n",
      "MuPDF error: format error: object is not a stream\n",
      "\n",
      "MuPDF error: format error: object is not a stream\n",
      "\n",
      "MuPDF error: format error: object is not a stream\n",
      "\n",
      "MuPDF error: format error: object is not a stream\n",
      "\n",
      "MuPDF error: format error: object is not a stream\n",
      "\n",
      "MuPDF error: format error: object is not a stream\n",
      "\n"
     ]
    },
    {
     "name": "stderr",
     "output_type": "stream",
     "text": [
      " 60%|██████    | 773/1279 [2:29:37<1:07:02,  7.95s/it]"
     ]
    },
    {
     "name": "stdout",
     "output_type": "stream",
     "text": [
      "⚠️ PyMuPDF failed on Tam_Jai_International_Co_Ltd_2022083101184_go5rbp4a.pdf, switching to OCR...\n"
     ]
    },
    {
     "name": "stderr",
     "output_type": "stream",
     "text": [
      " 70%|███████   | 898/1279 [2:38:34<21:17,  3.35s/it]  "
     ]
    },
    {
     "name": "stdout",
     "output_type": "stream",
     "text": [
      "⚠️ PyMuPDF failed on Hyosung_Corp_SR_2020_en_8g98j6gk.pdf, switching to OCR...\n"
     ]
    },
    {
     "name": "stderr",
     "output_type": "stream",
     "text": [
      " 76%|███████▋  | 976/1279 [2:43:28<16:43,  3.31s/it]"
     ]
    },
    {
     "name": "stdout",
     "output_type": "stream",
     "text": [
      "⚠️ PyMuPDF failed on Boryung_Corporation_EBB3B4EBA0B920ECA780EC868DEAB080EB8AA5EAB2BDEC9881EBB3B4EAB3A0EC849CEC9881EBACB8_ebpit5lz.pdf, switching to OCR...\n"
     ]
    },
    {
     "name": "stderr",
     "output_type": "stream",
     "text": [
      " 77%|███████▋  | 989/1279 [2:44:13<16:01,  3.32s/it]"
     ]
    },
    {
     "name": "stdout",
     "output_type": "stream",
     "text": [
      "⚠️ PyMuPDF failed on Arvind_Ltd_Arvind_AR_2022-23_0_iwp4673c.pdf, switching to OCR...\n"
     ]
    },
    {
     "name": "stderr",
     "output_type": "stream",
     "text": [
      " 87%|████████▋ | 1108/1279 [3:27:47<16:34,  5.82s/it]    "
     ]
    },
    {
     "name": "stdout",
     "output_type": "stream",
     "text": [
      "⚠️ PyMuPDF failed on EKI_Energy_Services_Limited_69298543284_zj7y1tjh.pdf, switching to OCR...\n"
     ]
    },
    {
     "name": "stderr",
     "output_type": "stream",
     "text": [
      " 88%|████████▊ | 1124/1279 [3:28:42<08:25,  3.26s/it]"
     ]
    },
    {
     "name": "stdout",
     "output_type": "stream",
     "text": [
      "⚠️ PyMuPDF failed on Unknown_23076_Whitbread_AR2020_web_0v2mxh4f.pdf, switching to OCR...\n"
     ]
    },
    {
     "name": "stderr",
     "output_type": "stream",
     "text": [
      " 90%|████████▉ | 1151/1279 [3:30:23<07:00,  3.28s/it]"
     ]
    },
    {
     "name": "stdout",
     "output_type": "stream",
     "text": [
      "MuPDF error: format error: cmsOpenProfileFromMem failed\n",
      "\n",
      "MuPDF error: format error: cmsOpenProfileFromMem failed\n",
      "\n",
      "MuPDF error: format error: cmsOpenProfileFromMem failed\n",
      "\n"
     ]
    },
    {
     "name": "stderr",
     "output_type": "stream",
     "text": [
      " 91%|█████████▏| 1170/1279 [3:31:37<06:25,  3.54s/it]"
     ]
    },
    {
     "name": "stdout",
     "output_type": "stream",
     "text": [
      "MuPDF error: format error: No default Layer config\n",
      "\n"
     ]
    },
    {
     "name": "stderr",
     "output_type": "stream",
     "text": [
      " 95%|█████████▍| 1211/1279 [3:34:31<04:35,  4.05s/it]"
     ]
    },
    {
     "name": "stdout",
     "output_type": "stream",
     "text": [
      "⚠️ PyMuPDF failed on Unknown_2023042101335_kyzhtmjn.pdf, switching to OCR...\n"
     ]
    },
    {
     "name": "stderr",
     "output_type": "stream",
     "text": [
      " 97%|█████████▋| 1241/1279 [3:36:41<04:50,  7.65s/it]"
     ]
    },
    {
     "name": "stdout",
     "output_type": "stream",
     "text": [
      "⚠️ PyMuPDF failed on Titan_Company_Ltd_Annual20Report202013_p4r8w07u.pdf, switching to OCR...\n"
     ]
    },
    {
     "name": "stderr",
     "output_type": "stream",
     "text": [
      " 99%|█████████▉| 1271/1279 [3:39:50<00:35,  4.42s/it]"
     ]
    },
    {
     "name": "stdout",
     "output_type": "stream",
     "text": [
      "⚠️ PyMuPDF failed on BASF_SE_2012_BASF_Report_lmq79gwn.pdf, switching to OCR...\n"
     ]
    },
    {
     "name": "stderr",
     "output_type": "stream",
     "text": [
      "100%|██████████| 1279/1279 [3:40:26<00:00, 10.34s/it]\n"
     ]
    }
   ],
   "source": [
    "# Loop through PDFs and classify\n",
    "pdf_results = []\n",
    "for pdf_file in tqdm(os.listdir(PDF_DIR)):\n",
    "    if not pdf_file.endswith(\".pdf\"):\n",
    "        continue\n",
    "    pdf_path = PDF_DIR / pdf_file\n",
    "    text = extract_front_back_text(pdf_path)\n",
    "    if text.startswith(\"ERROR\"):\n",
    "        pdf_results.append({\"filename\": pdf_file, \"report_type\": \"ERROR\", \"has_sustainability_section\": \"\"})\n",
    "        continue\n",
    "    report_type, sustainability,sustainability_name,reasoning = classify_report_type(text)\n",
    "    pdf_results.append({\n",
    "        \"filename\": pdf_file,\n",
    "        \"report_type\": report_type,\n",
    "        \"has_sustainability_section\": sustainability,\n",
    "        \"sustainability_section_name\": sustainability_name,\n",
    "        \"reasoning\": reasoning\n",
    "    })"
   ]
  },
  {
   "cell_type": "code",
   "execution_count": 9,
   "metadata": {},
   "outputs": [
    {
     "data": {
      "text/html": [
       "<div>\n",
       "<style scoped>\n",
       "    .dataframe tbody tr th:only-of-type {\n",
       "        vertical-align: middle;\n",
       "    }\n",
       "\n",
       "    .dataframe tbody tr th {\n",
       "        vertical-align: top;\n",
       "    }\n",
       "\n",
       "    .dataframe thead th {\n",
       "        text-align: right;\n",
       "    }\n",
       "</style>\n",
       "<table border=\"1\" class=\"dataframe\">\n",
       "  <thead>\n",
       "    <tr style=\"text-align: right;\">\n",
       "      <th></th>\n",
       "      <th>filename</th>\n",
       "      <th>report_type</th>\n",
       "      <th>has_sustainability_section</th>\n",
       "      <th>sustainability_section_name</th>\n",
       "      <th>reasoning</th>\n",
       "    </tr>\n",
       "  </thead>\n",
       "  <tbody>\n",
       "    <tr>\n",
       "      <th>0</th>\n",
       "      <td>Unknown_8f57f855-11bb-496d-9916-91ff88cb537b_s...</td>\n",
       "      <td>ERROR</td>\n",
       "      <td></td>\n",
       "      <td></td>\n",
       "      <td>Exception: Error code: 429 - {'error': {'messa...</td>\n",
       "    </tr>\n",
       "    <tr>\n",
       "      <th>1</th>\n",
       "      <td>Toyota_Industries_Corp_environment2004_40h96hj...</td>\n",
       "      <td>ERROR</td>\n",
       "      <td></td>\n",
       "      <td></td>\n",
       "      <td>Exception: Error code: 429 - {'error': {'messa...</td>\n",
       "    </tr>\n",
       "    <tr>\n",
       "      <th>2</th>\n",
       "      <td>Knoll_Inc_Knoll_Enviro_2008_gqetdkb7.pdf</td>\n",
       "      <td>ERROR</td>\n",
       "      <td></td>\n",
       "      <td></td>\n",
       "      <td>Exception: Error code: 429 - {'error': {'messa...</td>\n",
       "    </tr>\n",
       "    <tr>\n",
       "      <th>3</th>\n",
       "      <td>Intel_Corp__fwws0wtm.pdf</td>\n",
       "      <td>ERROR</td>\n",
       "      <td></td>\n",
       "      <td></td>\n",
       "      <td>Exception: Error code: 429 - {'error': {'messa...</td>\n",
       "    </tr>\n",
       "    <tr>\n",
       "      <th>4</th>\n",
       "      <td>Unknown_2020_SEBANG20SUSTAINABILITY20REPORT_EN...</td>\n",
       "      <td>ERROR</td>\n",
       "      <td></td>\n",
       "      <td></td>\n",
       "      <td>Exception: Error code: 429 - {'error': {'messa...</td>\n",
       "    </tr>\n",
       "  </tbody>\n",
       "</table>\n",
       "</div>"
      ],
      "text/plain": [
       "                                            filename report_type  \\\n",
       "0  Unknown_8f57f855-11bb-496d-9916-91ff88cb537b_s...       ERROR   \n",
       "1  Toyota_Industries_Corp_environment2004_40h96hj...       ERROR   \n",
       "2           Knoll_Inc_Knoll_Enviro_2008_gqetdkb7.pdf       ERROR   \n",
       "3                           Intel_Corp__fwws0wtm.pdf       ERROR   \n",
       "4  Unknown_2020_SEBANG20SUSTAINABILITY20REPORT_EN...       ERROR   \n",
       "\n",
       "  has_sustainability_section sustainability_section_name  \\\n",
       "0                                                          \n",
       "1                                                          \n",
       "2                                                          \n",
       "3                                                          \n",
       "4                                                          \n",
       "\n",
       "                                           reasoning  \n",
       "0  Exception: Error code: 429 - {'error': {'messa...  \n",
       "1  Exception: Error code: 429 - {'error': {'messa...  \n",
       "2  Exception: Error code: 429 - {'error': {'messa...  \n",
       "3  Exception: Error code: 429 - {'error': {'messa...  \n",
       "4  Exception: Error code: 429 - {'error': {'messa...  "
      ]
     },
     "execution_count": 9,
     "metadata": {},
     "output_type": "execute_result"
    }
   ],
   "source": [
    "# Save results\n",
    "result_df = pd.DataFrame(pdf_results)\n",
    "result_df.to_csv(OUTPUT_PATH, index=False)\n",
    "result_df.head()"
   ]
  },
  {
   "cell_type": "code",
   "execution_count": null,
   "id": "892720ab",
   "metadata": {},
   "outputs": [],
   "source": []
  },
  {
   "cell_type": "code",
   "execution_count": null,
   "id": "0bd6c638",
   "metadata": {},
   "outputs": [],
   "source": []
  },
  {
   "cell_type": "code",
   "execution_count": null,
   "id": "b386aba0",
   "metadata": {},
   "outputs": [],
   "source": []
  },
  {
   "cell_type": "code",
   "execution_count": null,
   "id": "b9ad0167",
   "metadata": {},
   "outputs": [],
   "source": []
  },
  {
   "cell_type": "code",
   "execution_count": null,
   "id": "afb5d577",
   "metadata": {},
   "outputs": [],
   "source": []
  },
  {
   "cell_type": "code",
   "execution_count": null,
   "id": "26bd3c6c",
   "metadata": {},
   "outputs": [],
   "source": []
  },
  {
   "cell_type": "code",
   "execution_count": 8,
   "id": "0f01a6ca",
   "metadata": {},
   "outputs": [
    {
     "name": "stdout",
     "output_type": "stream",
     "text": [
      "accuracy pipeline: 86.75%\n",
      "saved to  classification_comparison_result.xlsx\n",
      "📊pipeline detailed \n",
      "\n",
      "                       precision    recall  f1-score   support\n",
      "\n",
      "        annual report      0.600     0.545     0.571        11\n",
      "    integrated report      0.700     0.778     0.737        18\n",
      "                other      1.000     0.750     0.857         4\n",
      "sustainability report      0.980     0.980     0.980        50\n",
      "\n",
      "             accuracy                          0.867        83\n",
      "            macro avg      0.820     0.763     0.786        83\n",
      "         weighted avg      0.870     0.867     0.867        83\n",
      "\n"
     ]
    },
    {
     "data": {
      "image/png": "[encoded data removed]",
      "text/plain": [
       "<Figure size 600x500 with 2 Axes>"
      ]
     },
     "metadata": {},
     "output_type": "display_data"
    }
   ],
   "source": [
    "import pandas as pd\n",
    "\n",
    "# ==== 1. 设置文件路径 ====\n",
    "# 修改为你本地的绝对路径或相对路径\n",
    "human_label_path = \"check/pdf_classification.xlsx\"\n",
    "gpt_result_path = \"output/full_pipeline_results.csv\"\n",
    "\n",
    "# ==== 2. 读取文件 ====\n",
    "df_human = pd.read_excel(human_label_path)\n",
    "df_gpt = pd.read_csv(gpt_result_path)\n",
    "\n",
    "# ==== 3. 标准化列名，确保 filename 和 report_type 存在 ====\n",
    "df_human.columns = [col.strip().lower() for col in df_human.columns]\n",
    "df_gpt.columns = [col.strip().lower() for col in df_gpt.columns]\n",
    "\n",
    "# ==== 4. 合并两个表 ====\n",
    "df_merged = pd.merge(df_human, df_gpt, left_on=\"file_name\",\n",
    "    right_on=\"filename\",\n",
    "    how=\"left\")\n",
    "\n",
    "\n",
    "# ==== 6. 比较两个分类结果 ====\n",
    "df_merged[\"report_type_human\"] = df_merged[\"report_type_human\"].str.strip().str.lower()\n",
    "df_merged[\"report_type_gpt\"] = df_merged[\"report_type\"].str.strip().str.lower()\n",
    "df_merged[\"is_correct\"] = df_merged[\"report_type_human\"] == df_merged[\"report_type_gpt\"]\n",
    "\n",
    "# ==== 7. 计算准确率 ====\n",
    "accuracy = df_merged[\"is_correct\"].mean()\n",
    "print(f\"accuracy pipeline: {accuracy:.2%}\")\n",
    "\n",
    "# ==== 8. 导出对比结果（可选）====\n",
    "df_merged.to_excel(\"eval/classification_comparison_pipeline.xlsx\", index=False)\n",
    "print(\"saved to  classification_comparison_result.xlsx\")\n",
    "\n",
    "\n",
    "\n",
    "\n",
    "import sklearn\n",
    "from sklearn.metrics import classification_report, confusion_matrix\n",
    "\n",
    "# === 仅保留非空对比项（防止空值影响）===\n",
    "valid = df_merged[~df_merged[\"report_type_human\"].isna() & ~df_merged[\"report_type_gpt\"].isna()]\n",
    "\n",
    "# === 打印 classification report ===\n",
    "report = classification_report(\n",
    "    valid[\"report_type_human\"], \n",
    "    valid[\"report_type_gpt\"], \n",
    "    digits=3, \n",
    "    output_dict=False  # 改为 True 可返回字典\n",
    ")\n",
    "print(\"📊pipeline detailed \\n\")\n",
    "print(report)\n",
    "\n",
    "# === 可视化混淆矩阵（可选）===\n",
    "import seaborn as sns\n",
    "import matplotlib.pyplot as plt\n",
    "\n",
    "cm = confusion_matrix(valid[\"report_type_human\"], valid[\"report_type_gpt\"], labels=valid[\"report_type_human\"].unique())\n",
    "plt.figure(figsize=(6,5))\n",
    "sns.heatmap(cm, annot=True, fmt='d', cmap='Blues',\n",
    "            xticklabels=valid[\"report_type_human\"].unique(),\n",
    "            yticklabels=valid[\"report_type_human\"].unique())\n",
    "plt.xlabel(\"Predicted\")\n",
    "plt.ylabel(\"True\")\n",
    "plt.title(\"Confusion Matrix\")\n",
    "plt.tight_layout()\n",
    "plt.show()"
   ]
  },
  {
   "cell_type": "code",
   "execution_count": 1,
   "id": "15d19e71",
   "metadata": {},
   "outputs": [
    {
     "name": "stdout",
     "output_type": "stream",
     "text": [
      "accuracy: 91.57%\n",
      "saved to classification_comparison_result.xlsx\n",
      "📊 detailed \n",
      "\n",
      "                       precision    recall  f1-score   support\n",
      "\n",
      "        annual report      0.667     0.909     0.769        11\n",
      "    integrated report      0.929     0.722     0.812        18\n",
      "                other      1.000     0.750     0.857         4\n",
      "sustainability report      0.980     1.000     0.990        50\n",
      "\n",
      "             accuracy                          0.916        83\n",
      "            macro avg      0.894     0.845     0.857        83\n",
      "         weighted avg      0.929     0.916     0.916        83\n",
      "\n"
     ]
    },
    {
     "data": {
      "image/png": "[encoded data removed]",
      "text/plain": [
       "<Figure size 600x500 with 2 Axes>"
      ]
     },
     "metadata": {},
     "output_type": "display_data"
    }
   ],
   "source": [
    "import pandas as pd\n",
    "\n",
    "# ==== 1. 设置文件路径 ====\n",
    "# 修改为你本地的绝对路径或相对路径\n",
    "human_label_path = \"check/pdf_classification.xlsx\"\n",
    "gpt_result_path = \"output/report_type_gpt_results_new2.csv\"\n",
    "\n",
    "# ==== 2. 读取文件 ====\n",
    "df_human = pd.read_excel(human_label_path)\n",
    "df_gpt = pd.read_csv(gpt_result_path)\n",
    "\n",
    "# ==== 3. 标准化列名，确保 filename 和 report_type 存在 ====\n",
    "df_human.columns = [col.strip().lower() for col in df_human.columns]\n",
    "df_gpt.columns = [col.strip().lower() for col in df_gpt.columns]\n",
    "\n",
    "# ==== 4. 合并两个表 ====\n",
    "df_merged = pd.merge(df_human, df_gpt, left_on=\"file_name\",\n",
    "    right_on=\"filename\",\n",
    "    how=\"left\")\n",
    "\n",
    "\n",
    "# ==== 6. 比较两个分类结果 ====\n",
    "df_merged[\"report_type_human\"] = df_merged[\"report_type_human\"].str.strip().str.lower()\n",
    "df_merged[\"report_type_gpt\"] = df_merged[\"report_type\"].str.strip().str.lower()\n",
    "df_merged[\"is_correct\"] = df_merged[\"report_type_human\"] == df_merged[\"report_type_gpt\"]\n",
    "\n",
    "# ==== 7. 计算准确率 ====\n",
    "accuracy = df_merged[\"is_correct\"].mean()\n",
    "print(f\"accuracy: {accuracy:.2%}\")\n",
    "\n",
    "# ==== 8. 导出对比结果（可选）====\n",
    "df_merged.to_excel(\"eval/classification_comparison_single.xlsx\", index=False)\n",
    "print(\"saved to classification_comparison_result.xlsx\")\n",
    "\n",
    "import sklearn\n",
    "from sklearn.metrics import classification_report, confusion_matrix\n",
    "\n",
    "# === 仅保留非空对比项（防止空值影响）===\n",
    "valid = df_merged[~df_merged[\"report_type_human\"].isna() & ~df_merged[\"report_type_gpt\"].isna()]\n",
    "\n",
    "# === 打印 classification report ===\n",
    "report = classification_report(\n",
    "    valid[\"report_type_human\"], \n",
    "    valid[\"report_type_gpt\"], \n",
    "    digits=3, \n",
    "    output_dict=False  # 改为 True 可返回字典\n",
    ")\n",
    "print(\"📊 detailed \\n\")\n",
    "print(report)\n",
    "\n",
    "# === 可视化混淆矩阵（可选）===\n",
    "import seaborn as sns\n",
    "import matplotlib.pyplot as plt\n",
    "\n",
    "cm = confusion_matrix(valid[\"report_type_human\"], valid[\"report_type_gpt\"], labels=valid[\"report_type_human\"].unique())\n",
    "plt.figure(figsize=(6,5))\n",
    "sns.heatmap(cm, annot=True, fmt='d', cmap='Blues',\n",
    "            xticklabels=valid[\"report_type_human\"].unique(),\n",
    "            yticklabels=valid[\"report_type_human\"].unique())\n",
    "plt.xlabel(\"Predicted\")\n",
    "plt.ylabel(\"True\")\n",
    "plt.title(\"Confusion Matrix\")\n",
    "plt.tight_layout()\n",
    "plt.show()"
   ]
  },
  {
   "cell_type": "code",
   "execution_count": null,
   "id": "c617542a",
   "metadata": {},
   "outputs": [],
   "source": []
  }
 ],
 "metadata": {
  "kernelspec": {
   "display_name": "irp_pdf",
   "language": "python",
   "name": "python3"
  },
  "language_info": {
   "codemirror_mode": {
    "name": "ipython",
    "version": 3
   },
   "file_extension": ".py",
   "mimetype": "text/x-python",
   "name": "python",
   "nbconvert_exporter": "python",
   "pygments_lexer": "ipython3",
   "version": "3.12.9"
  }
 },
 "nbformat": 4,
 "nbformat_minor": 5
}
