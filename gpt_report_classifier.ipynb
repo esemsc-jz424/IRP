{
 "cells": [
  {
   "cell_type": "markdown",
   "metadata": {},
   "source": [
    "# 📊 GPT-assisted Report Type Classification\n",
    "This notebook reads PDF reports, extracts front/back pages, and uses OpenAI GPT API to classify the report type and sustainability section presence."
   ]
  },
  {
   "cell_type": "code",
   "execution_count": 1,
   "metadata": {},
   "outputs": [],
   "source": [
    "from openai import OpenAI\n",
    "from pathlib import Path\n",
    "import fitz  # PyMuPDF\n",
    "import pandas as pd\n",
    "from tqdm import tqdm\n",
    "import json\n",
    "import os\n",
    "from dotenv import load_dotenv\n",
    "\n",
    "# Load OpenAI API key from .env file\n",
    "load_dotenv()\n",
    "client = OpenAI(api_key=os.getenv(\"OPENAI_API_KEY\"))\n",
    "\n",
    "# Paths\n",
    "PDF_DIR = Path(\"pdf_folder\")  # Ensure this path contains your PDFs\n",
    "OUTPUT_PATH = Path(\"output/report_type_gpt_results.csv\")"
   ]
  },
  {
   "cell_type": "code",
   "execution_count": 2,
   "id": "587e7079",
   "metadata": {},
   "outputs": [],
   "source": [
    "# 重新加载必要模块和OCR补救函数（环境已重置）\n",
    "from pdf2image import convert_from_path\n",
    "import pytesseract\n",
    "from PIL import Image\n",
    "import tempfile\n",
    "import os\n",
    "\n",
    "# OCR 补救函数：用于从首页和末页图像提取文本\n",
    "def extract_text_with_ocr(pdf_path, front_n=5, back_n=5, dpi=300):\n",
    "    try:\n",
    "        with tempfile.TemporaryDirectory() as path:\n",
    "            # 将 PDF 页转换为图像\n",
    "            images = convert_from_path(pdf_path, dpi=dpi, output_folder=path)\n",
    "            total_pages = len(images)\n",
    "            selected_pages = []\n",
    "\n",
    "            for i in range(min(front_n, total_pages)):\n",
    "                selected_pages.append(images[i])\n",
    "\n",
    "            for i in range(max(0, total_pages - back_n), total_pages):\n",
    "                selected_pages.append(images[i])\n",
    "\n",
    "            # 用 OCR 提取文本\n",
    "            text_parts = [pytesseract.image_to_string(img) for img in selected_pages]\n",
    "            return \"\\n\".join(text_parts)\n",
    "    except Exception as e:\n",
    "        return f\"OCR ERROR: {e}\"\n"
   ]
  },
  {
   "cell_type": "code",
   "execution_count": null,
   "id": "cc360788",
   "metadata": {},
   "outputs": [],
   "source": []
  },
  {
   "cell_type": "code",
   "execution_count": 3,
   "metadata": {},
   "outputs": [],
   "source": [
    "# Extract front/back page text from a PDF\n",
    "# def extract_front_back_text(pdf_path, front_n=5, back_n=5):\n",
    "#     try:\n",
    "#         doc = fitz.open(pdf_path)\n",
    "#         texts = []\n",
    "#         for i in range(min(front_n, len(doc))):\n",
    "#             texts.append(doc[i].get_text())\n",
    "#         for i in range(max(0, len(doc) - back_n), len(doc)):\n",
    "#             texts.append(doc[i].get_text())\n",
    "#         doc.close()\n",
    "#         return \"\\n\".join(texts)\n",
    "#     except Exception as e:\n",
    "#         return f\"ERROR: {e}\"\n",
    "def extract_front_back_text(pdf_path, front_n=5, back_n=5):\n",
    "    try:\n",
    "        doc = fitz.open(pdf_path)\n",
    "        texts = []\n",
    "        for i in range(min(front_n, len(doc))):\n",
    "            texts.append(doc[i].get_text())\n",
    "        for i in range(max(0, len(doc) - back_n), len(doc)):\n",
    "            texts.append(doc[i].get_text())\n",
    "        doc.close()\n",
    "        full_text = \"\\n\".join(texts)\n",
    "        if len(full_text.strip()) < 50:\n",
    "            raise ValueError(\"Empty or invalid text, fallback to OCR.\")\n",
    "        return full_text\n",
    "    except Exception as e:\n",
    "        print(f\"⚠️ PyMuPDF failed on {pdf_path.name}, switching to OCR...\")\n",
    "        return extract_text_with_ocr(pdf_path)"
   ]
  },
  {
   "cell_type": "code",
   "execution_count": 4,
   "metadata": {},
   "outputs": [],
   "source": [
    "# Use GPT to classify report type and sustainability section\n",
    "def classify_report_type(text):\n",
    "    system_prompt = \"You are a helpful assistant.\"\n",
    "    user_prompt = f\"\"\"\n",
    "Given the following content extracted from a corporate report (first and last pages), classify the report into one of the following types:\n",
    "- \"annual report\" (financial content only)\n",
    "- \"sustainability report\" (focused on ESG or sustainability)\n",
    "- \"integrated report\" (combination of financial and sustainability)\n",
    "- \"other\"\n",
    "\n",
    "Also determine whether the report includes a substantial sustainability section (e.g. with a dedicated chapter or multiple references to sustainability, SDGs, GRI, etc.).\n",
    "\n",
    "Return a JSON object with the following structure:\n",
    "\n",
    "{{\n",
    "  \"report_type\": \"...\",\n",
    "  \"has_sustainability_section\": true/false\n",
    "}}\n",
    "\n",
    "Content:\n",
    "{text[:8000]}\n",
    "\"\"\"\n",
    "    try:\n",
    "        response = client.chat.completions.create(\n",
    "            model=\"gpt-3.5-turbo\",\n",
    "            messages=[\n",
    "                {\"role\": \"system\", \"content\": system_prompt},\n",
    "                {\"role\": \"user\", \"content\": user_prompt}\n",
    "            ],\n",
    "            temperature=0\n",
    "        )\n",
    "        reply = response.choices[0].message.content\n",
    "        parsed = json.loads(reply)\n",
    "        return parsed.get(\"report_type\", \"\"), parsed.get(\"has_sustainability_section\", \"\")\n",
    "    except Exception as e:\n",
    "        return f\"ERROR: {e}\", \"\""
   ]
  },
  {
   "cell_type": "code",
   "execution_count": 5,
   "metadata": {},
   "outputs": [
    {
     "name": "stderr",
     "output_type": "stream",
     "text": [
      " 20%|█▉        | 251/1277 [03:12<10:49,  1.58it/s]"
     ]
    },
    {
     "name": "stdout",
     "output_type": "stream",
     "text": [
      "⚠️ PyMuPDF failed on Unknown_adbi-managing-transition-low-carbon-economy_087is5zy.pdf, switching to OCR...\n"
     ]
    },
    {
     "name": "stderr",
     "output_type": "stream",
     "text": [
      " 20%|██        | 256/1277 [03:16<13:59,  1.22it/s]"
     ]
    },
    {
     "name": "stdout",
     "output_type": "stream",
     "text": [
      "MuPDF error: format error: cmsOpenProfileFromMem failed\n",
      "\n",
      "MuPDF error: format error: cmsOpenProfileFromMem failed\n",
      "\n",
      "MuPDF error: format error: cmsOpenProfileFromMem failed\n",
      "\n",
      "MuPDF error: format error: cmsOpenProfileFromMem failed\n",
      "\n"
     ]
    },
    {
     "name": "stderr",
     "output_type": "stream",
     "text": [
      " 20%|██        | 257/1277 [03:17<12:49,  1.33it/s]"
     ]
    },
    {
     "name": "stdout",
     "output_type": "stream",
     "text": [
      "⚠️ PyMuPDF failed on Unknown_2014SustainRpt_FNL_lr_7mrwsfm7.pdf, switching to OCR...\n"
     ]
    },
    {
     "name": "stderr",
     "output_type": "stream",
     "text": [
      " 28%|██▊       | 360/1277 [04:41<13:43,  1.11it/s]"
     ]
    },
    {
     "name": "stdout",
     "output_type": "stream",
     "text": [
      "⚠️ PyMuPDF failed on Hansae_Yes24_Holdings_Co_Ltd_HANSAE20YES2420HOLDINGS20ESG20REPORT202022_th5kzsfk.pdf, switching to OCR...\n"
     ]
    },
    {
     "name": "stderr",
     "output_type": "stream",
     "text": [
      " 34%|███▎      | 430/1277 [05:35<13:34,  1.04it/s]"
     ]
    },
    {
     "name": "stdout",
     "output_type": "stream",
     "text": [
      "⚠️ PyMuPDF failed on Home_Inns__Hotels_Management_Inc_Barclays_Bank_PLC_Annual_Report_202014_5lj1epic.pdf, switching to OCR...\n"
     ]
    },
    {
     "name": "stderr",
     "output_type": "stream",
     "text": [
      " 39%|███▉      | 498/1277 [06:25<08:51,  1.46it/s]"
     ]
    },
    {
     "name": "stdout",
     "output_type": "stream",
     "text": [
      "⚠️ PyMuPDF failed on Unknown_adp07-sus-fr_95qx6prh.pdf, switching to OCR...\n"
     ]
    },
    {
     "name": "stderr",
     "output_type": "stream",
     "text": [
      " 53%|█████▎    | 672/1277 [08:41<08:23,  1.20it/s]"
     ]
    },
    {
     "name": "stdout",
     "output_type": "stream",
     "text": [
      "⚠️ PyMuPDF failed on Armstrong_Flooring_Inc_SustainabilityReport-2020_kot54emv.pdf, switching to OCR...\n"
     ]
    },
    {
     "name": "stderr",
     "output_type": "stream",
     "text": [
      " 57%|█████▋    | 724/1277 [09:21<05:30,  1.67it/s]"
     ]
    },
    {
     "name": "stdout",
     "output_type": "stream",
     "text": [
      "MuPDF error: format error: object is not a stream\n",
      "\n",
      "MuPDF error: format error: object is not a stream\n",
      "\n",
      "MuPDF error: format error: object is not a stream\n",
      "\n",
      "MuPDF error: format error: object is not a stream\n",
      "\n",
      "MuPDF error: format error: object is not a stream\n",
      "\n",
      "MuPDF error: format error: object is not a stream\n",
      "\n",
      "MuPDF error: format error: object is not a stream\n",
      "\n",
      "MuPDF error: format error: object is not a stream\n",
      "\n",
      "MuPDF error: format error: object is not a stream\n",
      "\n",
      "MuPDF error: format error: object is not a stream\n",
      "\n",
      "MuPDF error: format error: object is not a stream\n",
      "\n",
      "MuPDF error: format error: object is not a stream\n",
      "\n",
      "MuPDF error: format error: object is not a stream\n",
      "\n",
      "MuPDF error: format error: object is not a stream\n",
      "\n",
      "MuPDF error: format error: object is not a stream\n",
      "\n",
      "MuPDF error: format error: object is not a stream\n",
      "\n",
      "MuPDF error: format error: object is not a stream\n",
      "\n",
      "MuPDF error: format error: object is not a stream\n",
      "\n",
      "MuPDF error: format error: object is not a stream\n",
      "\n",
      "MuPDF error: format error: object is not a stream\n",
      "\n",
      "MuPDF error: format error: object is not a stream\n",
      "\n",
      "MuPDF error: format error: object is not a stream\n",
      "\n"
     ]
    },
    {
     "name": "stderr",
     "output_type": "stream",
     "text": [
      " 60%|██████    | 771/1277 [10:00<05:44,  1.47it/s]"
     ]
    },
    {
     "name": "stdout",
     "output_type": "stream",
     "text": [
      "⚠️ PyMuPDF failed on Tam_Jai_International_Co_Ltd_2022083101184_go5rbp4a.pdf, switching to OCR...\n"
     ]
    },
    {
     "name": "stderr",
     "output_type": "stream",
     "text": [
      " 70%|███████   | 896/1277 [11:33<06:29,  1.02s/it]"
     ]
    },
    {
     "name": "stdout",
     "output_type": "stream",
     "text": [
      "⚠️ PyMuPDF failed on Hyosung_Corp_SR_2020_en_8g98j6gk.pdf, switching to OCR...\n"
     ]
    },
    {
     "name": "stderr",
     "output_type": "stream",
     "text": [
      " 76%|███████▋  | 974/1277 [12:27<04:34,  1.11it/s]"
     ]
    },
    {
     "name": "stdout",
     "output_type": "stream",
     "text": [
      "⚠️ PyMuPDF failed on Boryung_Corporation_EBB3B4EBA0B920ECA780EC868DEAB080EB8AA5EAB2BDEC9881EBB3B4EAB3A0EC849CEC9881EBACB8_ebpit5lz.pdf, switching to OCR...\n"
     ]
    },
    {
     "name": "stderr",
     "output_type": "stream",
     "text": [
      " 77%|███████▋  | 987/1277 [12:36<03:52,  1.25it/s]"
     ]
    },
    {
     "name": "stdout",
     "output_type": "stream",
     "text": [
      "⚠️ PyMuPDF failed on Arvind_Ltd_Arvind_AR_2022-23_0_iwp4673c.pdf, switching to OCR...\n"
     ]
    },
    {
     "name": "stderr",
     "output_type": "stream",
     "text": [
      " 87%|████████▋ | 1106/1277 [14:09<02:08,  1.33it/s]"
     ]
    },
    {
     "name": "stdout",
     "output_type": "stream",
     "text": [
      "⚠️ PyMuPDF failed on EKI_Energy_Services_Limited_69298543284_zj7y1tjh.pdf, switching to OCR...\n"
     ]
    },
    {
     "name": "stderr",
     "output_type": "stream",
     "text": [
      " 88%|████████▊ | 1122/1277 [14:21<02:05,  1.24it/s]"
     ]
    },
    {
     "name": "stdout",
     "output_type": "stream",
     "text": [
      "⚠️ PyMuPDF failed on Unknown_23076_Whitbread_AR2020_web_0v2mxh4f.pdf, switching to OCR...\n"
     ]
    },
    {
     "name": "stderr",
     "output_type": "stream",
     "text": [
      " 90%|████████▉ | 1149/1277 [14:40<01:24,  1.52it/s]"
     ]
    },
    {
     "name": "stdout",
     "output_type": "stream",
     "text": [
      "MuPDF error: format error: cmsOpenProfileFromMem failed\n",
      "\n",
      "MuPDF error: format error: cmsOpenProfileFromMem failed\n",
      "\n",
      "MuPDF error: format error: cmsOpenProfileFromMem failed\n",
      "\n"
     ]
    },
    {
     "name": "stderr",
     "output_type": "stream",
     "text": [
      " 91%|█████████▏| 1168/1277 [14:53<01:14,  1.45it/s]"
     ]
    },
    {
     "name": "stdout",
     "output_type": "stream",
     "text": [
      "MuPDF error: format error: No default Layer config\n",
      "\n"
     ]
    },
    {
     "name": "stderr",
     "output_type": "stream",
     "text": [
      " 95%|█████████▍| 1209/1277 [15:25<00:46,  1.48it/s]"
     ]
    },
    {
     "name": "stdout",
     "output_type": "stream",
     "text": [
      "⚠️ PyMuPDF failed on Unknown_2023042101335_kyzhtmjn.pdf, switching to OCR...\n"
     ]
    },
    {
     "name": "stderr",
     "output_type": "stream",
     "text": [
      " 97%|█████████▋| 1239/1277 [15:48<00:29,  1.28it/s]"
     ]
    },
    {
     "name": "stdout",
     "output_type": "stream",
     "text": [
      "⚠️ PyMuPDF failed on Titan_Company_Ltd_Annual20Report202013_p4r8w07u.pdf, switching to OCR...\n"
     ]
    },
    {
     "name": "stderr",
     "output_type": "stream",
     "text": [
      " 99%|█████████▉| 1269/1277 [16:11<00:05,  1.50it/s]"
     ]
    },
    {
     "name": "stdout",
     "output_type": "stream",
     "text": [
      "⚠️ PyMuPDF failed on BASF_SE_2012_BASF_Report_lmq79gwn.pdf, switching to OCR...\n"
     ]
    },
    {
     "name": "stderr",
     "output_type": "stream",
     "text": [
      "100%|██████████| 1277/1277 [16:17<00:00,  1.31it/s]\n"
     ]
    }
   ],
   "source": [
    "# Loop through PDFs and classify\n",
    "pdf_results = []\n",
    "for pdf_file in tqdm(os.listdir(PDF_DIR)):\n",
    "    if not pdf_file.endswith(\".pdf\"):\n",
    "        continue\n",
    "    pdf_path = PDF_DIR / pdf_file\n",
    "    text = extract_front_back_text(pdf_path)\n",
    "    if text.startswith(\"ERROR\"):\n",
    "        pdf_results.append({\"filename\": pdf_file, \"report_type\": \"ERROR\", \"has_sustainability_section\": \"\"})\n",
    "        continue\n",
    "    report_type, sustainability = classify_report_type(text)\n",
    "    pdf_results.append({\n",
    "        \"filename\": pdf_file,\n",
    "        \"report_type\": report_type,\n",
    "        \"has_sustainability_section\": sustainability\n",
    "    })"
   ]
  },
  {
   "cell_type": "code",
   "execution_count": 7,
   "metadata": {},
   "outputs": [
    {
     "data": {
      "text/html": [
       "<div>\n",
       "<style scoped>\n",
       "    .dataframe tbody tr th:only-of-type {\n",
       "        vertical-align: middle;\n",
       "    }\n",
       "\n",
       "    .dataframe tbody tr th {\n",
       "        vertical-align: top;\n",
       "    }\n",
       "\n",
       "    .dataframe thead th {\n",
       "        text-align: right;\n",
       "    }\n",
       "</style>\n",
       "<table border=\"1\" class=\"dataframe\">\n",
       "  <thead>\n",
       "    <tr style=\"text-align: right;\">\n",
       "      <th></th>\n",
       "      <th>filename</th>\n",
       "      <th>report_type</th>\n",
       "      <th>has_sustainability_section</th>\n",
       "    </tr>\n",
       "  </thead>\n",
       "  <tbody>\n",
       "    <tr>\n",
       "      <th>0</th>\n",
       "      <td>Unknown_8f57f855-11bb-496d-9916-91ff88cb537b_s...</td>\n",
       "      <td>annual report</td>\n",
       "      <td>False</td>\n",
       "    </tr>\n",
       "    <tr>\n",
       "      <th>1</th>\n",
       "      <td>Toyota_Industries_Corp_environment2004_40h96hj...</td>\n",
       "      <td>sustainability report</td>\n",
       "      <td>True</td>\n",
       "    </tr>\n",
       "    <tr>\n",
       "      <th>2</th>\n",
       "      <td>Knoll_Inc_Knoll_Enviro_2008_gqetdkb7.pdf</td>\n",
       "      <td>sustainability report</td>\n",
       "      <td>True</td>\n",
       "    </tr>\n",
       "    <tr>\n",
       "      <th>3</th>\n",
       "      <td>Intel_Corp__fwws0wtm.pdf</td>\n",
       "      <td>integrated report</td>\n",
       "      <td>True</td>\n",
       "    </tr>\n",
       "    <tr>\n",
       "      <th>4</th>\n",
       "      <td>Unknown_2020_SEBANG20SUSTAINABILITY20REPORT_EN...</td>\n",
       "      <td>integrated report</td>\n",
       "      <td>True</td>\n",
       "    </tr>\n",
       "  </tbody>\n",
       "</table>\n",
       "</div>"
      ],
      "text/plain": [
       "                                            filename            report_type  \\\n",
       "0  Unknown_8f57f855-11bb-496d-9916-91ff88cb537b_s...          annual report   \n",
       "1  Toyota_Industries_Corp_environment2004_40h96hj...  sustainability report   \n",
       "2           Knoll_Inc_Knoll_Enviro_2008_gqetdkb7.pdf  sustainability report   \n",
       "3                           Intel_Corp__fwws0wtm.pdf      integrated report   \n",
       "4  Unknown_2020_SEBANG20SUSTAINABILITY20REPORT_EN...      integrated report   \n",
       "\n",
       "  has_sustainability_section  \n",
       "0                      False  \n",
       "1                       True  \n",
       "2                       True  \n",
       "3                       True  \n",
       "4                       True  "
      ]
     },
     "execution_count": 7,
     "metadata": {},
     "output_type": "execute_result"
    }
   ],
   "source": [
    "# Save results\n",
    "result_df = pd.DataFrame(pdf_results)\n",
    "OUTPUT_PATH = Path(\"output/report_type_gpt_results1.csv\")\n",
    "result_df.to_csv(OUTPUT_PATH, index=False)\n",
    "result_df.head()"
   ]
  },
  {
   "cell_type": "code",
   "execution_count": 8,
   "id": "8f5e909b",
   "metadata": {},
   "outputs": [
    {
     "name": "stderr",
     "output_type": "stream",
     "text": [
      "OCR Processing:   0%|          | 0/11 [00:00<?, ?it/s]/var/folders/9z/mm8bj8yn2yj6rk7vdlhpt07h0000gn/T/ipykernel_26451/2052024968.py:47: UserWarning: ⚠️ OCR failed for Lincoln_Electric_Holdings_Inc_le-air-treatment-catalogue-eng_8cadb8rq.pdf: Unable to get page count. Is poppler installed and in PATH?\n",
      "  warnings.warn(f\"⚠️ OCR failed for {fname}: {e}\")\n",
      "/var/folders/9z/mm8bj8yn2yj6rk7vdlhpt07h0000gn/T/ipykernel_26451/2052024968.py:47: UserWarning: ⚠️ OCR failed for SATS_Ltd_sats-sustainability-report_88g98j6g.pdf: Unable to get page count. Is poppler installed and in PATH?\n",
      "  warnings.warn(f\"⚠️ OCR failed for {fname}: {e}\")\n",
      "/var/folders/9z/mm8bj8yn2yj6rk7vdlhpt07h0000gn/T/ipykernel_26451/2052024968.py:47: UserWarning: ⚠️ OCR failed for Indusind_BankIndia_Business-Responsibility-and-Sustainability-Report-BRSR-FY2021-22_xw1dg5fb.pdf: Unable to get page count. Is poppler installed and in PATH?\n",
      "  warnings.warn(f\"⚠️ OCR failed for {fname}: {e}\")\n",
      "/var/folders/9z/mm8bj8yn2yj6rk7vdlhpt07h0000gn/T/ipykernel_26451/2052024968.py:47: UserWarning: ⚠️ OCR failed for Simona_AG_SIMONA_2021_GB21_englisch_54emvime.pdf: Unable to get page count. Is poppler installed and in PATH?\n",
      "  warnings.warn(f\"⚠️ OCR failed for {fname}: {e}\")\n",
      "/var/folders/9z/mm8bj8yn2yj6rk7vdlhpt07h0000gn/T/ipykernel_26451/2052024968.py:47: UserWarning: ⚠️ OCR failed for Unknown_2020-2021-corporate-responsibility-report_91a20q9k.pdf: Unable to get page count. Is poppler installed and in PATH?\n",
      "  warnings.warn(f\"⚠️ OCR failed for {fname}: {e}\")\n",
      "/var/folders/9z/mm8bj8yn2yj6rk7vdlhpt07h0000gn/T/ipykernel_26451/2052024968.py:47: UserWarning: ⚠️ OCR failed for Grasim_Industries_Ltd_Business20Responsibility20and20Sustainability20Report_3yg2omk9.pdf: Unable to get page count. Is poppler installed and in PATH?\n",
      "  warnings.warn(f\"⚠️ OCR failed for {fname}: {e}\")\n",
      "/var/folders/9z/mm8bj8yn2yj6rk7vdlhpt07h0000gn/T/ipykernel_26451/2052024968.py:47: UserWarning: ⚠️ OCR failed for Nichols_PLC_2020-Nichols-plc-AR_wulbuhbx.pdf: Unable to get page count. Is poppler installed and in PATH?\n",
      "  warnings.warn(f\"⚠️ OCR failed for {fname}: {e}\")\n",
      "/var/folders/9z/mm8bj8yn2yj6rk7vdlhpt07h0000gn/T/ipykernel_26451/2052024968.py:47: UserWarning: ⚠️ OCR failed for Unknown_2021_Target_Corporate-Responsibility-Report_z0za8brg.pdf: Unable to get page count. Is poppler installed and in PATH?\n",
      "  warnings.warn(f\"⚠️ OCR failed for {fname}: {e}\")\n",
      "/var/folders/9z/mm8bj8yn2yj6rk7vdlhpt07h0000gn/T/ipykernel_26451/2052024968.py:47: UserWarning: ⚠️ OCR failed for Bollore_SE_publication_344_en_5159im40.pdf: Unable to get page count. Is poppler installed and in PATH?\n",
      "  warnings.warn(f\"⚠️ OCR failed for {fname}: {e}\")\n",
      "/var/folders/9z/mm8bj8yn2yj6rk7vdlhpt07h0000gn/T/ipykernel_26451/2052024968.py:47: UserWarning: ⚠️ OCR failed for Sitowise_Group_Oyj_sitowise-annual-report-sustainability-report-2021pdf_x563vwz2.pdf: Unable to get page count. Is poppler installed and in PATH?\n",
      "  warnings.warn(f\"⚠️ OCR failed for {fname}: {e}\")\n",
      "/var/folders/9z/mm8bj8yn2yj6rk7vdlhpt07h0000gn/T/ipykernel_26451/2052024968.py:47: UserWarning: ⚠️ OCR failed for Unknown_2023042704942_wzv2kg92.pdf: Unable to get page count. Is poppler installed and in PATH?\n",
      "  warnings.warn(f\"⚠️ OCR failed for {fname}: {e}\")\n",
      "OCR Processing: 100%|██████████| 11/11 [00:00<00:00, 424.78it/s]\n"
     ]
    }
   ],
   "source": [
    "from pdf2image import convert_from_path\n",
    "import pytesseract\n",
    "import os\n",
    "from tqdm import tqdm\n",
    "import warnings\n",
    "\n",
    "# 用户目录设置\n",
    "pdf_dir = \"/Users/zhangjingyu/Desktop/课件/IRP/starting/pdf_folder\"\n",
    "output_dir = os.path.join(pdf_dir, \"ocr_outputs\")\n",
    "os.makedirs(output_dir, exist_ok=True)\n",
    "\n",
    "# Tesseract 配置（可选：限制语言为英文）\n",
    "ocr_config = \"--psm 1 -l eng\"\n",
    "\n",
    "# 处理失败的 PDF 列表（你提供的）\n",
    "failed_files = [\n",
    "    \"Lincoln_Electric_Holdings_Inc_le-air-treatment-catalogue-eng_8cadb8rq.pdf\",\n",
    "    \"SATS_Ltd_sats-sustainability-report_88g98j6g.pdf\",\n",
    "    \"Indusind_BankIndia_Business-Responsibility-and-Sustainability-Report-BRSR-FY2021-22_xw1dg5fb.pdf\",\n",
    "    \"Simona_AG_SIMONA_2021_GB21_englisch_54emvime.pdf\",\n",
    "    \"Unknown_2020-2021-corporate-responsibility-report_91a20q9k.pdf\",\n",
    "    \"Grasim_Industries_Ltd_Business20Responsibility20and20Sustainability20Report_3yg2omk9.pdf\",\n",
    "    \"Nichols_PLC_2020-Nichols-plc-AR_wulbuhbx.pdf\",\n",
    "    \"Unknown_2021_Target_Corporate-Responsibility-Report_z0za8brg.pdf\",\n",
    "    \"Bollore_SE_publication_344_en_5159im40.pdf\",\n",
    "    \"Sitowise_Group_Oyj_sitowise-annual-report-sustainability-report-2021pdf_x563vwz2.pdf\",\n",
    "    \"Unknown_2023042704942_wzv2kg92.pdf\"\n",
    "]\n",
    "\n",
    "# OCR 主程序\n",
    "for fname in tqdm(failed_files, desc=\"OCR Processing\"):\n",
    "    pdf_path = os.path.join(pdf_dir, fname)\n",
    "    output_path = os.path.join(output_dir, fname.replace(\".pdf\", \".txt\"))\n",
    "\n",
    "    try:\n",
    "        images = convert_from_path(pdf_path, dpi=300)\n",
    "        text_all = []\n",
    "\n",
    "        for img in images[:10]:  # 控制页数，可改为 [:5]+[-5:] 仅读前后页\n",
    "            text = pytesseract.image_to_string(img, config=ocr_config)\n",
    "            text_all.append(text)\n",
    "\n",
    "        with open(output_path, \"w\", encoding=\"utf-8\") as f:\n",
    "            f.write(\"\\n\".join(text_all))\n",
    "\n",
    "    except Exception as e:\n",
    "        warnings.warn(f\"⚠️ OCR failed for {fname}: {e}\")"
   ]
  },
  {
   "cell_type": "code",
   "execution_count": 10,
   "id": "433c59a1",
   "metadata": {},
   "outputs": [
    {
     "name": "stdout",
     "output_type": "stream",
     "text": [
      "\n",
      "--- PAGE TEXT ---\n",
      " Bolloré\n",
      "\n",
      "Tour Bolloré\n",
      "\n",
      "31-32, quai de Dion-Bouton\n",
      "92811 Puteaux Cedex — France\n",
      "Tel.: + 33 (0)1 46 96 44 33\n",
      "\n",
      "Fax: + 33 (0)1 46 96 44 22\n",
      "\n",
      "www.bollore.com\n",
      "\n",
      "Bollore\\\n",
      "\n",
      "00\n",
      "fe}\n",
      "oO\n",
      "ia\n",
      "KE\n",
      "or\n",
      "O\n",
      "at\n",
      "Ww\n",
      "or\n",
      "a\n",
      "<\n",
      "=)\n",
      "Z\n",
      "Z\n",
      "<\n",
      "\n",
      "BOLLORE\n",
      "\n",
      "Annual report\n",
      "Bollore\n",
      "\n",
      "2008\n",
      "\n",
      "Bollore\\\n",
      "\n"
     ]
    }
   ],
   "source": [
    "from pdf2image import convert_from_path\n",
    "import pytesseract\n",
    "\n",
    "path = \"/Users/zhangjingyu/Desktop/课件/IRP/starting/pdf_folder/Bollore_SE_publication_344_en_5159im40.pdf\"\n",
    "images = convert_from_path(path, dpi=300)\n",
    "texts = [pytesseract.image_to_string(img) for img in images[:3]]  # 仅测前3页\n",
    "print(\"\\n--- PAGE TEXT ---\\n\", texts[0][:1000])  # 打印前1000字符"
   ]
  },
  {
   "cell_type": "code",
   "execution_count": null,
   "id": "892720ab",
   "metadata": {},
   "outputs": [],
   "source": []
  }
 ],
 "metadata": {
  "kernelspec": {
   "display_name": "irp_pdf",
   "language": "python",
   "name": "python3"
  },
  "language_info": {
   "codemirror_mode": {
    "name": "ipython",
    "version": 3
   },
   "file_extension": ".py",
   "mimetype": "text/x-python",
   "name": "python",
   "nbconvert_exporter": "python",
   "pygments_lexer": "ipython3",
   "version": "3.12.9"
  }
 },
 "nbformat": 4,
 "nbformat_minor": 5
}
