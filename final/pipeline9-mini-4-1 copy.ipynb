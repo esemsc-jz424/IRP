{
 "cells": [
  {
   "cell_type": "code",
   "execution_count": 1,
   "id": "50b7eeb4",
   "metadata": {},
   "outputs": [],
   "source": [
    "from openai import OpenAI\n",
    "from pathlib import Path\n",
    "import fitz  # PyMuPDF\n",
    "import pandas as pd\n",
    "from tqdm import tqdm\n",
    "import json\n",
    "from dotenv import load_dotenv\n",
    "\n",
    "from pdf2image import convert_from_path\n",
    "import pytesseract\n",
    "from PIL import Image\n",
    "import tempfile\n",
    "import os\n",
    "\n",
    "import base64\n",
    "import shutil\n",
    "\n",
    "from joblib import Parallel, delayed\n",
    "from concurrent.futures import ThreadPoolExecutor\n",
    "\n"
   ]
  },
  {
   "cell_type": "code",
   "execution_count": 2,
   "id": "6d1257e9",
   "metadata": {},
   "outputs": [],
   "source": [
    "# =========================\n",
    "# Init\n",
    "# =========================\n",
    "load_dotenv()\n",
    "client = OpenAI(api_key=os.getenv(\"OPENAI_API_KEY\"))\n",
    "\n",
    "PDF_DIR = Path(\"pdf_folder\")  # Ensure this path contains your PDFs\n",
    "\n",
    "# ==== TOKENS: helper\n",
    "def _tokens_of(response):\n",
    "    \"\"\"Safely get tokens from OpenAI response. Returns (prompt, completion, total).\"\"\"\n",
    "    try:\n",
    "        u = response.usage\n",
    "        pt = getattr(u, \"prompt_tokens\", 0) or 0\n",
    "        ct = getattr(u, \"completion_tokens\", 0) or 0\n",
    "        return pt, ct, pt + ct\n",
    "    except Exception:\n",
    "        return 0, 0, 0\n",
    "    \n",
    "    "
   ]
  },
  {
   "cell_type": "code",
   "execution_count": 3,
   "id": "8680a839",
   "metadata": {},
   "outputs": [],
   "source": [
    "\n",
    "# OCR Recovery Function: Used to extract text from the first and last page images\n",
    "\n",
    "def extract_text_with_ocr(pdf_path, front_n=8, back_n=8, dpi=200):\n",
    "    from pdf2image.exceptions import PDFPageCountError\n",
    "    try:\n",
    "        with tempfile.TemporaryDirectory() as path:\n",
    "            try:\n",
    "                images = convert_from_path(str(pdf_path), dpi=dpi, output_folder=path)\n",
    "            except PDFPageCountError as e:\n",
    "                return f\"OCR ERROR: PDF structure invalid – {str(e)}\"\n",
    "            except Exception as e:\n",
    "                return f\"OCR ERROR: {str(e)}\"\n",
    "\n",
    "            total_pages = len(images)\n",
    "            if total_pages == 0:\n",
    "                return \"OCR ERROR: No images extracted\"\n",
    "\n",
    "            selected = images[:front_n] + images[-back_n:]\n",
    "            texts = []\n",
    "            for img in selected:\n",
    "                img = img.convert(\"L\")  # Gray Scale Enhancement\n",
    "                text = pytesseract.image_to_string(img, lang=\"eng\")\n",
    "                texts.append(text)\n",
    "            return \"\\n\".join(texts)\n",
    "    except Exception as e:\n",
    "        return f\"OCR ERROR (outer): {str(e)}\"\n",
    "    \n"
   ]
  },
  {
   "cell_type": "code",
   "execution_count": 4,
   "id": "d4b45ce2",
   "metadata": {},
   "outputs": [],
   "source": [
    "\n",
    "def extract_front_back_text(pdf_path, front_n=10, back_n=10, dpi=300):\n",
    "    try:\n",
    "        doc = fitz.open(str(pdf_path))\n",
    "        texts = []\n",
    "        for i in range(min(front_n, len(doc))):\n",
    "            texts.append(doc[i].get_text())\n",
    "        for i in range(max(0, len(doc) - back_n), len(doc)):\n",
    "            texts.append(doc[i].get_text())\n",
    "        doc.close()\n",
    "        full_text = \"\\n\".join(texts)\n",
    "        if len(full_text.strip()) < 100:\n",
    "            raise ValueError(\"Too short, fallback to OCR.\")\n",
    "        return full_text\n",
    "    except Exception as e:\n",
    "        print(f\"⚠️ Fallback to OCR on: {pdf_path.name} due to {str(e)}\")\n",
    "        return extract_text_with_ocr(pdf_path, front_n, back_n, dpi)\n",
    "\n"
   ]
  },
  {
   "cell_type": "code",
   "execution_count": 5,
   "id": "f59b050f",
   "metadata": {},
   "outputs": [],
   "source": [
    "\n",
    "\n",
    "# =========================\n",
    "# Task 1: classify (gpt-4.1)\n",
    "# =========================\n",
    "\n",
    "def classify_report_type(text):\n",
    "    system_prompt = \"You are an expert in classification.\"\n",
    "    user_prompt =f\"\"\"\n",
    "The following text is extracted from a corporate report (first and last few pages).\n",
    "\n",
    "Your tasks:\n",
    "\n",
    "1. Classify the report into one of the following types:\n",
    "- \"sustainability report\": The document primarily focuses on ESG, sustainability, CSR, or GRI/SDGs-related topics. It does NOT contain full audited financial statements.\n",
    "- \"annual report\": The document primarily contains audited financial disclosures, such as income statements, cash flow statements, balance sheets, and auditor's reports. ESG content, if any, is limited or supplementary.\n",
    "- \"integrated report\": The document includes BOTH complete financial disclosures and structured sustainability content within the same document.\n",
    "- \"other\": The document does not meet the criteria for any of the above (e.g., regulatory compliance reports, environmental approvals, investor brochures, etc.)\n",
    "\n",
    "2. Important judgment rules:\n",
    "- Do NOT classify a \"Corporate Social Responsibility Report\", \"Corporate Responsibility Report\", or \"CSR Report\" as \"integrated report\" unless it also includes full audited financials.\n",
    "- If the title contains \"Annual Report\" but the content lacks actual financial statements, do NOT classify it as \"annual\" or \"integrated\".\n",
    "- References or summaries of financials are NOT sufficient — only classify based on complete financial statement inclusion.\n",
    "\n",
    "3. If the document contains a distinct sustainability section (e.g. a chapter on ESG/CSR/GRI/SDGs content that constitutes more than 50% of a section), mark `has_sustainability_section = true`, and extract the section name if available.\n",
    "\n",
    "Return a JSON object with the following fields:\n",
    "{{\n",
    "  \"reasoning\": \"...\",\n",
    "  \"report_type\": \"...\",\n",
    "  \"has_sustainability_section\": true/false,\n",
    "  \"sustainability_section_name\": \"...\"\n",
    "}}\n",
    "\n",
    "Content:\n",
    "{text}\n",
    "\"\"\"\n",
    "    \n",
    "    try:\n",
    "        response = client.chat.completions.create(\n",
    "            model=\"gpt-4.1-mini\",\n",
    "            messages=[\n",
    "                {\"role\": \"system\", \"content\": system_prompt},\n",
    "                {\"role\": \"user\", \"content\": user_prompt}\n",
    "            ],\n",
    "            temperature=0\n",
    "        )\n",
    "        reply = response.choices[0].message.content\n",
    "        parsed = json.loads(reply)\n",
    "\n",
    "        # ==== TOKENS\n",
    "        _, _, total_tokens = _tokens_of(response)\n",
    "\n",
    "        return (\n",
    "            parsed.get(\"report_type\", \"\"),\n",
    "            parsed.get(\"has_sustainability_section\", \"\"),\n",
    "            parsed.get(\"sustainability_section_name\", \"\"),\n",
    "            parsed.get(\"reasoning\", \"\"),\n",
    "            {\"gpt-4.1-mini\": total_tokens}  # tokens per model for this task\n",
    "        )\n",
    "    except Exception as e:\n",
    "        return \"ERROR\", False, \"\", f\"Exception: {e}\", {\"gpt-4.1-mini\": 0}\n",
    "\n"
   ]
  },
  {
   "cell_type": "code",
   "execution_count": 6,
   "id": "76e581b1",
   "metadata": {},
   "outputs": [],
   "source": [
    "\n",
    "# =========================\n",
    "# Task 2: year (gpt-4.1-mini primary; fallback gpt-4o vision)\n",
    "# =========================\n",
    "def build_report_year_prompt(text):\n",
    "    return f\"\"\"\n",
    "You are an expert assistant helping to extract **the reporting period actually covered by the report** (the action period), not targets or future goals.\n",
    "\n",
    "Follow these rules strictly and return only a **JSON object** as described.\n",
    "\n",
    "---\n",
    "\n",
    "### What to EXTRACT (high priority cues)\n",
    "Pick the **most authoritative, explicit scope statement** such as lines containing:\n",
    "- \"covers ... from X to Y\"\n",
    "- \"reporting period:\" / \"report period:\"\n",
    "- \"for the year ended ...\" / \"for the period ended ...\"\n",
    "- \"fiscal year [range] from X to Y\" (when it states the scope of THIS report)\n",
    "- \"this report includes / contains data from X to Y\"\n",
    "\n",
    "### What to IGNORE (do NOT use as reporting period)\n",
    "- Long-term targets/roadmaps: e.g., \"by FY30\", \"by FY40\", \"from 2022 onward\", \"target reduction from FY2018 levels\"\n",
    "- Baseline/comparison references: \"compared to FY2018\", \"since 2019\", \"2019 highlights\"\n",
    "- Generic facts with years that do not declare the **covered period**\n",
    "- Multi-year strategies without explicit \"covers/reporting period\" verbs\n",
    "\n",
    "If multiple candidates exist, apply tie-breakers in this order:\n",
    "1) Prefer sentences that explicitly say \"covers/reporting period/for the year ended\".\n",
    "2) Prefer **the narrowest exact date/window** that clearly defines this report’s scope.\n",
    "3) Prefer statements that name **both start and end** (e.g., \"from Nov 1, 2019 to Oct 31, 2021\").\n",
    "4) If both a month/year range and a day/month/year range exist for the same scope, pick the **day-level** one.\n",
    "\n",
    "---\n",
    "\n",
    "### Normalization rules\n",
    "1) If it's a **single year**, like \"2013\" or \"FY2020\", return \"2013\" or \"2020\" (no months/days).\n",
    "2) If it's a **range of years only**, like \"2014–15\", return \"2014 to 2015\" (no months/days).\n",
    "3) If it includes **exact dates**, remove ordinals (1st→1) and format as:\n",
    "   \"1 April 2020 to 31 March 2021\"\n",
    "4) If it uses **months only**:\n",
    "   \"April 2020 – March 2021\" → \"April 2020 to March 2021\"\n",
    "5) Convert dashes (– or -) or slashes (/) to \"to\".\n",
    "6) Do **not** invent missing information.\n",
    "\n",
    "---\n",
    "\n",
    "### Output JSON\n",
    "\n",
    "If a valid reporting period is found:\n",
    "{{\n",
    "  \"normalized_report_year\": \"your final normalized version\",\n",
    "  \"original_expression\": \"verbatim span from the text that states the scope\",\n",
    "  \"source\": \"e.g. main text; table; footnote (if you can infer)\"\n",
    "}}\n",
    "\n",
    "If no valid reporting period is found:\n",
    "{{\n",
    "  \"normalized_report_year\": null,\n",
    "  \"original_expression\": null,\n",
    "  \"source\": \"NOT FOUND\"\n",
    "}}\n",
    "\n",
    "---\n",
    "\n",
    "\n",
    "### Mini example (the exact case you often miss)\n",
    "\n",
    "Input snippet:\n",
    "\"Here are a few facts... Pure is committing to a 3x reduction ... by FY30...  \n",
    "This inaugural report **covers ESG data, initiatives and activities from February 1, 2019 (FY20) to January 31, 2021 (FY21)**.\"\n",
    "\n",
    "Expected:\n",
    "{{\n",
    "  \"normalized_report_year\": \"1 February 2019 to 31 January 2021\",\n",
    "  \"original_expression\": \"covers ESG data, initiatives and activities from February 1, 2019 (FY20) to January 31, 2021 (FY21)\",\n",
    "  \"source\": \"main text\"\n",
    "}}\n",
    "\n",
    "---\n",
    "\n",
    "### Now analyze and extract:\n",
    "{text}\n",
    "\"\"\"\n",
    "\n",
    "\n",
    "def encode_image_to_base64(pil_image):\n",
    "    with tempfile.NamedTemporaryFile(suffix=\".png\") as f:\n",
    "        pil_image.save(f.name, format=\"PNG\")\n",
    "        with open(f.name, \"rb\") as image_file:\n",
    "            return base64.b64encode(image_file.read()).decode(\"utf-8\")\n",
    "\n",
    "def extract_year_from_vision(pdf_path, page_limit=5):\n",
    "    # ==== TOKENS\n",
    "    tokens_by_model = {\"gpt-4o\": 0}\n",
    "\n",
    "    try:\n",
    "        images = convert_from_path(pdf_path, dpi=200)\n",
    "        for i, img in enumerate(images[:page_limit]):\n",
    "            b64 = encode_image_to_base64(img)\n",
    "            response = client.chat.completions.create(\n",
    "                model=\"gpt-4o\",\n",
    "                messages=[\n",
    "                    {\"role\": \"user\", \"content\": [\n",
    "                        {\"type\": \"text\", \"text\": f\"Please extract the fiscal year or reporting period from page {i+1}. Please return in this JSON format:\\n\"\n",
    "                                                 \"{\\n  \\\"normalized_report_year\\\": \\\"...\\\",\\n  \\\"original_expression\\\": \\\"...\\\",\\n  \\\"source\\\": \\\"Page {i+1}, image-based\\\"\\n}\"},\n",
    "                        {\"type\": \"image_url\", \"image_url\": {\"url\": f\"data:image/png;base64,{b64}\"}}\n",
    "                    ]}\n",
    "                ],\n",
    "                max_tokens=300\n",
    "            )\n",
    "            # ==== TOKENS\n",
    "            _, _, tk = _tokens_of(response)\n",
    "            tokens_by_model[\"gpt-4o\"] += tk\n",
    "\n",
    "            content = response.choices[0].message.content\n",
    "            parsed = json.loads(content.strip()) if content.strip().startswith(\"{\") else eval(content.strip())\n",
    "            if parsed.get(\"normalized_report_year\"):\n",
    "                parsed[\"tokens_by_model\"] = tokens_by_model  # ==== TOKENS\n",
    "                return parsed\n",
    "    except Exception as e:\n",
    "        return {\n",
    "            \"normalized_report_year\": None,\n",
    "            \"original_expression\": None,\n",
    "            \"source\": f\"Vision ERROR: {e}\",\n",
    "            \"tokens_by_model\": tokens_by_model  # ==== TOKENS\n",
    "        }\n",
    "    return {\n",
    "        \"normalized_report_year\": None,\n",
    "        \"original_expression\": None,\n",
    "        \"source\": \"Vision NOT FOUND\",\n",
    "        \"tokens_by_model\": tokens_by_model  # ==== TOKENS\n",
    "    }\n",
    "\n",
    "def extract_report_year(pdf_path):\n",
    "    # ==== TOKENS\n",
    "    tokens_by_model = {\"gpt-4.1-mini\": 0, \"gpt-4o\": 0}\n",
    "\n",
    "    try:\n",
    "        text = extract_front_back_text(pdf_path)\n",
    "        prompt = build_report_year_prompt(text)\n",
    "        response = client.chat.completions.create(\n",
    "            model=\"gpt-4.1-mini\",\n",
    "            messages=[{\"role\": \"user\", \"content\": prompt}],\n",
    "            temperature=0\n",
    "            # max_tokens=500\n",
    "        )\n",
    "        # ==== TOKENS\n",
    "        _, _, tk = _tokens_of(response)\n",
    "        tokens_by_model[\"gpt-4.1-mini\"] += tk\n",
    "\n",
    "        content = response.choices[0].message.content\n",
    "        parsed = json.loads(content.strip()) if content.strip().startswith(\"{\") else eval(content.strip())\n",
    "        if parsed.get(\"normalized_report_year\"):\n",
    "            parsed[\"tokens_by_model\"] = tokens_by_model  # ==== TOKENS\n",
    "            return parsed\n",
    "    except Exception as e:\n",
    "        print(f\"⚠️ GPT-4.1-mini failed on {Path(pdf_path).name}, fallback to Vision...\")\n",
    "\n",
    "    parsed = extract_year_from_vision(pdf_path)\n",
    "    # Merge tokens from vision\n",
    "    for k, v in parsed.get(\"tokens_by_model\", {}).items():\n",
    "        tokens_by_model[k] = tokens_by_model.get(k, 0) + v\n",
    "    parsed[\"tokens_by_model\"] = tokens_by_model  # ==== TOKENS\n",
    "    return parsed\n"
   ]
  },
  {
   "cell_type": "code",
   "execution_count": 7,
   "id": "bd9de654",
   "metadata": {},
   "outputs": [],
   "source": [
    "def extract_company_or_publisher_with_gpt(text):\n",
    "    import json\n",
    "    # ==== TOKENS, tracked separately by model\n",
    "    total_by_model = {\"gpt-4.1-mini\": 0, \"gpt-4.1\": 0}\n",
    "\n",
    "    # === First call: Company Information (mini)\n",
    "    primary_prompt = f\"\"\"\n",
    "You are a corporate reporting analyst.\n",
    "\n",
    "From the first and last pages of a corporate report, extract the following:\n",
    "1. The **official company name** that issued the report.\n",
    "2. A list of **other names** referring to the company (abbreviations, group name, acronyms, etc.).\n",
    "3. The **country** where the company is headquartered.\n",
    "4. A brief **reasoning** explaining your extraction.\n",
    "\n",
    "Return a JSON object like this:\n",
    "{{\n",
    "  \"company_name\": \"...\",\n",
    "  \"other_names\": [\"...\", \"...\"],\n",
    "  \"country\": \"...\",\n",
    "  \"reasoning\": \"...\"\n",
    "}}\n",
    "\n",
    "If the company name is not found, return:\n",
    "{{\n",
    "  \"company_name\": \"UNKNOWN\",\n",
    "  \"other_names\": [],\n",
    "  \"country\": \"UNKNOWN\",\n",
    "  \"reasoning\": \"No indication of the company in the text.\"\n",
    "}}\n",
    "\n",
    "Text:\n",
    "{text}\n",
    "\"\"\"\n",
    "    try:\n",
    "        response = client.chat.completions.create(\n",
    "            model=\"gpt-4.1\",   \n",
    "            messages=[\n",
    "                {\"role\": \"system\", \"content\": \"You are an expert in ESG and corporate reporting.\"},\n",
    "                {\"role\": \"user\", \"content\": primary_prompt}\n",
    "            ],\n",
    "            temperature=0\n",
    "        )\n",
    "        # ==== TOKENS\n",
    "        _, _, tk = _tokens_of(response)\n",
    "        total_by_model[\"gpt-4.1\"] += tk\n",
    "\n",
    "        content = response.choices[0].message.content.strip()\n",
    "        result = json.loads(content)\n",
    "    except Exception as e:\n",
    "        return {\n",
    "            \"company_name\": \"GPT_ERROR\",\n",
    "            \"other_names\": [],\n",
    "            \"country\": \"GPT_ERROR\",\n",
    "            \"reasoning\": str(e),\n",
    "            \"publisher\": None,\n",
    "            \"tokens_by_model\": total_by_model\n",
    "        }\n",
    "    except json.JSONDecodeError:\n",
    "        return {\n",
    "            \"company_name\": \"PARSE_ERROR\",\n",
    "            \"other_names\": [],\n",
    "            \"country\": \"PARSE_ERROR\",\n",
    "            \"reasoning\": f\"Raw response: {content}\",\n",
    "            \"publisher\": None,\n",
    "            \"tokens_by_model\": total_by_model\n",
    "        }\n",
    "\n",
    "    # === Second call: If the company name is not recognized, use GPT-4.1-mini to extract the publisher.\n",
    "    if result.get(\"company_name\", \"\").upper() == \"UNKNOWN\":\n",
    "        try:\n",
    "            secondary_prompt = f\"\"\"\n",
    "This report was not issued by a company but possibly by a public institution or academic body.\n",
    "\n",
    "From the following text, extract the **publisher** and return:\n",
    "{{ \"publisher\": \"...\" }}\n",
    "\n",
    "If not found:\n",
    "{{ \"publisher\": \"UNKNOWN\" }}\n",
    "\n",
    "Text:\n",
    "{text}\n",
    "\"\"\"\n",
    "            response2 = client.chat.completions.create(\n",
    "                model=\"gpt-4.1-mini\",   \n",
    "                messages=[\n",
    "                    {\"role\": \"system\", \"content\": \"You are an expert in institutional publishing.\"},\n",
    "                    {\"role\": \"user\", \"content\": secondary_prompt}\n",
    "                ],\n",
    "                temperature=0\n",
    "            )\n",
    "            # ==== TOKENS\n",
    "            _, _, tk2 = _tokens_of(response2)\n",
    "            total_by_model[\"gpt-4.1-mini\"] += tk2\n",
    "\n",
    "            content2 = response2.choices[0].message.content.strip()\n",
    "            pub_result = json.loads(content2)\n",
    "            result[\"publisher\"] = pub_result.get(\"publisher\", \"UNKNOWN\")\n",
    "        except Exception as e:\n",
    "            result[\"publisher\"] = f\"GPT_ERROR: {str(e)}\"\n",
    "    else:\n",
    "        result[\"publisher\"] = None\n",
    "\n",
    "    # === Field Cleanup\n",
    "    if result.get(\"company_name\", \"\").upper() == \"UNKNOWN\":\n",
    "        result[\"company_name\"] = \"\"\n",
    "    if not isinstance(result.get(\"other_names\"), list):\n",
    "        result[\"other_names\"] = []\n",
    "    if \"country\" not in result or not isinstance(result[\"country\"], str):\n",
    "        result[\"country\"] = \"UNKNOWN\"\n",
    "\n",
    "    # ==== TOKENS\n",
    "    result[\"tokens_by_model\"] = total_by_model\n",
    "    return result"
   ]
  },
  {
   "cell_type": "code",
   "execution_count": 8,
   "id": "08d6b9d4",
   "metadata": {},
   "outputs": [],
   "source": [
    "\n",
    "# =========================\n",
    "# Pipeline per PDF\n",
    "# =========================\n",
    "def process_pdf(pdf_path):\n",
    "    text = extract_front_back_text(pdf_path)\n",
    "\n",
    "    # Task 1: classify\n",
    "    report_type, sustainability, sustainability_name, classify_reasoning, tk_classify_by_model = classify_report_type(text)\n",
    "\n",
    "    # Task 2: year\n",
    "    year = extract_report_year(pdf_path)\n",
    "    tk_year_by_model = year.get(\"tokens_by_model\", {})\n",
    "\n",
    "    # Task 3: company\n",
    "    company = extract_company_or_publisher_with_gpt(text)\n",
    "    tk_company_by_model = company.get(\"tokens_by_model\", {})\n",
    "\n",
    "    # ==== TOKENS: aggregate per model\n",
    "    tokens_by_model = {}\n",
    "    for d in (tk_classify_by_model, tk_year_by_model, tk_company_by_model):\n",
    "        for m, t in d.items():\n",
    "            tokens_by_model[m] = tokens_by_model.get(m, 0) + (t or 0)\n",
    "\n",
    "    # Subtask tokens (for readability per row)\n",
    "    tokens_classify = sum(tk_classify_by_model.values())\n",
    "    tokens_year = sum(tk_year_by_model.values())\n",
    "    tokens_company = sum(tk_company_by_model.values())\n",
    "    tokens_total = tokens_classify + tokens_year + tokens_company\n",
    "\n",
    "    return {\n",
    "        \"filename\": pdf_path.name,\n",
    "        \"report_type\": report_type,\n",
    "        \"has_sustainability_section\": sustainability,\n",
    "        \"sustainability_section_name\": sustainability_name,\n",
    "        \"classify_reasoning\": classify_reasoning,\n",
    "\n",
    "        \"normalized_report_year\": year.get(\"normalized_report_year\"),\n",
    "        \"original_expression\": year.get(\"original_expression\"),\n",
    "        \"year_source\": year.get(\"source\"),\n",
    "\n",
    "        \"company_name\": company.get(\"company_name\"),\n",
    "        \"other_names\": \"; \".join(company.get(\"other_names\", [])),\n",
    "        \"publisher\": company.get(\"publisher\"),\n",
    "        \"country\": company.get(\"country\"),\n",
    "        \"reasoning\": company.get(\"reasoning\"),\n",
    "\n",
    "        # ==== TOKENS: per subtask\n",
    "        \"tokens_classify\": tokens_classify,\n",
    "        \"tokens_year\": tokens_year,\n",
    "        \"tokens_company\": tokens_company,\n",
    "        \"tokens_total\": tokens_total,\n",
    "\n",
    "        # ==== TOKENS: per model (columns for convenience)\n",
    "        \"tokens_gpt4_1_mini\": tokens_by_model.get(\"gpt-4.1-mini\", 0),\n",
    "        \"tokens_gpt4_1\": tokens_by_model.get(\"gpt-4.1\", 0),\n",
    "        \"tokens_gpt4o\": tokens_by_model.get(\"gpt-4o\", 0),\n",
    "    }\n"
   ]
  },
  {
   "cell_type": "code",
   "execution_count": 9,
   "id": "59071a4c",
   "metadata": {},
   "outputs": [
    {
     "name": "stderr",
     "output_type": "stream",
     "text": [
      "🚀 Processing PDFs:  19%|█▉        | 246/1278 [10:13<28:07,  1.64s/it]  "
     ]
    },
    {
     "name": "stdout",
     "output_type": "stream",
     "text": [
      "⚠️ Fallback to OCR on: Unknown_adbi-managing-transition-low-carbon-economy_087is5zy.pdf due to Too short, fallback to OCR.\n"
     ]
    },
    {
     "name": "stderr",
     "output_type": "stream",
     "text": [
      "🚀 Processing PDFs:  19%|█▉        | 247/1278 [10:21<48:28,  2.82s/it]"
     ]
    },
    {
     "name": "stdout",
     "output_type": "stream",
     "text": [
      "⚠️ Fallback to OCR on: Unknown_adbi-managing-transition-low-carbon-economy_087is5zy.pdf due to Too short, fallback to OCR.\n"
     ]
    },
    {
     "name": "stderr",
     "output_type": "stream",
     "text": [
      "🚀 Processing PDFs:  20%|█▉        | 251/1278 [10:26<32:58,  1.93s/it]"
     ]
    },
    {
     "name": "stdout",
     "output_type": "stream",
     "text": [
      "⚠️ Fallback to OCR on: Unknown_2014SustainRpt_FNL_lr_7mrwsfm7.pdf due to Too short, fallback to OCR.\n"
     ]
    },
    {
     "name": "stderr",
     "output_type": "stream",
     "text": [
      "🚀 Processing PDFs:  20%|█▉        | 253/1278 [10:32<36:18,  2.13s/it]"
     ]
    },
    {
     "name": "stdout",
     "output_type": "stream",
     "text": [
      "⚠️ Fallback to OCR on: Unknown_2014SustainRpt_FNL_lr_7mrwsfm7.pdf due to Too short, fallback to OCR.\n"
     ]
    },
    {
     "name": "stderr",
     "output_type": "stream",
     "text": [
      "🚀 Processing PDFs:  28%|██▊       | 354/1278 [14:44<31:56,  2.07s/it]  "
     ]
    },
    {
     "name": "stdout",
     "output_type": "stream",
     "text": [
      "⚠️ Fallback to OCR on: Hansae_Yes24_Holdings_Co_Ltd_HANSAE20YES2420HOLDINGS20ESG20REPORT202022_th5kzsfk.pdf due to Too short, fallback to OCR.\n",
      "⚠️ Fallback to OCR on: Hansae_Yes24_Holdings_Co_Ltd_HANSAE20YES2420HOLDINGS20ESG20REPORT202022_th5kzsfk.pdf due to Too short, fallback to OCR.\n"
     ]
    },
    {
     "name": "stderr",
     "output_type": "stream",
     "text": [
      "🚀 Processing PDFs:  33%|███▎      | 426/1278 [17:32<36:44,  2.59s/it]"
     ]
    },
    {
     "name": "stdout",
     "output_type": "stream",
     "text": [
      "⚠️ Fallback to OCR on: Home_Inns__Hotels_Management_Inc_Barclays_Bank_PLC_Annual_Report_202014_5lj1epic.pdf due to Too short, fallback to OCR.\n"
     ]
    },
    {
     "name": "stderr",
     "output_type": "stream",
     "text": [
      "🚀 Processing PDFs:  33%|███▎      | 428/1278 [17:33<23:53,  1.69s/it]"
     ]
    },
    {
     "name": "stdout",
     "output_type": "stream",
     "text": [
      "⚠️ Fallback to OCR on: Home_Inns__Hotels_Management_Inc_Barclays_Bank_PLC_Annual_Report_202014_5lj1epic.pdf due to Too short, fallback to OCR.\n"
     ]
    },
    {
     "name": "stderr",
     "output_type": "stream",
     "text": [
      "🚀 Processing PDFs:  39%|███▊      | 494/1278 [20:11<18:33,  1.42s/it]  "
     ]
    },
    {
     "name": "stdout",
     "output_type": "stream",
     "text": [
      "⚠️ Fallback to OCR on: Unknown_adp07-sus-fr_95qx6prh.pdf due to Too short, fallback to OCR.\n"
     ]
    },
    {
     "name": "stderr",
     "output_type": "stream",
     "text": [
      "🚀 Processing PDFs:  39%|███▊      | 495/1278 [20:12<17:40,  1.35s/it]"
     ]
    },
    {
     "name": "stdout",
     "output_type": "stream",
     "text": [
      "⚠️ Fallback to OCR on: Unknown_adp07-sus-fr_95qx6prh.pdf due to Too short, fallback to OCR.\n"
     ]
    },
    {
     "name": "stderr",
     "output_type": "stream",
     "text": [
      "🚀 Processing PDFs:  52%|█████▏    | 666/1278 [27:32<22:10,  2.17s/it]  "
     ]
    },
    {
     "name": "stdout",
     "output_type": "stream",
     "text": [
      "⚠️ Fallback to OCR on: Armstrong_Flooring_Inc_SustainabilityReport-2020_kot54emv.pdf due to Too short, fallback to OCR.\n",
      "⚠️ Fallback to OCR on: Armstrong_Flooring_Inc_SustainabilityReport-2020_kot54emv.pdf due to Too short, fallback to OCR.\n",
      "⚠️ GPT-4.1-mini failed on Toshiba_Corp_na_report_bovkhq1b.pdf, fallback to Vision...\n"
     ]
    },
    {
     "name": "stderr",
     "output_type": "stream",
     "text": [
      "🚀 Processing PDFs:  52%|█████▏    | 668/1278 [28:30<1:22:52,  8.15s/it]"
     ]
    },
    {
     "name": "stdout",
     "output_type": "stream",
     "text": [
      "⚠️ GPT-4.1-mini failed on Tata_Chemicals_Ltd_tata-chemicals-sustainability-report-2015-16_vir6bou6.pdf, fallback to Vision...\n"
     ]
    },
    {
     "name": "stderr",
     "output_type": "stream",
     "text": [
      "🚀 Processing PDFs:  55%|█████▌    | 705/1278 [29:31<15:41,  1.64s/it]  "
     ]
    },
    {
     "name": "stdout",
     "output_type": "stream",
     "text": [
      "⚠️ GPT-4.1-mini failed on Rautaruukki_OYJ_8D4F90062F7943D6A50C162CEB8AC495_p5tqkinc.pdf, fallback to Vision...\n"
     ]
    },
    {
     "name": "stderr",
     "output_type": "stream",
     "text": [
      "🚀 Processing PDFs:  55%|█████▌    | 708/1278 [30:36<47:05,  4.96s/it]"
     ]
    },
    {
     "name": "stdout",
     "output_type": "stream",
     "text": [
      "⚠️ GPT-4.1-mini failed on Nexstar_Media_Group_Inc_NXST-2021-Annual-Report-Bookmarked_jpvfd20s.pdf, fallback to Vision...\n",
      "⚠️ GPT-4.1-mini failed on Unknown_793553_First_REIT_Annual_Report_2023_zleg751f.pdf, fallback to Vision...\n",
      "⚠️ GPT-4.1-mini failed on ReWorld_Media_SA_220701_Reworld_Media_RFA2021_eng_8yf7lhd9.pdf, fallback to Vision...\n"
     ]
    },
    {
     "name": "stderr",
     "output_type": "stream",
     "text": [
      "🚀 Processing PDFs:  56%|█████▋    | 722/1278 [32:46<1:05:43,  7.09s/it]"
     ]
    },
    {
     "name": "stdout",
     "output_type": "stream",
     "text": [
      "⚠️ GPT-4.1-mini failed on Luxottica_Group_SPA_Milano_2006_12_31_luxottica_annual_report_eng_7noqm8ix.pdf, fallback to Vision...\n"
     ]
    },
    {
     "name": "stderr",
     "output_type": "stream",
     "text": [
      "🚀 Processing PDFs:  60%|██████    | 768/1278 [34:29<17:32,  2.06s/it]  "
     ]
    },
    {
     "name": "stdout",
     "output_type": "stream",
     "text": [
      "⚠️ Fallback to OCR on: Tam_Jai_International_Co_Ltd_2022083101184_go5rbp4a.pdf due to Too short, fallback to OCR.\n"
     ]
    },
    {
     "name": "stderr",
     "output_type": "stream",
     "text": [
      "🚀 Processing PDFs:  60%|██████    | 770/1278 [34:32<13:06,  1.55s/it]"
     ]
    },
    {
     "name": "stdout",
     "output_type": "stream",
     "text": [
      "⚠️ Fallback to OCR on: Tam_Jai_International_Co_Ltd_2022083101184_go5rbp4a.pdf due to Too short, fallback to OCR.\n"
     ]
    },
    {
     "name": "stderr",
     "output_type": "stream",
     "text": [
      "🚀 Processing PDFs:  66%|██████▌   | 838/1278 [38:44<2:06:15, 17.22s/it]"
     ]
    },
    {
     "name": "stdout",
     "output_type": "stream",
     "text": [
      "⚠️ GPT-4.1-mini failed on Life_Corp_gri-report_ainwgfst.pdf, fallback to Vision...\n"
     ]
    },
    {
     "name": "stderr",
     "output_type": "stream",
     "text": [
      "🚀 Processing PDFs:  67%|██████▋   | 861/1278 [39:02<17:00,  2.45s/it]  "
     ]
    },
    {
     "name": "stdout",
     "output_type": "stream",
     "text": [
      "⚠️ GPT-4.1-mini failed on Sprouts_Farmers_Market_Inc_2020-ESG-report-Sprouts-Farmers-Market_18v25zk3.pdf, fallback to Vision...\n",
      "⚠️ GPT-4.1-mini failed on Unknown_1-Health-Job-Opportunity-Program_m3mqngsp.pdf, fallback to Vision...\n",
      "⚠️ GPT-4.1-mini failed on Unknown_121857-19In-34363674F4268406996P-Gl_93hoj4g2.pdf, fallback to Vision...\n",
      "⚠️ GPT-4.1-mini failed on Canadian_Tire_Corp_Ltd_Raport-6975_CTC_SDR_PDF_English_v8_krvr1cwy.pdf, fallback to Vision...\n",
      "⚠️ GPT-4.1-mini failed on Pulmuone_Holdings_Co_Ltd_down_qo18gmsw.pdf, fallback to Vision...\n"
     ]
    },
    {
     "name": "stderr",
     "output_type": "stream",
     "text": [
      "🚀 Processing PDFs:  68%|██████▊   | 873/1278 [39:18<12:25,  1.84s/it]"
     ]
    },
    {
     "name": "stdout",
     "output_type": "stream",
     "text": [
      "⚠️ GPT-4.1-mini failed on Norsk_Hydro_ASA_hydro-asa_2009_3n19pb11.pdf, fallback to Vision...\n"
     ]
    },
    {
     "name": "stderr",
     "output_type": "stream",
     "text": [
      "🚀 Processing PDFs:  68%|██████▊   | 875/1278 [39:24<13:28,  2.01s/it]"
     ]
    },
    {
     "name": "stdout",
     "output_type": "stream",
     "text": [
      "⚠️ GPT-4.1-mini failed on Sotera_Health_Co_a662cf56-d519-4e37-8870-da71dadcb667_bf7jyea7.pdf, fallback to Vision...\n",
      "⚠️ GPT-4.1-mini failed on Unknown_2022_NuVasive_ESG_Report_316qh1nd.pdf, fallback to Vision...\n",
      "⚠️ GPT-4.1-mini failed on Bollore_SE_publication_344_en_5159im40.pdf, fallback to Vision...\n",
      "⚠️ GPT-4.1-mini failed on Tesmec_SPA_202004-td_world_april_issue_3jfos0zf.pdf, fallback to Vision...\n"
     ]
    },
    {
     "name": "stderr",
     "output_type": "stream",
     "text": [
      "🚀 Processing PDFs:  69%|██████▊   | 876/1278 [39:43<23:41,  3.54s/it]"
     ]
    },
    {
     "name": "stdout",
     "output_type": "stream",
     "text": [
      "⚠️ GPT-4.1-mini failed on LG_Display_Co_Ltd_downloadTest_zbms8iaw.pdf, fallback to Vision...\n"
     ]
    },
    {
     "name": "stderr",
     "output_type": "stream",
     "text": [
      "🚀 Processing PDFs:  69%|██████▉   | 879/1278 [39:46<18:59,  2.85s/it]"
     ]
    },
    {
     "name": "stdout",
     "output_type": "stream",
     "text": [
      "⚠️ GPT-4.1-mini failed on AKSA_A40C80A20FF2492CAC2C9CD3A2967D88_u2o5uhav.pdf, fallback to Vision...\n",
      "⚠️ GPT-4.1-mini failed on Tecnicas_Reunidas_SA_TR_Informe_Integrado_2019_EN_n6zf1tml.pdf, fallback to Vision...\n"
     ]
    },
    {
     "name": "stderr",
     "output_type": "stream",
     "text": [
      "🚀 Processing PDFs:  69%|██████▉   | 880/1278 [39:53<21:31,  3.24s/it]"
     ]
    },
    {
     "name": "stdout",
     "output_type": "stream",
     "text": [
      "⚠️ GPT-4.1-mini failed on Toyota_Boshoku_Corp_TBreport_2008-1_u2ux8fgx.pdf, fallback to Vision...\n",
      "⚠️ GPT-4.1-mini failed on OYAK_Cimento_Fabrikalari_Anonim_Sirketi_166799823919590305561667998283630611_sa4mfecm.pdf, fallback to Vision...\n"
     ]
    },
    {
     "name": "stderr",
     "output_type": "stream",
     "text": [
      "🚀 Processing PDFs:  69%|██████▉   | 883/1278 [40:04<21:43,  3.30s/it]"
     ]
    },
    {
     "name": "stdout",
     "output_type": "stream",
     "text": [
      "⚠️ GPT-4.1-mini failed on Kao_Corp_pdf_reports_01_02_01_001_ja5d9x1h.pdf, fallback to Vision...\n",
      "⚠️ GPT-4.1-mini failed on Bank_Of_Ireland_Group_Plc_boi-responsibility-report-2018_kebfsaxj.pdf, fallback to Vision...\n",
      "⚠️ GPT-4.1-mini failed on Unknown_41913-MGIRON_Sustainability-Report_2021_WEB-singles_ojs9mnr0.pdf, fallback to Vision...\n"
     ]
    },
    {
     "name": "stderr",
     "output_type": "stream",
     "text": [
      "🚀 Processing PDFs:  69%|██████▉   | 884/1278 [40:13<28:12,  4.30s/it]"
     ]
    },
    {
     "name": "stdout",
     "output_type": "stream",
     "text": [
      "⚠️ GPT-4.1-mini failed on Clariant_Chemicals_integrated_report_clariant_ar2018_1afj0kyp.pdf, fallback to Vision...\n"
     ]
    },
    {
     "name": "stderr",
     "output_type": "stream",
     "text": [
      "🚀 Processing PDFs:  69%|██████▉   | 885/1278 [40:22<33:05,  5.05s/it]"
     ]
    },
    {
     "name": "stdout",
     "output_type": "stream",
     "text": [
      "⚠️ GPT-4.1-mini failed on Berry_Global_Group_Inc_csr-2016-final_qc308qeo.pdf, fallback to Vision...\n"
     ]
    },
    {
     "name": "stderr",
     "output_type": "stream",
     "text": [
      "🚀 Processing PDFs:  69%|██████▉   | 888/1278 [40:23<19:22,  2.98s/it]"
     ]
    },
    {
     "name": "stdout",
     "output_type": "stream",
     "text": [
      "⚠️ GPT-4.1-mini failed on James_Halstead_PLC_Sustainability-Report-2021-Brochure-DPS_p6eemwns.pdf, fallback to Vision...\n",
      "⚠️ GPT-4.1-mini failed on Orkla_ASA_ork07-sus-no_gnl84v9u.pdf, fallback to Vision...\n",
      "⚠️ GPT-4.1-mini failed on Danone_SA_Danone-Integrated-Report-Summary-2016_sgm8tc1v.pdf, fallback to Vision...\n"
     ]
    },
    {
     "name": "stderr",
     "output_type": "stream",
     "text": [
      "🚀 Processing PDFs:  70%|██████▉   | 889/1278 [40:34<28:54,  4.46s/it]"
     ]
    },
    {
     "name": "stdout",
     "output_type": "stream",
     "text": [
      "⚠️ GPT-4.1-mini failed on Accell_Group_NV_Heerenveen_AnualReport2014_dfllq4qw.pdf, fallback to Vision...\n",
      "⚠️ GPT-4.1-mini failed on Royal_Canadian_Mint_rcm_eng_ar_2019_access_finalv2_w1ze5w06.pdf, fallback to Vision...\n",
      "⚠️ GPT-4.1-mini failed on Unknown_2020_7udlttjs.pdf, fallback to Vision...\n"
     ]
    },
    {
     "name": "stderr",
     "output_type": "stream",
     "text": [
      "🚀 Processing PDFs:  70%|██████▉   | 891/1278 [40:55<41:56,  6.50s/it]"
     ]
    },
    {
     "name": "stdout",
     "output_type": "stream",
     "text": [
      "⚠️ Fallback to OCR on: Hyosung_Corp_SR_2020_en_8g98j6gk.pdf due to Too short, fallback to OCR.\n",
      "⚠️ Fallback to OCR on: Hyosung_Corp_SR_2020_en_8g98j6gk.pdf due to Too short, fallback to OCR.\n",
      "⚠️ GPT-4.1-mini failed on Marico_Ltd_annual-report-fy-2020-21_oxd2yx0i.pdf, fallback to Vision...\n",
      "⚠️ GPT-4.1-mini failed on Hyosung_Corp_SR_2020_en_8g98j6gk.pdf, fallback to Vision...\n",
      "⚠️ GPT-4.1-mini failed on Cadence_Bank_2022_ESG_Report_wz968nkm.pdf, fallback to Vision...\n",
      "⚠️ GPT-4.1-mini failed on PT_Mandom_Indonesia_TBK_AR_TCID_2021_0ydr0dcx.pdf, fallback to Vision...\n"
     ]
    },
    {
     "name": "stderr",
     "output_type": "stream",
     "text": [
      "🚀 Processing PDFs:  70%|██████▉   | 894/1278 [41:14<41:14,  6.45s/it]"
     ]
    },
    {
     "name": "stdout",
     "output_type": "stream",
     "text": [
      "⚠️ GPT-4.1-mini failed on Target_Corp_hess-2018-sustainability-report_c2qx14y3.pdf, fallback to Vision...\n"
     ]
    },
    {
     "name": "stderr",
     "output_type": "stream",
     "text": [
      "🚀 Processing PDFs:  76%|███████▌  | 971/1278 [45:45<16:56,  3.31s/it]"
     ]
    },
    {
     "name": "stdout",
     "output_type": "stream",
     "text": [
      "⚠️ Fallback to OCR on: Boryung_Corporation_EBB3B4EBA0B920ECA780EC868DEAB080EB8AA5EAB2BDEC9881EBB3B4EAB3A0EC849CEC9881EBACB8_ebpit5lz.pdf due to Too short, fallback to OCR.\n",
      "⚠️ Fallback to OCR on: Boryung_Corporation_EBB3B4EBA0B920ECA780EC868DEAB080EB8AA5EAB2BDEC9881EBB3B4EAB3A0EC849CEC9881EBACB8_ebpit5lz.pdf due to Too short, fallback to OCR.\n"
     ]
    },
    {
     "name": "stderr",
     "output_type": "stream",
     "text": [
      "🚀 Processing PDFs:  77%|███████▋  | 984/1278 [46:23<13:34,  2.77s/it]"
     ]
    },
    {
     "name": "stdout",
     "output_type": "stream",
     "text": [
      "⚠️ Fallback to OCR on: Arvind_Ltd_Arvind_AR_2022-23_0_iwp4673c.pdf due to Too short, fallback to OCR.\n",
      "⚠️ Fallback to OCR on: Arvind_Ltd_Arvind_AR_2022-23_0_iwp4673c.pdf due to Too short, fallback to OCR.\n"
     ]
    },
    {
     "name": "stderr",
     "output_type": "stream",
     "text": [
      "🚀 Processing PDFs:  86%|████████▋ | 1103/1278 [52:44<10:54,  3.74s/it]"
     ]
    },
    {
     "name": "stdout",
     "output_type": "stream",
     "text": [
      "⚠️ Fallback to OCR on: EKI_Energy_Services_Limited_69298543284_zj7y1tjh.pdf due to Too short, fallback to OCR.\n"
     ]
    },
    {
     "name": "stderr",
     "output_type": "stream",
     "text": [
      "🚀 Processing PDFs:  87%|████████▋ | 1106/1278 [52:47<06:18,  2.20s/it]"
     ]
    },
    {
     "name": "stdout",
     "output_type": "stream",
     "text": [
      "⚠️ Fallback to OCR on: EKI_Energy_Services_Limited_69298543284_zj7y1tjh.pdf due to Too short, fallback to OCR.\n"
     ]
    },
    {
     "name": "stderr",
     "output_type": "stream",
     "text": [
      "🚀 Processing PDFs:  87%|████████▋ | 1118/1278 [53:23<08:41,  3.26s/it]"
     ]
    },
    {
     "name": "stdout",
     "output_type": "stream",
     "text": [
      "⚠️ Fallback to OCR on: Unknown_23076_Whitbread_AR2020_web_0v2mxh4f.pdf due to Too short, fallback to OCR.\n",
      "⚠️ Fallback to OCR on: Unknown_23076_Whitbread_AR2020_web_0v2mxh4f.pdf due to Too short, fallback to OCR.\n"
     ]
    },
    {
     "name": "stderr",
     "output_type": "stream",
     "text": [
      "🚀 Processing PDFs:  94%|█████████▍| 1206/1278 [57:54<04:28,  3.73s/it]"
     ]
    },
    {
     "name": "stdout",
     "output_type": "stream",
     "text": [
      "⚠️ Fallback to OCR on: Unknown_2023042101335_kyzhtmjn.pdf due to Too short, fallback to OCR.\n",
      "⚠️ Fallback to OCR on: Unknown_2023042101335_kyzhtmjn.pdf due to Too short, fallback to OCR.\n"
     ]
    },
    {
     "name": "stderr",
     "output_type": "stream",
     "text": [
      "🚀 Processing PDFs:  99%|█████████▉| 1265/1278 [1:01:21<00:33,  2.57s/it]"
     ]
    },
    {
     "name": "stdout",
     "output_type": "stream",
     "text": [
      "⚠️ Fallback to OCR on: BASF_SE_2012_BASF_Report_lmq79gwn.pdf due to Too short, fallback to OCR.\n"
     ]
    },
    {
     "name": "stderr",
     "output_type": "stream",
     "text": [
      "🚀 Processing PDFs:  99%|█████████▉| 1266/1278 [1:01:25<00:31,  2.66s/it]"
     ]
    },
    {
     "name": "stdout",
     "output_type": "stream",
     "text": [
      "⚠️ Fallback to OCR on: BASF_SE_2012_BASF_Report_lmq79gwn.pdf due to Too short, fallback to OCR.\n"
     ]
    },
    {
     "name": "stderr",
     "output_type": "stream",
     "text": [
      "🚀 Processing PDFs: 100%|██████████| 1278/1278 [1:01:59<00:00,  2.91s/it]"
     ]
    },
    {
     "name": "stdout",
     "output_type": "stream",
     "text": [
      "✅ Done! Results saved to: results/pipeline9-mini-4-1.csv\n"
     ]
    },
    {
     "name": "stderr",
     "output_type": "stream",
     "text": [
      "\n"
     ]
    }
   ],
   "source": [
    "\n",
    "# =========================\n",
    "# Run\n",
    "# =========================\n",
    "pdf_dir = Path(\"pdf_folder\")\n",
    "output_path = Path(\"results/pipeline9-mini-4-1.csv\")\n",
    "os.makedirs(output_path.parent, exist_ok=True)\n",
    "\n",
    "pdf_files = list(pdf_dir.glob(\"*.pdf\"))\n",
    "MAX_WORKERS = 5\n",
    "\n",
    "with ThreadPoolExecutor(max_workers=MAX_WORKERS) as executor:\n",
    "    results = list(tqdm(executor.map(process_pdf, pdf_files), total=len(pdf_files), desc=\"🚀 Processing PDFs\"))\n",
    "\n",
    "df = pd.DataFrame(results)\n",
    "df.to_csv(output_path, index=False)\n",
    "print(f\"✅ Done! Results saved to: {output_path}\")"
   ]
  },
  {
   "cell_type": "code",
   "execution_count": null,
   "id": "a538292e",
   "metadata": {},
   "outputs": [],
   "source": []
  },
  {
   "cell_type": "code",
   "execution_count": null,
   "id": "82fbd200",
   "metadata": {},
   "outputs": [],
   "source": []
  },
  {
   "cell_type": "markdown",
   "id": "f59fa4da",
   "metadata": {},
   "source": [
    "comparison of years"
   ]
  },
  {
   "cell_type": "code",
   "execution_count": 10,
   "id": "952f6f2a",
   "metadata": {},
   "outputs": [
    {
     "name": "stdout",
     "output_type": "stream",
     "text": [
      "✅ number of combine samples：221\n",
      "✅ correct matches：184\n",
      "✅ Fuzzy Accuracy：83.26%\n"
     ]
    }
   ],
   "source": [
    "import pandas as pd\n",
    "import re\n",
    "\n",
    "# === 1. Load data ===\n",
    "gpt_df = pd.read_csv(\"results/pipeline9-mini-4-1.csv\")  # GPT Extraction Results\n",
    "label_df = pd.read_excel(\"check/rfyear_annotation2.xlsx\")            # Annotation results\n",
    "\n",
    "# === 2. Rename columns to align and merge (by file name) ===\n",
    "gpt_df.rename(columns={\"filename\": \"pdf_name\", \"report_year\": \"normalized_report_year\"}, inplace=True)\n",
    "merged = pd.merge(label_df, gpt_df, on=\"pdf_name\", how=\"inner\")\n",
    "\n",
    "# === 3. Clean text: convert nulls to empty string, handle case, spaces, line breaks ===\n",
    "def clean_text(s):\n",
    "    if pd.isna(s): return \"\"\n",
    "    return str(s).strip().lower().replace(\"\\n\", \" \")\n",
    "\n",
    "merged[\"normalized_report_year\"] = merged[\"normalized_report_year\"].apply(clean_text)\n",
    "merged[\"chosen_rfyear\"] = merged[\"chosen_rfyear\"].apply(clean_text)\n",
    "\n",
    "# === 4. Define helper functions ===\n",
    "import re\n",
    "\n",
    "def normalize_year_text(s):\n",
    "    if not s:\n",
    "        return \"\"\n",
    "    s = s.lower().strip()\n",
    "    \n",
    "    # Replace common hyphens with unified format\n",
    "    s = s.replace(\"–\", \" to \").replace(\"-\", \" to \").replace(\"/\", \" to \")\n",
    "\n",
    "    # Remove invalid characters\n",
    "    s = re.sub(r'[\\(\\)\\[\\],;:]', ' ', s)\n",
    "    s = re.sub(r'\\s+', ' ', s)\n",
    "\n",
    "    # Handle fy abbreviation: fy2020 or fy 2020 → 2020\n",
    "    s = re.sub(r'\\bfy\\s*(\\d{4})\\b', r'\\1', s)                   # fy 2020 → 2020\n",
    "    s = re.sub(r'\\bfy\\s*(\\d{2})\\b', lambda m: f\"20{m.group(1)}\", s)  # fy 19 → 2019\n",
    "\n",
    "    # Interval format handling: 2020 to 21 → 2020 to 2021\n",
    "    s = re.sub(r'\\b(20\\d{2})\\s+to\\s+(\\d{2})\\b', lambda m: f\"{m.group(1)} to 20{m.group(2)}\", s)\n",
    "\n",
    "    # Interval format handling: 2020–2021、2020-2021、fy2020 to 2021 → 2020 to 2021\n",
    "    s = re.sub(r'\\b(20\\d{2})\\s*to\\s*(20\\d{2})\\b', r'\\1 to \\2', s)\n",
    "    s = re.sub(r'\\b(20\\d{2})\\s+to\\s+20\\d{2}', r'\\g<0>', s)\n",
    "\n",
    "    # Clean ordinal numbers\n",
    "    s = re.sub(r'\\b(\\d{1,2})(st|nd|rd|th)\\b', r'\\1', s)\n",
    "\n",
    "    return s.strip()\n",
    "\n",
    "def extract_years(s):\n",
    "    return sorted(set(re.findall(r'\\b(20\\d{2}|19\\d{2})\\b', s)))\n",
    "\n",
    "def is_fuzzy_match(a, b):\n",
    "    a_norm = normalize_year_text(a)\n",
    "    b_norm = normalize_year_text(b)\n",
    "    if a_norm == b_norm:\n",
    "        return True\n",
    "\n",
    "    # Extract year sets\n",
    "    a_years = extract_years(a_norm)\n",
    "    b_years = extract_years(b_norm)\n",
    "\n",
    "    if not a_years or not b_years:\n",
    "        return False\n",
    "\n",
    "    # Compare after sorting\n",
    "    a_sorted = sorted(set(a_years))\n",
    "    b_sorted = sorted(set(b_years))\n",
    "\n",
    "    # Exactly same or contained\n",
    "    if a_sorted == b_sorted:\n",
    "        return True\n",
    "    if len(a_sorted) == 1 and a_sorted[0] in b_sorted:\n",
    "        return True\n",
    "    if len(b_sorted) == 1 and b_sorted[0] in a_sorted:\n",
    "        return True\n",
    "\n",
    "    # Allow ±1 when only one year\n",
    "    if len(a_sorted) == 1 and len(b_sorted) == 1 and abs(int(a_sorted[0]) - int(b_sorted[0])) <= 1:\n",
    "        return True\n",
    "\n",
    "    return False\n",
    "\n",
    "# === 5. Apply fuzzy match function ===\n",
    "merged[\"fuzzy_match\"] = merged.apply(lambda row: is_fuzzy_match(row[\"normalized_report_year\"], row[\"chosen_rfyear\"]), axis=1)\n",
    "\n",
    "# === 6. Calculate accuracy ===\n",
    "total = len(merged)\n",
    "correct = merged[\"fuzzy_match\"].sum()\n",
    "accuracy = correct / total\n",
    "\n",
    "print(f\"✅ number of combine samples：{total}\")\n",
    "print(f\"✅ correct matches：{correct}\")\n",
    "print(f\"✅ Fuzzy Accuracy：{accuracy:.2%}\")\n",
    "\n",
    "# === 7. Save results ===\n",
    "# merged[[\"pdf_name\", \"chosen_rfyear\", \"normalized_report_year\", \"fuzzy_match\"]].to_csv(\"pipeline_eval/7/year_comparison.csv\", index=False)"
   ]
  },
  {
   "cell_type": "code",
   "execution_count": 11,
   "id": "84105990",
   "metadata": {},
   "outputs": [
    {
     "name": "stdout",
     "output_type": "stream",
     "text": [
      "✅ number of combined samples：221\n",
      "✅ correct matches：203\n",
      "✅ Fuzzy Accuracy：91.86%\n"
     ]
    }
   ],
   "source": [
    "import pandas as pd\n",
    "import re\n",
    "\n",
    "# === 1. Load data ===\n",
    "gpt_df = pd.read_csv(\"results/pipeline9-mini-4-1.csv\")   # GPT extraction results\n",
    "label_df = pd.read_excel(\"check/rfyear_annotation2.xlsx\")\n",
    "\n",
    "# === 2. Rename columns to align and merge ===\n",
    "gpt_df.rename(columns={\"filename\": \"pdf_name\", \"report_year\": \"normalized_report_year\"}, inplace=True)\n",
    "merged = pd.merge(label_df, gpt_df, on=\"pdf_name\", how=\"inner\")\n",
    "\n",
    "# === 3. Clean text ===\n",
    "def clean_text(s):\n",
    "    if pd.isna(s): \n",
    "        return \"\"\n",
    "    return str(s).strip().lower().replace(\"\\n\", \" \")\n",
    "\n",
    "merged[\"normalized_report_year\"] = merged[\"normalized_report_year\"].apply(clean_text)\n",
    "merged[\"chosen_rfyear\"] = merged[\"chosen_rfyear\"].apply(clean_text)\n",
    "\n",
    "# === 4. English month mapping ===\n",
    "MONTHS = {\n",
    "    \"january\": \"01\", \"jan\": \"01\",\n",
    "    \"february\": \"02\", \"feb\": \"02\",\n",
    "    \"march\": \"03\", \"mar\": \"03\",\n",
    "    \"april\": \"04\", \"apr\": \"04\",\n",
    "    \"may\": \"05\",\n",
    "    \"june\": \"06\", \"jun\": \"06\",\n",
    "    \"july\": \"07\", \"jul\": \"07\",\n",
    "    \"august\": \"08\", \"aug\": \"08\",\n",
    "    \"september\": \"09\", \"sep\": \"09\", \"sept\": \"09\",\n",
    "    \"october\": \"10\", \"oct\": \"10\",\n",
    "    \"november\": \"11\", \"nov\": \"11\",\n",
    "    \"december\": \"12\", \"dec\": \"12\"\n",
    "}\n",
    "\n",
    "# === 5. Year and month normalization function ===\n",
    "def normalize_year_text(s):\n",
    "    if not s:\n",
    "        return \"\"\n",
    "    s = s.lower().strip()\n",
    "\n",
    "    # Replace connectors\n",
    "    s = s.replace(\"–\", \" to \").replace(\"-\", \" to \").replace(\"/\", \" to \").replace(\"through\", \" to \")\n",
    "\n",
    "    # Remove invalid characters\n",
    "    s = re.sub(r'[\\(\\)\\[\\],;:]', ' ', s)\n",
    "    s = re.sub(r'\\s+', ' ', s)\n",
    "\n",
    "    # fy abbreviation handling\n",
    "    s = re.sub(r'\\bfy\\s*(\\d{4})\\b', r'\\1', s)\n",
    "    s = re.sub(r'\\bfy\\s*(\\d{2})\\b', lambda m: f\"20{m.group(1)}\", s)\n",
    "\n",
    "    # Match \"April 1, 2020\" or \"1 April 2020\"\n",
    "    date_pattern = re.compile(\n",
    "        r'(?:(\\d{1,2})\\s+)?'          # Optional: day\n",
    "        r'(' + \"|\".join(MONTHS.keys()) + r')\\s*'  # month\n",
    "        r',?\\s*(\\d{4})'               # year\n",
    "    )\n",
    "\n",
    "    def replace_date(match):\n",
    "        day, month, year = match.groups()\n",
    "        month_num = MONTHS[month]\n",
    "        return f\"{year}-{month_num}\"\n",
    "\n",
    "    s = date_pattern.sub(replace_date, s)\n",
    "\n",
    "    return s.strip()\n",
    "\n",
    "# === 6. Extract years and months ===\n",
    "def extract_year_months(s):\n",
    "    return sorted(set(re.findall(r'\\b(20\\d{2}-\\d{2}|19\\d{2}-\\d{2}|20\\d{2}|19\\d{2})\\b', s)))\n",
    "\n",
    "# === 7. Fuzzy matching logic ===\n",
    "def is_fuzzy_match(a, b):\n",
    "    a_norm = normalize_year_text(a)\n",
    "    b_norm = normalize_year_text(b)\n",
    "\n",
    "    # If exactly the same\n",
    "    if a_norm == b_norm:\n",
    "        return True\n",
    "\n",
    "    a_items = extract_year_months(a_norm)\n",
    "    b_items = extract_year_months(b_norm)\n",
    "\n",
    "    if not a_items or not b_items:\n",
    "        return False\n",
    "\n",
    "    # Prefer to compare YYYY-MM\n",
    "    a_months = [x for x in a_items if \"-\" in x]\n",
    "    b_months = [x for x in b_items if \"-\" in x]\n",
    "    if a_months and b_months:\n",
    "        return set(a_months) == set(b_months)\n",
    "\n",
    "    # If no month → compare year\n",
    "    a_years = sorted({x.split(\"-\")[0] for x in a_items})\n",
    "    b_years = sorted({x.split(\"-\")[0] for x in b_items})\n",
    "\n",
    "    if a_years == b_years:\n",
    "        return True\n",
    "    if len(a_years) == 1 and a_years[0] in b_years:\n",
    "        return True\n",
    "    if len(b_years) == 1 and b_years[0] in a_years:\n",
    "        return True\n",
    "\n",
    "    # Single year allows ±1 tolerance\n",
    "    if len(a_years) == 1 and len(b_years) == 1 and abs(int(a_years[0]) - int(b_years[0])) <= 1:\n",
    "        return True\n",
    "\n",
    "    return False\n",
    "\n",
    "# === 8. Apply fuzzy matching ===\n",
    "merged[\"fuzzy_match\"] = merged.apply(\n",
    "    lambda row: is_fuzzy_match(row[\"normalized_report_year\"], row[\"chosen_rfyear\"]), axis=1\n",
    ")\n",
    "\n",
    "# === 9. Calculate accuracy ===\n",
    "total = len(merged)\n",
    "correct = merged[\"fuzzy_match\"].sum()\n",
    "accuracy = correct / total\n",
    "\n",
    "print(f\"✅ number of combined samples：{total}\")\n",
    "print(f\"✅ correct matches：{correct}\")\n",
    "print(f\"✅ Fuzzy Accuracy：{accuracy:.2%}\")\n",
    "\n",
    "# === 10. Save results ===\n",
    "# merged[[\"pdf_name\", \"chosen_rfyear\", \"normalized_report_year\", \"fuzzy_match\"]].to_csv(\n",
    "#     \"eval/report_years_comparison111.csv\", index=False\n",
    "# )"
   ]
  },
  {
   "cell_type": "markdown",
   "id": "b4fb4aaf",
   "metadata": {},
   "source": [
    " comparison of name"
   ]
  },
  {
   "cell_type": "code",
   "execution_count": 12,
   "id": "fe8c00e9",
   "metadata": {},
   "outputs": [
    {
     "name": "stdout",
     "output_type": "stream",
     "text": [
      "✅ Company name extraction accuracy (including alias matching):91.67%\n"
     ]
    }
   ],
   "source": [
    "import pandas as pd\n",
    "from difflib import SequenceMatcher\n",
    "import re\n",
    "import ast\n",
    "\n",
    "# === Step 1: Load files ===\n",
    "df_pred = pd.read_csv(\"results/pipeline9-mini-4-1.csv\")  # have company_name、other_names\n",
    "df_true = pd.read_csv(\"check/matching_gabarito_with_pdfs2.csv\")  # have name_2\n",
    "df_pred[\"filename\"] = df_pred[\"filename\"].str.strip()\n",
    "df_true[\"filename\"] = df_true[\"pdf_path\"].str.strip()\n",
    "\n",
    "df_merged = pd.merge(df_pred, df_true, on=\"filename\", how=\"inner\")\n",
    "\n",
    "# === Step 2: Cleaning function ===\n",
    "def _clean_name(name: str) -> str:\n",
    "    if pd.isna(name):\n",
    "        return \"\"\n",
    "    name = name.lower()\n",
    "    name = re.sub(r\"\\([^()]*\\)\", \"\", name)\n",
    "    name = re.sub(r\"[^\\w\\d\\s]\", \"\", name)\n",
    "    suffixes = [\n",
    "        \" company\", \" companies\", \" corporation\", \" incorporated\", \" corp\", \" llc\", \" ltd\", \" inc\", \n",
    "        \" oyj\", \" intl\", \" sa\", \" lp\", \" spa\", \" sanv\", \" nv\", \" plc\", \" nvsa\", \" ptd\", \n",
    "        \" int\", \" international\", \"limited\", \"group\", \"the \", \" holdings\", \" co\"\n",
    "    ]\n",
    "    for suffix in suffixes:\n",
    "        name = name.replace(suffix, \"\")\n",
    "    name = name.replace(\"é\", \"e\").replace(\"  \", \"\").replace(\" \", \"\")\n",
    "    return re.sub(r\"[^a-zA-Z0-9]\", \"\", name)\n",
    "\n",
    "# === Step 3: Matching function ===\n",
    "def fuzzy_match(clean_a, clean_b):\n",
    "    return SequenceMatcher(None, clean_a, clean_b).ratio()\n",
    "def get_best_match1(row):\n",
    "    target = _clean_name(row[\"name_2\"])\n",
    "    main_name = _clean_name(row[\"company_name\"])\n",
    "    best_score = fuzzy_match(main_name, target)\n",
    "    best_source = \"company_name\"\n",
    "\n",
    "    # Parse other_names: Support list or string (auto split)\n",
    "    candidates = []\n",
    "    if \"other_names\" in row and pd.notna(row[\"other_names\"]):\n",
    "        raw = row[\"other_names\"]\n",
    "        try:\n",
    "            if isinstance(raw, str):\n",
    "                if raw.startswith(\"[\"):  # Is list string\n",
    "                    candidates = ast.literal_eval(raw)\n",
    "                else:  # Otherwise split by common delimiters\n",
    "                    candidates = re.split(r\"[;,\\n]\", raw)\n",
    "            elif isinstance(raw, list):\n",
    "                candidates = raw\n",
    "        except Exception:\n",
    "            candidates = []\n",
    "\n",
    "    for alt in candidates:\n",
    "        alt_clean = _clean_name(alt)\n",
    "        score = fuzzy_match(alt_clean, target)\n",
    "        if score > best_score:\n",
    "            best_score = score\n",
    "            best_source = f\"other_names ({alt.strip()})\"\n",
    "\n",
    "    return pd.Series([best_score, best_score >= 0.85, best_source], index=[\"fuzzy_score\", \"is_correct\", \"matched_by\"])\n",
    "# === Step 4: Apply matching function ===\n",
    "df_merged[[\"fuzzy_score\", \"is_correct\", \"matched_by\"]] = df_merged.apply(get_best_match1, axis=1)\n",
    "\n",
    "# === Step 5: Output evaluation table ===\n",
    "df_eval = df_merged[[\"filename\", \"company_name\", \"other_names\", \"name_2\", \"fuzzy_score\", \"is_correct\", \"matched_by\"]]\n",
    "# df_eval.to_csv(\"pipeline_eval/7/company_name_eval.csv\", index=False)\n",
    "\n",
    "# === Step 6: Display accuracy ===\n",
    "accuracy = df_eval[\"is_correct\"].mean()\n",
    "print(f\"✅ Company name extraction accuracy (including alias matching):{accuracy:.2%}\")"
   ]
  },
  {
   "cell_type": "markdown",
   "id": "f2350f88",
   "metadata": {},
   "source": [
    "Comparison of classification"
   ]
  },
  {
   "cell_type": "code",
   "execution_count": 13,
   "id": "aa966172",
   "metadata": {},
   "outputs": [
    {
     "name": "stdout",
     "output_type": "stream",
     "text": [
      "accuracy: 91.36%\n",
      "✅ Saved to classification_comparison.xlsx\n"
     ]
    },
    {
     "name": "stderr",
     "output_type": "stream",
     "text": [
      "/var/folders/9z/mm8bj8yn2yj6rk7vdlhpt07h0000gn/T/ipykernel_22983/725209323.py:40: FutureWarning: DataFrame.applymap has been deprecated. Use DataFrame.map instead.\n",
      "  df_merged_cleaned = df_merged.applymap(clean_illegal_excel_chars)\n",
      "/opt/homebrew/Caskroom/miniconda/base/envs/irp_pdf/lib/python3.12/site-packages/sklearn/metrics/_classification.py:1706: UndefinedMetricWarning: Recall is ill-defined and being set to 0.0 in labels with no true samples. Use `zero_division` parameter to control this behavior.\n",
      "  _warn_prf(average, modifier, f\"{metric.capitalize()} is\", result.shape[0])\n",
      "/opt/homebrew/Caskroom/miniconda/base/envs/irp_pdf/lib/python3.12/site-packages/sklearn/metrics/_classification.py:1706: UndefinedMetricWarning: Recall is ill-defined and being set to 0.0 in labels with no true samples. Use `zero_division` parameter to control this behavior.\n",
      "  _warn_prf(average, modifier, f\"{metric.capitalize()} is\", result.shape[0])\n",
      "/opt/homebrew/Caskroom/miniconda/base/envs/irp_pdf/lib/python3.12/site-packages/sklearn/metrics/_classification.py:1706: UndefinedMetricWarning: Recall is ill-defined and being set to 0.0 in labels with no true samples. Use `zero_division` parameter to control this behavior.\n",
      "  _warn_prf(average, modifier, f\"{metric.capitalize()} is\", result.shape[0])\n"
     ]
    },
    {
     "name": "stdout",
     "output_type": "stream",
     "text": [
      "📊 detailed \n",
      "\n",
      "                       precision    recall  f1-score   support\n",
      "\n",
      "        annual report      0.600     0.750     0.667         8\n",
      "                error      0.000     0.000     0.000         0\n",
      "    integrated report      0.895     0.810     0.850        21\n",
      "                other      1.000     1.000     1.000         2\n",
      "sustainability report      1.000     0.980     0.990        50\n",
      "\n",
      "             accuracy                          0.914        81\n",
      "            macro avg      0.699     0.708     0.701        81\n",
      "         weighted avg      0.933     0.914     0.922        81\n",
      "\n"
     ]
    },
    {
     "data": {
      "image/png": "[encoded data removed]",
      "text/plain": [
       "<Figure size 600x500 with 2 Axes>"
      ]
     },
     "metadata": {},
     "output_type": "display_data"
    }
   ],
   "source": [
    "import pandas as pd\n",
    "\n",
    "# ==== 1. Set file paths ====\n",
    "\n",
    "human_label_path = \"check/pdf_classification.xlsx\"\n",
    "gpt_result_path = \"results/pipeline9-mini-4-1.csv\"\n",
    "\n",
    "# ==== 2. Read files ====\n",
    "df_human = pd.read_excel(human_label_path)\n",
    "df_gpt = pd.read_csv(gpt_result_path)\n",
    "\n",
    "# ==== 3. Normalize column names, ensure filename and report_type exist ====\n",
    "df_human.columns = [col.strip().lower() for col in df_human.columns]\n",
    "df_gpt.columns = [col.strip().lower() for col in df_gpt.columns]\n",
    "\n",
    "# ==== 4. Merge two tables ====\n",
    "df_merged = pd.merge(df_human, df_gpt, left_on=\"file_name\",\n",
    "    right_on=\"filename\",\n",
    "    how=\"left\")\n",
    "df_merged = df_merged.drop_duplicates(subset=\"file_name\", keep=\"first\")\n",
    "\n",
    "# ==== 6. Compare two classification results ====\n",
    "df_merged[\"report_type_human\"] = df_merged[\"report_type_human\"].str.strip().str.lower()\n",
    "df_merged[\"report_type_gpt\"] = df_merged[\"report_type\"].str.strip().str.lower()\n",
    "df_merged[\"is_correct\"] = df_merged[\"report_type_human\"] == df_merged[\"report_type_gpt\"]\n",
    "\n",
    "# ==== 7. Calculate accuracy ====\n",
    "accuracy = df_merged[\"is_correct\"].mean()\n",
    "print(f\"accuracy: {accuracy:.2%}\")\n",
    "\n",
    "# ==== 8. Export comparison results (optional) ====\n",
    "import re\n",
    "\n",
    "def clean_illegal_excel_chars(text):\n",
    "    if isinstance(text, str):\n",
    "        return re.sub(r\"[\\x00-\\x1F\\x7F]\", \"\", text)\n",
    "    return text\n",
    "\n",
    "# Clean illegal characters\n",
    "df_merged_cleaned = df_merged.applymap(clean_illegal_excel_chars)\n",
    "\n",
    "# Export again\n",
    "# df_merged_cleaned.to_excel(\"pipeline_eval/7/classification_comparison.xlsx\", index=False)\n",
    "print(\"✅ Saved to classification_comparison.xlsx\")\n",
    "# df_merged.to_excel(\"pipeline_eval/7/classification_comparison.xlsx\", index=False)\n",
    "# print(\"saved to classification_comparison_result.xlsx\")\n",
    "\n",
    "import sklearn\n",
    "from sklearn.metrics import classification_report, confusion_matrix\n",
    "\n",
    "# === Only keep non-empty comparison items (to prevent null values from affecting) ===\n",
    "valid = df_merged[~df_merged[\"report_type_human\"].isna() & ~df_merged[\"report_type_gpt\"].isna()]\n",
    "\n",
    "# === Print classification report ===\n",
    "report = classification_report(\n",
    "    valid[\"report_type_human\"], \n",
    "    valid[\"report_type_gpt\"], \n",
    "    digits=3, \n",
    "    output_dict=False  # Set to True to return dict\n",
    ")\n",
    "print(\"📊 detailed \\n\")\n",
    "print(report)\n",
    "\n",
    "# === Visualize confusion matrix (optional) ===\n",
    "import seaborn as sns\n",
    "import matplotlib.pyplot as plt\n",
    "\n",
    "cm = confusion_matrix(valid[\"report_type_human\"], valid[\"report_type_gpt\"], labels=valid[\"report_type_human\"].unique())\n",
    "plt.figure(figsize=(6,5))\n",
    "sns.heatmap(cm, annot=True, fmt='d', cmap='Blues',\n",
    "            xticklabels=valid[\"report_type_human\"].unique(),\n",
    "            yticklabels=valid[\"report_type_human\"].unique())\n",
    "plt.xlabel(\"Predicted\")\n",
    "plt.ylabel(\"True\")\n",
    "plt.title(\"Confusion Matrix\")\n",
    "plt.tight_layout()\n",
    "plt.show()"
   ]
  },
  {
   "cell_type": "code",
   "execution_count": null,
   "id": "159cdb87",
   "metadata": {},
   "outputs": [],
   "source": []
  },
  {
   "cell_type": "code",
   "execution_count": null,
   "id": "fc4bfcfc",
   "metadata": {},
   "outputs": [],
   "source": []
  },
  {
   "cell_type": "code",
   "execution_count": null,
   "id": "262b293c",
   "metadata": {},
   "outputs": [],
   "source": []
  },
  {
   "cell_type": "markdown",
   "id": "a6d141e8",
   "metadata": {},
   "source": [
    " Final Comparison of name"
   ]
  },
  {
   "cell_type": "code",
   "execution_count": 14,
   "id": "ad5fe5cb",
   "metadata": {},
   "outputs": [
    {
     "name": "stdout",
     "output_type": "stream",
     "text": [
      "✅ Company name extraction accuracy (alias + fallbacks): 93.63%\n",
      "📄 Saved: eval/company_name_eval_with_alias_and_fallback.csv\n"
     ]
    }
   ],
   "source": [
    "import pandas as pd\n",
    "from difflib import SequenceMatcher\n",
    "import re\n",
    "import ast\n",
    "\n",
    "# === Step 1: Load files ===\n",
    "df_pred = pd.read_csv(\"results/pipeline9-mini-4-1.csv\")              # 需包含: filename, company_name, other_names\n",
    "df_true = pd.read_csv(\"check/matching_gabarito_with_pdfs2.csv\")  # 需包含: pdf_path, name_2\n",
    "\n",
    "# Standardize/strip\n",
    "df_pred[\"filename\"] = df_pred[\"filename\"].astype(str).str.strip()\n",
    "df_true[\"filename\"] = df_true[\"pdf_path\"].astype(str).str.strip()\n",
    "df_pred[\"company_name\"] = df_pred[\"company_name\"].astype(str)  # Prevent NaN -> float\n",
    "df_pred[\"other_names\"] = df_pred.get(\"other_names\", \"\").fillna(\"\").astype(str)\n",
    "df_true[\"name_2\"] = df_true[\"name_2\"].astype(str)\n",
    "\n",
    "df_merged = pd.merge(df_pred, df_true, on=\"filename\", how=\"inner\")\n",
    "\n",
    "# === Step 2: Utility functions ===\n",
    "SUFFIXES = [\n",
    "    \" company\",\" companies\",\" corporation\",\" incorporated\",\" corp\",\" llc\",\" ltd\",\" inc\",\n",
    "    \" oyj\",\" intl\",\" sa\",\" lp\",\" spa\",\" sanv\",\" nv\",\" plc\",\" nvsa\",\" ptd\",\n",
    "    \" int\",\" international\",\"limited\",\"group\",\" holdings\",\" co\"\n",
    "]\n",
    "STOPWORDS = {\"group\",\"holdings\",\"company\",\"limited\",\"corporation\",\"inc\",\"co\",\"plc\",\"corp\",\"ltd\",\"llc\",\"sa\",\"nv\",\"oyj\",\"spa\",\"intl\",\"int\"}\n",
    "\n",
    "def safe_str(x):\n",
    "    return \"\" if x is None or (isinstance(x, float) and pd.isna(x)) else str(x)\n",
    "\n",
    "def _clean_name(name: str) -> str:\n",
    "    s = safe_str(name).lower()\n",
    "    s = re.sub(r\"\\([^()]*\\)\", \"\", s)           # Remove content in parentheses\n",
    "    s = re.sub(r\"[^\\w\\d\\s]\", \"\", s)            # Remove punctuation\n",
    "    for suf in SUFFIXES:\n",
    "        s = s.replace(suf, \"\")\n",
    "    s = re.sub(r\"\\s+\", \" \", s).strip()\n",
    "    return s\n",
    "\n",
    "def fuzzy_ratio(a, b):\n",
    "    return SequenceMatcher(None, _clean_name(a), _clean_name(b)).ratio()\n",
    "\n",
    "def split_other_names(raw):\n",
    "    text = safe_str(raw).strip()\n",
    "    if not text:\n",
    "        return []\n",
    "    # JSON list string\n",
    "    if text.startswith(\"[\"):\n",
    "        try:\n",
    "            lst = ast.literal_eval(text)\n",
    "            return [safe_str(x).strip() for x in lst if safe_str(x).strip()]\n",
    "        except Exception:\n",
    "            pass\n",
    "    # Common delimiters\n",
    "    parts = re.split(r\"[;,\\n|/]+\", text)\n",
    "    return [p.strip() for p in parts if p.strip()]\n",
    "\n",
    "def word_overlap(a, b):\n",
    "    wa = {w for w in re.findall(r\"\\b\\w+\\b\", safe_str(a).lower()) if w not in STOPWORDS and len(w) > 2}\n",
    "    wb = {w for w in re.findall(r\"\\b\\w+\\b\", safe_str(b).lower()) if w not in STOPWORDS and len(w) > 2}\n",
    "    return len(wa & wb) > 0\n",
    "\n",
    "def substr_match(a, b):\n",
    "    aa = _clean_name(a).replace(\" \", \"\")\n",
    "    bb = _clean_name(b).replace(\" \", \"\")\n",
    "    return (aa and bb) and (aa in bb or bb in aa)\n",
    "\n",
    "def acronym(name):\n",
    "    words = [w for w in re.findall(r\"\\b\\w+\\b\", safe_str(name).upper()) if w.lower() not in STOPWORDS and len(w) > 2]\n",
    "    return \"\".join(w[0] for w in words)\n",
    "\n",
    "def acronym_match(a, b):\n",
    "    ac = acronym(a)\n",
    "    bc = acronym(b)\n",
    "    return bool(ac) and ac == bc\n",
    "\n",
    "# === Step 3: Main matching logic (main name/alias + multiple fallbacks) ===\n",
    "STRICT = 0.85  # Strict threshold: fuzzy >= 0.85\n",
    "\n",
    "def get_best_match(row):\n",
    "    name_true = safe_str(row[\"name_2\"])\n",
    "    name_main = safe_str(row[\"company_name\"])\n",
    "    best_score = fuzzy_ratio(name_main, name_true)\n",
    "    matched_by = \"company_name\" if best_score >= STRICT else \"no_match\"\n",
    "\n",
    "    # Try alias first (take highest score)\n",
    "    cand_alias = split_other_names(row.get(\"other_names\", \"\"))\n",
    "    for alias in cand_alias:\n",
    "        score = fuzzy_ratio(alias, name_true)\n",
    "        if score > best_score:\n",
    "            best_score = score\n",
    "            matched_by = f\"other_names({alias})\" if score >= STRICT else \"no_match\"\n",
    "\n",
    "    is_correct = best_score >= STRICT\n",
    "\n",
    "    # === Fallback: If strict does not pass threshold, try word overlap / substring / acronym ===\n",
    "    if not is_correct:\n",
    "        if word_overlap(name_main, name_true):\n",
    "            is_correct = True\n",
    "            matched_by = \"fallback_word_overlap\"\n",
    "        elif any(word_overlap(a, name_true) for a in cand_alias):\n",
    "            is_correct = True\n",
    "            matched_by = \"fallback_word_overlap_from_alias\"\n",
    "        elif substr_match(name_main, name_true) or any(substr_match(a, name_true) for a in cand_alias):\n",
    "            is_correct = True\n",
    "            matched_by = \"fallback_substring\"\n",
    "        elif acronym_match(name_main, name_true) or any(acronym_match(a, name_true) for a in cand_alias):\n",
    "            is_correct = True\n",
    "            matched_by = \"fallback_acronym\"\n",
    "\n",
    "    return pd.Series({\n",
    "        \"fuzzy_score\": best_score,\n",
    "        \"is_correct\": bool(is_correct),\n",
    "        \"matched_by\": matched_by\n",
    "    })\n",
    "\n",
    "# === Step 4: Apply matching function ===\n",
    "df_merged[[\"fuzzy_score\", \"is_correct\", \"matched_by\"]] = df_merged.apply(get_best_match, axis=1)\n",
    "\n",
    "# === Step 5: Output evaluation table & accuracy ===\n",
    "df_eval = df_merged[[\"filename\", \"company_name\", \"other_names\", \"name_2\", \"fuzzy_score\", \"is_correct\", \"matched_by\"]]\n",
    "# df_eval.to_csv(\"pipeline_eval/7/company_name2.csv\", index=False)\n",
    "\n",
    "accuracy = df_eval[\"is_correct\"].mean()\n",
    "print(f\"✅ Company name extraction accuracy (alias + fallbacks): {accuracy:.2%}\")\n",
    "print(\"📄 Saved:\", \"eval/company_name_eval_with_alias_and_fallback.csv\")"
   ]
  },
  {
   "cell_type": "markdown",
   "id": "4f04b4d0",
   "metadata": {},
   "source": [
    "Python Library for name Comparison"
   ]
  },
  {
   "cell_type": "code",
   "execution_count": 15,
   "id": "be02a440",
   "metadata": {},
   "outputs": [
    {
     "name": "stdout",
     "output_type": "stream",
     "text": [
      "✅ Accuracy (name_matching only, threshold=85): 90.69%\n",
      "📄 Saved: eval/company_name_eval_name_matching_only.csv\n"
     ]
    }
   ],
   "source": [
    "import pandas as pd\n",
    "import re, ast\n",
    "from name_matching.name_matcher import NameMatcher\n",
    "\n",
    "# ===== 1) Read and align =====\n",
    "pred = pd.read_csv(\"results/pipeline9-mini-4-1.csv\")             \n",
    "true = pd.read_csv(\"check/matching_gabarito_with_pdfs2.csv\")  \n",
    "\n",
    "pred[\"filename\"] = pred[\"filename\"].astype(str).str.strip()\n",
    "true[\"filename\"] = true[\"pdf_path\"].astype(str).str.strip()\n",
    "\n",
    "df = pred.merge(true, on=\"filename\", how=\"inner\")\n",
    "\n",
    "# ===== 2) Build master library (teacher's standard names) =====\n",
    "master = (\n",
    "    df[[\"name_2\"]]\n",
    "    .dropna()\n",
    "    .drop_duplicates()\n",
    "    .rename(columns={\"name_2\": \"Company name\"})\n",
    "    .reset_index(drop=True)\n",
    ")\n",
    "\n",
    "# ===== 3) Expand candidates (company_name + other_names) =====\n",
    "def split_other_names(raw):\n",
    "    \"\"\"Support JSON list string or separated by semicolon/comma/newline/vertical bar/slash\"\"\"\n",
    "    if pd.isna(raw): \n",
    "        return []\n",
    "    s = str(raw).strip()\n",
    "    if not s:\n",
    "        return []\n",
    "    if s.startswith(\"[\"):\n",
    "        try:\n",
    "            lst = ast.literal_eval(s)\n",
    "            return [x.strip() for x in lst if isinstance(x, str) and x.strip()]\n",
    "        except Exception:\n",
    "            pass\n",
    "    parts = re.split(r\"[;,\\n|/]+\", s)\n",
    "    return [p.strip() for p in parts if p.strip()]\n",
    "\n",
    "rows = []\n",
    "for _, r in df.iterrows():\n",
    "    cands = [str(r.get(\"company_name\", \"\")).strip()]\n",
    "    cands += split_other_names(r.get(\"other_names\", \"\"))\n",
    "    for c in cands:\n",
    "        if c:\n",
    "            rows.append({\"filename\": r[\"filename\"], \"candidate\": c})\n",
    "cand_df = pd.DataFrame(rows).drop_duplicates()\n",
    "\n",
    "# If some files have no candidates, add an empty placeholder (to avoid losing join later)\n",
    "if cand_df.empty:\n",
    "    raise ValueError(\"No candidates found. Check columns: company_name / other_names.\")\n",
    "\n",
    "# ===== 4) Initialize name_matching and load master library =====\n",
    "matcher = NameMatcher(\n",
    "    number_of_matches=1,   # Only take the best hit per candidate\n",
    "    legal_suffixes=True,   # Automatically handle suffixes like Inc/LLC/Group\n",
    "    common_words=False,    # Do not filter common words (you can also try True)\n",
    "    top_n=50,              # Candidate pool size\n",
    "    verbose=False\n",
    ")\n",
    "\n",
    "# You can combine multiple distance metrics; recommended to try the group below (from official example)\n",
    "matcher.set_distance_metrics(['bag', 'typo', 'refined_soundex'])\n",
    "\n",
    "matcher.load_and_process_master_data(\n",
    "    column='Company name',\n",
    "    df_matching_data=master,\n",
    "    transform=True\n",
    ")\n",
    "\n",
    "# ===== 5) Perform matching =====\n",
    "matches = matcher.match_names(\n",
    "    to_be_matched=cand_df,\n",
    "    column_matching='candidate'\n",
    ")\n",
    "# matches contains: match_name (hit name_2), match_index, score(0-100)\n",
    "\n",
    "cand_scored = cand_df.join(matches)\n",
    "\n",
    "# ===== 6) Select the best hit for \"each file\" (highest score) =====\n",
    "best_per_file = (\n",
    "    cand_scored\n",
    "    .sort_values([\"filename\", \"score\"], ascending=[True, False])\n",
    "    .drop_duplicates(\"filename\")\n",
    "    .rename(columns={\"match_name\": \"matched_name_2\", \"score\": \"nm_score\"})\n",
    ")\n",
    "\n",
    "# ===== 7) Merge back to original df, evaluate =====\n",
    "eval_df = df.merge(best_per_file[[\"filename\", \"candidate\", \"matched_name_2\", \"nm_score\"]],\n",
    "                   on=\"filename\", how=\"left\")\n",
    "\n",
    "# Determine whether it matches: strict threshold (adjustable)\n",
    "STRICT = 85\n",
    "eval_df[\"is_correct\"] = (eval_df[\"nm_score\"].fillna(0) >= STRICT)\n",
    "\n",
    "# Mark match source: main name or alias\n",
    "def matched_by(row):\n",
    "    cname = str(row.get(\"company_name\", \"\")).strip()\n",
    "    cand  = str(row.get(\"candidate\", \"\")).strip()\n",
    "    if not cand:\n",
    "        return \"no_match\"\n",
    "    return \"company_name\" if cand == cname else \"other_names\"\n",
    "\n",
    "eval_df[\"matched_by\"] = eval_df.apply(matched_by, axis=1)\n",
    "\n",
    "# ===== 8) Output results =====\n",
    "out_cols = [\n",
    "    \"filename\", \"company_name\", \"other_names\", \"name_2\",\n",
    "    \"candidate\", \"matched_name_2\", \"nm_score\", \"is_correct\", \"matched_by\"\n",
    "]\n",
    "# eval_df[out_cols].to_csv(\"eval/company_name_eval_name_matching_only.csv\", index=False)\n",
    "\n",
    "acc = eval_df[\"is_correct\"].mean()\n",
    "print(f\"✅ Accuracy (name_matching only, threshold={STRICT}): {acc:.2%}\")\n",
    "print(\"📄 Saved: eval/company_name_eval_name_matching_only.csv\")"
   ]
  },
  {
   "cell_type": "code",
   "execution_count": null,
   "id": "c059e558",
   "metadata": {},
   "outputs": [],
   "source": []
  },
  {
   "cell_type": "code",
   "execution_count": null,
   "id": "4fc975c7",
   "metadata": {},
   "outputs": [],
   "source": []
  },
  {
   "cell_type": "code",
   "execution_count": null,
   "id": "16eaf9a8",
   "metadata": {},
   "outputs": [],
   "source": []
  }
 ],
 "metadata": {
  "kernelspec": {
   "display_name": "irp_pdf",
   "language": "python",
   "name": "python3"
  },
  "language_info": {
   "codemirror_mode": {
    "name": "ipython",
    "version": 3
   },
   "file_extension": ".py",
   "mimetype": "text/x-python",
   "name": "python",
   "nbconvert_exporter": "python",
   "pygments_lexer": "ipython3",
   "version": "3.12.9"
  }
 },
 "nbformat": 4,
 "nbformat_minor": 5
}
